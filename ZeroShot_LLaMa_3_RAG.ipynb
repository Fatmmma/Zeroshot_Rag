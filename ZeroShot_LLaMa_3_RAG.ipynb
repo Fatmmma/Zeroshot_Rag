{
  "cells": [
    {
      "cell_type": "code",
      "source": [
        "!pip install -q pypdf langchain langchain-community langchain-text-splitters\n",
        "!pip install -q sentence_transformers faiss-gpu tiktoken sentence-transformers\n",
        "!pip install sentencepiece\n",
        "!pip install -q accelerate==0.27.2 peft==0.8.2 bitsandbytes==0.40.2 transformers==4.31.0 trl==0.4.7\n",
        "!pip install 'transformers @ git+https://github.com/huggingface/transformers.git@831bc25d8fdb85768402f772cf65cc3d7872b211'"
      ],
      "metadata": {
        "colab": {
          "base_uri": "https://localhost:8080/"
        },
        "id": "SQ0zklwfDs0o",
        "outputId": "559e97f7-8e5a-40f8-c85e-3a1ec5855a0b"
      },
      "execution_count": 1,
      "outputs": [
        {
          "output_type": "stream",
          "name": "stdout",
          "text": [
            "\u001b[2K     \u001b[90m━━━━━━━━━━━━━━━━━━━━━━━━━━━━━━━━━━━━━━━━\u001b[0m \u001b[32m290.4/290.4 kB\u001b[0m \u001b[31m7.2 MB/s\u001b[0m eta \u001b[36m0:00:00\u001b[0m\n",
            "\u001b[2K     \u001b[90m━━━━━━━━━━━━━━━━━━━━━━━━━━━━━━━━━━━━━━━━\u001b[0m \u001b[32m817.7/817.7 kB\u001b[0m \u001b[31m16.1 MB/s\u001b[0m eta \u001b[36m0:00:00\u001b[0m\n",
            "\u001b[2K     \u001b[90m━━━━━━━━━━━━━━━━━━━━━━━━━━━━━━━━━━━━━━━━\u001b[0m \u001b[32m1.9/1.9 MB\u001b[0m \u001b[31m22.8 MB/s\u001b[0m eta \u001b[36m0:00:00\u001b[0m\n",
            "\u001b[2K     \u001b[90m━━━━━━━━━━━━━━━━━━━━━━━━━━━━━━━━━━━━━━━━\u001b[0m \u001b[32m299.3/299.3 kB\u001b[0m \u001b[31m21.6 MB/s\u001b[0m eta \u001b[36m0:00:00\u001b[0m\n",
            "\u001b[2K     \u001b[90m━━━━━━━━━━━━━━━━━━━━━━━━━━━━━━━━━━━━━━━━\u001b[0m \u001b[32m116.0/116.0 kB\u001b[0m \u001b[31m17.3 MB/s\u001b[0m eta \u001b[36m0:00:00\u001b[0m\n",
            "\u001b[2K     \u001b[90m━━━━━━━━━━━━━━━━━━━━━━━━━━━━━━━━━━━━━━━━\u001b[0m \u001b[32m49.4/49.4 kB\u001b[0m \u001b[31m6.9 MB/s\u001b[0m eta \u001b[36m0:00:00\u001b[0m\n",
            "\u001b[2K     \u001b[90m━━━━━━━━━━━━━━━━━━━━━━━━━━━━━━━━━━━━━━━━\u001b[0m \u001b[32m53.0/53.0 kB\u001b[0m \u001b[31m7.9 MB/s\u001b[0m eta \u001b[36m0:00:00\u001b[0m\n",
            "\u001b[2K     \u001b[90m━━━━━━━━━━━━━━━━━━━━━━━━━━━━━━━━━━━━━━━━\u001b[0m \u001b[32m141.1/141.1 kB\u001b[0m \u001b[31m15.8 MB/s\u001b[0m eta \u001b[36m0:00:00\u001b[0m\n",
            "\u001b[2K     \u001b[90m━━━━━━━━━━━━━━━━━━━━━━━━━━━━━━━━━━━━━━━━\u001b[0m \u001b[32m171.5/171.5 kB\u001b[0m \u001b[31m4.9 MB/s\u001b[0m eta \u001b[36m0:00:00\u001b[0m\n",
            "\u001b[2K     \u001b[90m━━━━━━━━━━━━━━━━━━━━━━━━━━━━━━━━━━━━━━━━\u001b[0m \u001b[32m85.5/85.5 MB\u001b[0m \u001b[31m9.3 MB/s\u001b[0m eta \u001b[36m0:00:00\u001b[0m\n",
            "\u001b[2K     \u001b[90m━━━━━━━━━━━━━━━━━━━━━━━━━━━━━━━━━━━━━━━━\u001b[0m \u001b[32m1.8/1.8 MB\u001b[0m \u001b[31m62.5 MB/s\u001b[0m eta \u001b[36m0:00:00\u001b[0m\n",
            "\u001b[?25hRequirement already satisfied: sentencepiece in /usr/local/lib/python3.10/dist-packages (0.1.99)\n",
            "\u001b[2K     \u001b[90m━━━━━━━━━━━━━━━━━━━━━━━━━━━━━━━━━━━━━━━━\u001b[0m \u001b[32m280.0/280.0 kB\u001b[0m \u001b[31m4.8 MB/s\u001b[0m eta \u001b[36m0:00:00\u001b[0m\n",
            "\u001b[2K     \u001b[90m━━━━━━━━━━━━━━━━━━━━━━━━━━━━━━━━━━━━━━━━\u001b[0m \u001b[32m183.4/183.4 kB\u001b[0m \u001b[31m7.9 MB/s\u001b[0m eta \u001b[36m0:00:00\u001b[0m\n",
            "\u001b[2K     \u001b[90m━━━━━━━━━━━━━━━━━━━━━━━━━━━━━━━━━━━━━━━━\u001b[0m \u001b[32m92.5/92.5 MB\u001b[0m \u001b[31m9.2 MB/s\u001b[0m eta \u001b[36m0:00:00\u001b[0m\n",
            "\u001b[2K     \u001b[90m━━━━━━━━━━━━━━━━━━━━━━━━━━━━━━━━━━━━━━━━\u001b[0m \u001b[32m7.4/7.4 MB\u001b[0m \u001b[31m97.5 MB/s\u001b[0m eta \u001b[36m0:00:00\u001b[0m\n",
            "\u001b[2K     \u001b[90m━━━━━━━━━━━━━━━━━━━━━━━━━━━━━━━━━━━━━━━━\u001b[0m \u001b[32m77.4/77.4 kB\u001b[0m \u001b[31m10.9 MB/s\u001b[0m eta \u001b[36m0:00:00\u001b[0m\n",
            "\u001b[2K     \u001b[90m━━━━━━━━━━━━━━━━━━━━━━━━━━━━━━━━━━━━━━━━\u001b[0m \u001b[32m7.8/7.8 MB\u001b[0m \u001b[31m106.7 MB/s\u001b[0m eta \u001b[36m0:00:00\u001b[0m\n",
            "\u001b[2K     \u001b[90m━━━━━━━━━━━━━━━━━━━━━━━━━━━━━━━━━━━━━━━━\u001b[0m \u001b[32m542.0/542.0 kB\u001b[0m \u001b[31m50.6 MB/s\u001b[0m eta \u001b[36m0:00:00\u001b[0m\n",
            "\u001b[2K     \u001b[90m━━━━━━━━━━━━━━━━━━━━━━━━━━━━━━━━━━━━━━━━\u001b[0m \u001b[32m116.3/116.3 kB\u001b[0m \u001b[31m16.0 MB/s\u001b[0m eta \u001b[36m0:00:00\u001b[0m\n",
            "\u001b[2K     \u001b[90m━━━━━━━━━━━━━━━━━━━━━━━━━━━━━━━━━━━━━━━━\u001b[0m \u001b[32m194.1/194.1 kB\u001b[0m \u001b[31m22.4 MB/s\u001b[0m eta \u001b[36m0:00:00\u001b[0m\n",
            "\u001b[2K     \u001b[90m━━━━━━━━━━━━━━━━━━━━━━━━━━━━━━━━━━━━━━━━\u001b[0m \u001b[32m134.8/134.8 kB\u001b[0m \u001b[31m18.0 MB/s\u001b[0m eta \u001b[36m0:00:00\u001b[0m\n",
            "\u001b[2K     \u001b[90m━━━━━━━━━━━━━━━━━━━━━━━━━━━━━━━━━━━━━━━━\u001b[0m \u001b[32m388.9/388.9 kB\u001b[0m \u001b[31m44.1 MB/s\u001b[0m eta \u001b[36m0:00:00\u001b[0m\n",
            "\u001b[?25h\u001b[31mERROR: pip's dependency resolver does not currently take into account all the packages that are installed. This behaviour is the source of the following dependency conflicts.\n",
            "sentence-transformers 2.7.0 requires transformers<5.0.0,>=4.34.0, but you have transformers 4.31.0 which is incompatible.\u001b[0m\u001b[31m\n",
            "\u001b[0mCollecting transformers@ git+https://github.com/huggingface/transformers.git@831bc25d8fdb85768402f772cf65cc3d7872b211\n",
            "  Cloning https://github.com/huggingface/transformers.git (to revision 831bc25d8fdb85768402f772cf65cc3d7872b211) to /tmp/pip-install-4ayvv69o/transformers_be9522fd38f24008bb4f12b14770b7d7\n",
            "  Running command git clone --filter=blob:none --quiet https://github.com/huggingface/transformers.git /tmp/pip-install-4ayvv69o/transformers_be9522fd38f24008bb4f12b14770b7d7\n",
            "  Running command git rev-parse -q --verify 'sha^831bc25d8fdb85768402f772cf65cc3d7872b211'\n",
            "  Running command git fetch -q https://github.com/huggingface/transformers.git 831bc25d8fdb85768402f772cf65cc3d7872b211\n",
            "  Running command git checkout -q 831bc25d8fdb85768402f772cf65cc3d7872b211\n",
            "  Resolved https://github.com/huggingface/transformers.git to commit 831bc25d8fdb85768402f772cf65cc3d7872b211\n",
            "  Installing build dependencies ... \u001b[?25l\u001b[?25hdone\n",
            "  Getting requirements to build wheel ... \u001b[?25l\u001b[?25hdone\n",
            "  Preparing metadata (pyproject.toml) ... \u001b[?25l\u001b[?25hdone\n",
            "Requirement already satisfied: filelock in /usr/local/lib/python3.10/dist-packages (from transformers@ git+https://github.com/huggingface/transformers.git@831bc25d8fdb85768402f772cf65cc3d7872b211) (3.13.4)\n",
            "Requirement already satisfied: huggingface-hub<1.0,>=0.19.3 in /usr/local/lib/python3.10/dist-packages (from transformers@ git+https://github.com/huggingface/transformers.git@831bc25d8fdb85768402f772cf65cc3d7872b211) (0.22.2)\n",
            "Requirement already satisfied: numpy>=1.17 in /usr/local/lib/python3.10/dist-packages (from transformers@ git+https://github.com/huggingface/transformers.git@831bc25d8fdb85768402f772cf65cc3d7872b211) (1.25.2)\n",
            "Requirement already satisfied: packaging>=20.0 in /usr/local/lib/python3.10/dist-packages (from transformers@ git+https://github.com/huggingface/transformers.git@831bc25d8fdb85768402f772cf65cc3d7872b211) (23.2)\n",
            "Requirement already satisfied: pyyaml>=5.1 in /usr/local/lib/python3.10/dist-packages (from transformers@ git+https://github.com/huggingface/transformers.git@831bc25d8fdb85768402f772cf65cc3d7872b211) (6.0.1)\n",
            "Requirement already satisfied: regex!=2019.12.17 in /usr/local/lib/python3.10/dist-packages (from transformers@ git+https://github.com/huggingface/transformers.git@831bc25d8fdb85768402f772cf65cc3d7872b211) (2023.12.25)\n",
            "Requirement already satisfied: requests in /usr/local/lib/python3.10/dist-packages (from transformers@ git+https://github.com/huggingface/transformers.git@831bc25d8fdb85768402f772cf65cc3d7872b211) (2.31.0)\n",
            "Collecting tokenizers<0.19,>=0.14 (from transformers@ git+https://github.com/huggingface/transformers.git@831bc25d8fdb85768402f772cf65cc3d7872b211)\n",
            "  Downloading tokenizers-0.15.2-cp310-cp310-manylinux_2_17_x86_64.manylinux2014_x86_64.whl (3.6 MB)\n",
            "\u001b[2K     \u001b[90m━━━━━━━━━━━━━━━━━━━━━━━━━━━━━━━━━━━━━━━━\u001b[0m \u001b[32m3.6/3.6 MB\u001b[0m \u001b[31m17.3 MB/s\u001b[0m eta \u001b[36m0:00:00\u001b[0m\n",
            "\u001b[?25hRequirement already satisfied: safetensors>=0.4.1 in /usr/local/lib/python3.10/dist-packages (from transformers@ git+https://github.com/huggingface/transformers.git@831bc25d8fdb85768402f772cf65cc3d7872b211) (0.4.3)\n",
            "Requirement already satisfied: tqdm>=4.27 in /usr/local/lib/python3.10/dist-packages (from transformers@ git+https://github.com/huggingface/transformers.git@831bc25d8fdb85768402f772cf65cc3d7872b211) (4.66.2)\n",
            "Requirement already satisfied: fsspec>=2023.5.0 in /usr/local/lib/python3.10/dist-packages (from huggingface-hub<1.0,>=0.19.3->transformers@ git+https://github.com/huggingface/transformers.git@831bc25d8fdb85768402f772cf65cc3d7872b211) (2023.6.0)\n",
            "Requirement already satisfied: typing-extensions>=3.7.4.3 in /usr/local/lib/python3.10/dist-packages (from huggingface-hub<1.0,>=0.19.3->transformers@ git+https://github.com/huggingface/transformers.git@831bc25d8fdb85768402f772cf65cc3d7872b211) (4.11.0)\n",
            "Requirement already satisfied: charset-normalizer<4,>=2 in /usr/local/lib/python3.10/dist-packages (from requests->transformers@ git+https://github.com/huggingface/transformers.git@831bc25d8fdb85768402f772cf65cc3d7872b211) (3.3.2)\n",
            "Requirement already satisfied: idna<4,>=2.5 in /usr/local/lib/python3.10/dist-packages (from requests->transformers@ git+https://github.com/huggingface/transformers.git@831bc25d8fdb85768402f772cf65cc3d7872b211) (3.7)\n",
            "Requirement already satisfied: urllib3<3,>=1.21.1 in /usr/local/lib/python3.10/dist-packages (from requests->transformers@ git+https://github.com/huggingface/transformers.git@831bc25d8fdb85768402f772cf65cc3d7872b211) (2.0.7)\n",
            "Requirement already satisfied: certifi>=2017.4.17 in /usr/local/lib/python3.10/dist-packages (from requests->transformers@ git+https://github.com/huggingface/transformers.git@831bc25d8fdb85768402f772cf65cc3d7872b211) (2024.2.2)\n",
            "Building wheels for collected packages: transformers\n",
            "  Building wheel for transformers (pyproject.toml) ... \u001b[?25l\u001b[?25hdone\n",
            "  Created wheel for transformers: filename=transformers-4.39.0.dev0-py3-none-any.whl size=8593747 sha256=75c1df4a11b64de7ce39add5bb594e648828c85071b57bde657573f563f43b30\n",
            "  Stored in directory: /root/.cache/pip/wheels/99/4e/61/f77f3304b34c02d423f062734227dbdf454fda65e2f08f42b8\n",
            "Successfully built transformers\n",
            "Installing collected packages: tokenizers, transformers\n",
            "  Attempting uninstall: tokenizers\n",
            "    Found existing installation: tokenizers 0.13.3\n",
            "    Uninstalling tokenizers-0.13.3:\n",
            "      Successfully uninstalled tokenizers-0.13.3\n",
            "  Attempting uninstall: transformers\n",
            "    Found existing installation: transformers 4.31.0\n",
            "    Uninstalling transformers-4.31.0:\n",
            "      Successfully uninstalled transformers-4.31.0\n",
            "Successfully installed tokenizers-0.15.2 transformers-4.39.0.dev0\n"
          ]
        }
      ]
    },
    {
      "cell_type": "code",
      "source": [
        "! gdown 1IIOZcpDSm8DS8atRAqLun6Fyur9pHSHH"
      ],
      "metadata": {
        "colab": {
          "base_uri": "https://localhost:8080/"
        },
        "id": "fX44ddS9FA9A",
        "outputId": "746d6096-3bc0-45e7-b200-54b466a8daf0"
      },
      "execution_count": 3,
      "outputs": [
        {
          "output_type": "stream",
          "name": "stdout",
          "text": [
            "Downloading...\n",
            "From: https://drive.google.com/uc?id=1IIOZcpDSm8DS8atRAqLun6Fyur9pHSHH\n",
            "To: /content/data.pdf\n",
            "\r  0% 0.00/1.19M [00:00<?, ?B/s]\r100% 1.19M/1.19M [00:00<00:00, 107MB/s]\n"
          ]
        }
      ]
    },
    {
      "cell_type": "code",
      "source": [
        "def rag(input_p):\n",
        "  from langchain_community.document_loaders import PyPDFLoader\n",
        "  book_path = '/content/data.pdf'\n",
        "  loader = PyPDFLoader(book_path)\n",
        "  pages = loader.load_and_split()\n",
        "\n",
        "  # clean pages\n",
        "  for page in pages:\n",
        "      content = page.page_content\n",
        "      len_before = len(content)\n",
        "      content = content.replace(\"\\n\", \"\").replace(\"\\t\", \"\").replace(\"-\", \"\")\n",
        "      len_after = len(content)\n",
        "      page.page_content = content\n",
        "\n",
        "\n",
        "  from langchain_text_splitters import RecursiveCharacterTextSplitter\n",
        "  splitter = RecursiveCharacterTextSplitter(\n",
        "      chunk_size=10_000_000,\n",
        "      chunk_overlap=50_000,\n",
        "      length_function=len,\n",
        "      is_separator_regex=False,\n",
        "  )\n",
        "\n",
        "  splitted_docs = splitter.transform_documents(pages)\n",
        "\n",
        "  texts = []\n",
        "  for doc in splitted_docs:\n",
        "      texts.append(doc.page_content)\n",
        "\n",
        "  from langchain_community.embeddings import HuggingFaceEmbeddings\n",
        "  model_kwargs = {'device': 'cuda'}\n",
        "  encode_kwargs = {'normalize_embeddings': False}\n",
        "  embedding_model_id = \"asafaya/bert-large-arabic\"\n",
        "  # embedding_model_id = \"meta-llama/Meta-Llama-3-8B\"\n",
        "  # embedding_model_id = \"TinyLlama/TinyLlama-1.1B-Chat-v1.0\"\n",
        "\n",
        "  hf = HuggingFaceEmbeddings(\n",
        "      model_name = embedding_model_id,\n",
        "      model_kwargs=model_kwargs,\n",
        "      encode_kwargs=encode_kwargs\n",
        "  )\n",
        "\n",
        "  from langchain_community.vectorstores import FAISS\n",
        "  db = FAISS.from_documents(splitted_docs, hf)\n",
        "\n",
        "  db.save_local(\"faiss_db\")\n",
        "  retriever = db.as_retriever()\n",
        "  docs = retriever.get_relevant_documents(input_p)\n",
        "  return docs[0].page_content"
      ],
      "metadata": {
        "id": "5_cnwwgIDr4e"
      },
      "execution_count": 11,
      "outputs": []
    },
    {
      "cell_type": "code",
      "execution_count": 12,
      "metadata": {
        "id": "J3t6uvvIDxSP"
      },
      "outputs": [],
      "source": [
        "import torch\n",
        "from transformers import (\n",
        "    AutoModelForCausalLM,\n",
        "    AutoTokenizer,\n",
        "    BitsAndBytesConfig,\n",
        "    # HfArgumentParser,\n",
        "    # TrainingArguments,\n",
        "    pipeline,\n",
        "    # logging,\n",
        ")\n",
        "from peft import LoraConfig, PeftModel"
      ]
    },
    {
      "cell_type": "code",
      "execution_count": 14,
      "metadata": {
        "id": "U_QCRmHfD5I3"
      },
      "outputs": [],
      "source": [
        "model_name = \"meta-llama/Meta-Llama-3-8B-Instruct\"\n",
        "\n",
        "\n",
        "################################################################################\n",
        "# QLoRA parameters\n",
        "################################################################################\n",
        "\n",
        "# LoRA attention dimension\n",
        "lora_r = 64\n",
        "\n",
        "# Alpha parameter for LoRA scaling\n",
        "lora_alpha = 16\n",
        "\n",
        "# Dropout probability for LoRA layers\n",
        "lora_dropout = 0.1\n",
        "\n",
        "# Activate 4-bit precision base model loading\n",
        "use_4bit = True\n",
        "\n",
        "# Compute dtype for 4-bit base models\n",
        "bnb_4bit_compute_dtype = \"float16\"\n",
        "\n",
        "# Quantization type (fp4 or nf4)\n",
        "bnb_4bit_quant_type = \"nf4\"\n",
        "\n",
        "# Activate nested quantization for 4-bit base models (double quantization)\n",
        "use_nested_quant = False\n",
        "\n",
        "# Load the entire model on the GPU 0\n",
        "device_map = {\"\": 0}"
      ]
    },
    {
      "cell_type": "code",
      "execution_count": 15,
      "metadata": {
        "colab": {
          "base_uri": "https://localhost:8080/",
          "height": 456,
          "referenced_widgets": [
            "5aa47d95b88e4d2090d50ebf473f9966",
            "513abf53d0a845b999a93e65cf28255b",
            "b59f74e94414434c9d8c6d19231bde52",
            "4ed1268e798b4de8b428f410166f8658",
            "bfe3da0660b74db4a271333640b0451a",
            "7a164e5c5bc9436faacd6325064ec077",
            "2223a4088cb84a3f9b4dd5b331e6c873",
            "73a3f94afc86410ca172ef35f2a5e2a9",
            "d9f0078e2cfc4ab6a969c853bc466c02",
            "13f69a6cbce9490baf2322a9caa36293",
            "eb6dce1e78154db5b54517765346cb99",
            "27de3e3c36dd43478f06d34d51e6ad1c",
            "6af4188c5624406cb995b71278be1bd2",
            "3d29d1392e474a02927a2f5c0b3f24b0",
            "423d485aec244c6bbd62b83bcc4df19a",
            "2caf33532592471f809bf7e02c03a4a2",
            "47403e383e02462abe99cc76fc10808e",
            "9cd39760ef97419282acd1436ad97961",
            "d0bfd5792b1a43888ada70ca37128d02",
            "6e2565c8b6ca4838b706e1e363bf88dc",
            "db182db0c8b34991be059151fd464bb0",
            "1c99428c1a104053bdf22611321dfeef",
            "a437cd25b21d416abeaa9a926fc31ab9",
            "23ff0bfbec1f436c9f3a28227bb8ffec",
            "d61a300ed9614e5d8bb5c7de7ec03ae8",
            "e935ec44ed6e41689b8000e2146a831e",
            "141811c2eb264501a1a5b2186e593305",
            "e154a78d9fda4061945f251d4d573a51",
            "072f8d549df84a90b5293ab738d1dcce",
            "d1260ba9857a4b2581119e327ad46278",
            "7a7adf7622b04f43a308dac37e53096e",
            "c4dfc559f8514e5db67c4b8d5baa0be4",
            "b0f11c9c8ac14705b91bab83d3312a09",
            "ed6b75847e3d4c4aa202b05b78aeb58f",
            "fe48b19d09e5482ca9fb94410388891d",
            "a1e4fa1cb4e547808e925a1c40c4270c",
            "dd31220438b34009b020647598742c7d",
            "338b6bdf3ef3498dbbf6604a0b9c7de2",
            "a1b8b47d42e04a938e6337822bf906bd",
            "0bec486b575b46ef9ca1cee3546bc7f7",
            "d05ae9f4b0a84c55bb6c50ac149eec67",
            "cbc0a4db288b49ec99102c794acc2a27",
            "d4b9b0eeb3d14b4b8969b1458c205ff8",
            "1826babdce8944e9b5a031c9a283351a",
            "904e03376f8e4dfe9f38c8667cac2972",
            "3741ac380dab46188f6905a575ed4d27",
            "01fd1205e38549d6a63e9ef8bb4d4a19",
            "b214550df3694898b68a08286fe969d5",
            "bb36a7bc13ab46839e66ff931cdd3897",
            "15651030e5734b9e8d7548fdd864e5a1",
            "159cb60fdc0e4bb3a0b297380a1b02b5",
            "518e9f0aa7154250a67075f15d2e99b7",
            "e996ba6cb09a481a9de9f2a8fc52a0e2",
            "75429c3433924b03a8595e66d1c3e950",
            "25996c0d6ee94d34b5cfe3d2c5d50d22",
            "0fac9cef8dd54c988d3632909484bad7",
            "b4e95a88e70f4bdbbab39d9d165381e2",
            "bc94ea464bd247e796c7c81a50472356",
            "a0a71702096042f684bd2ea08a37adff",
            "feb087b3b3b54c79a9647813369a847d",
            "ec15631f051347d0bfff4ac90106741a",
            "15efb7b95f064fa7aebfca25849e0bcc",
            "6e1d15b9a805404cac692cb75c8bc76e",
            "1eebd5f72f4b4ac5bceb703aed16f5b0",
            "dc5ac9b9930445e59b8d79ea58ce0454",
            "cac5e897cf4f4191a663649674f13292",
            "52da126705024fefa938807907def296",
            "35d1f44e6ec548959c74dd5fe08d9853",
            "cc22cc70b16d48b2bc97d0a946962d9a",
            "8c80a7048c1242f3be020ea08ee2460f",
            "9077be66cb764ff9974d48f7d519a18d",
            "66f3331ba37645c2869986fc6e216192",
            "306ec63fec064d81ae3440af3fb4bcb1",
            "8bb6f55cd9b64bcfab6d85d8767abc96",
            "28c7679df53748199f0ea88285dfc671",
            "10d13e316b364c8498c880bf656010d0",
            "1d64d374e13945dcbf7994a152f40c27",
            "ff6f9c50624c4cca8e569cc2f67b03d4",
            "60881e47d5934525a7bc26d109cd114c",
            "788b04f50db84da381b07f772c71b7f6",
            "fd1c4978b9dd4ca49d1f107fdc9acad1",
            "53fb31d250f041899a35a6354137e1f0",
            "caf71518239545ebaefb845d8ffb321c",
            "53f8b27e9a2b49da9f1353cb84d3882a",
            "21826a66e9544f29816c2ecc4d5f9e3a",
            "945ad4d99322428da816ea20fee2d3ea",
            "5592bf45271a48378a2a3e6f26bc73e5",
            "44335b63dfea4968b84fa5802cefb8be",
            "66519f8523084cbf92ffcce6c7819388",
            "fb31995f6eba4e669d8bac8171ca38b6",
            "fd280e0b051c47ae95932f5736347f4c",
            "8fa9fe65d84346d58606148ab70a1297",
            "b8e70a160779479caf71a9efc9b721ba",
            "b31417d378494e029485197c8bbd68cd",
            "746ef8bb27404a878a796e2cc68181d1",
            "225e67ecbfa646df9650a3d14cdd5295",
            "b142d68a7989430984328219def7aa16",
            "566dd8294748456a902abb953daa5ced",
            "4a0d0b98d83b4b54977f19b6a53f420d",
            "2dfd23221ef144cb886d274f3d1adecd",
            "1863152919d9407cbd6a4805c76991e0",
            "63812f771952431aaa88c19a20953160",
            "031288335b324b0f91c28d671135b74d",
            "bdb1158d6b1048e18f89da82614367f0",
            "6a4b0aea08fb4f9385f08d4951043f71",
            "2547fca4db3446c2b27d4ad3c9b94186",
            "9b6718f5a62f4e959a2a6c172ad7695c",
            "781d81a3158a42c3a4850989d670bd44",
            "78d71fc21af64ed3875b6d1d1bc201da",
            "6340034661e040799c1ac565e698af7a",
            "1047b61882ba438db6895179fcea06c1",
            "171e816d1d3d4b56891397bfc5856b4e",
            "2ebf3127703642c59b4093907b3b5b01",
            "663e860d15524f19b73596c7c595e515",
            "d53bfc877a094012843ba83e4168c4a1",
            "65357282a77145528869828acac78312",
            "deed5b808f59400680fb947ee5ec0cc3",
            "28b2f7766dca4b349e3f14aaed04b34e",
            "5fc99fb8b16b4077859614a5300e0942",
            "e40e2e26d4b84d86b11b8fee5f4e4d71",
            "bdb0d7d3d91a483785ebf9baee21dcc7",
            "c69a9f76884d43a8b1b949f8156e0edc",
            "bb3f70b13e5a4388a70589fe3c41b950",
            "2a7f1150ec784b1188e17f544a42922a",
            "d8d1698e41c545e3a62f74548458032b",
            "9de42fb1832344c3bb911778c8ebc517",
            "0db59e454cc24448b1ea8ec8f6a93902",
            "0d735e243b5b4e08bfbc60cca4a3cc82",
            "dccb5b597eeb45bcb14e3a7d1d276237",
            "7518751f8a2b4d83b6a28d6ed1dec842",
            "e391176c1c004c4a9f82d4accdc2e404",
            "a79355af6bed4eea97cbc099fcfa2044"
          ]
        },
        "id": "DSf8ULNVD7jo",
        "outputId": "a9f15c72-3311-4bdf-cefa-bb87e5f897be"
      },
      "outputs": [
        {
          "output_type": "display_data",
          "data": {
            "text/plain": [
              "config.json:   0%|          | 0.00/654 [00:00<?, ?B/s]"
            ],
            "application/vnd.jupyter.widget-view+json": {
              "version_major": 2,
              "version_minor": 0,
              "model_id": "5aa47d95b88e4d2090d50ebf473f9966"
            }
          },
          "metadata": {}
        },
        {
          "output_type": "display_data",
          "data": {
            "text/plain": [
              "model.safetensors.index.json:   0%|          | 0.00/23.9k [00:00<?, ?B/s]"
            ],
            "application/vnd.jupyter.widget-view+json": {
              "version_major": 2,
              "version_minor": 0,
              "model_id": "27de3e3c36dd43478f06d34d51e6ad1c"
            }
          },
          "metadata": {}
        },
        {
          "output_type": "display_data",
          "data": {
            "text/plain": [
              "Downloading shards:   0%|          | 0/4 [00:00<?, ?it/s]"
            ],
            "application/vnd.jupyter.widget-view+json": {
              "version_major": 2,
              "version_minor": 0,
              "model_id": "a437cd25b21d416abeaa9a926fc31ab9"
            }
          },
          "metadata": {}
        },
        {
          "output_type": "display_data",
          "data": {
            "text/plain": [
              "model-00001-of-00004.safetensors:   0%|          | 0.00/4.98G [00:00<?, ?B/s]"
            ],
            "application/vnd.jupyter.widget-view+json": {
              "version_major": 2,
              "version_minor": 0,
              "model_id": "ed6b75847e3d4c4aa202b05b78aeb58f"
            }
          },
          "metadata": {}
        },
        {
          "output_type": "display_data",
          "data": {
            "text/plain": [
              "model-00002-of-00004.safetensors:   0%|          | 0.00/5.00G [00:00<?, ?B/s]"
            ],
            "application/vnd.jupyter.widget-view+json": {
              "version_major": 2,
              "version_minor": 0,
              "model_id": "904e03376f8e4dfe9f38c8667cac2972"
            }
          },
          "metadata": {}
        },
        {
          "output_type": "display_data",
          "data": {
            "text/plain": [
              "model-00003-of-00004.safetensors:   0%|          | 0.00/4.92G [00:00<?, ?B/s]"
            ],
            "application/vnd.jupyter.widget-view+json": {
              "version_major": 2,
              "version_minor": 0,
              "model_id": "0fac9cef8dd54c988d3632909484bad7"
            }
          },
          "metadata": {}
        },
        {
          "output_type": "display_data",
          "data": {
            "text/plain": [
              "model-00004-of-00004.safetensors:   0%|          | 0.00/1.17G [00:00<?, ?B/s]"
            ],
            "application/vnd.jupyter.widget-view+json": {
              "version_major": 2,
              "version_minor": 0,
              "model_id": "52da126705024fefa938807907def296"
            }
          },
          "metadata": {}
        },
        {
          "output_type": "display_data",
          "data": {
            "text/plain": [
              "Loading checkpoint shards:   0%|          | 0/4 [00:00<?, ?it/s]"
            ],
            "application/vnd.jupyter.widget-view+json": {
              "version_major": 2,
              "version_minor": 0,
              "model_id": "ff6f9c50624c4cca8e569cc2f67b03d4"
            }
          },
          "metadata": {}
        },
        {
          "output_type": "display_data",
          "data": {
            "text/plain": [
              "generation_config.json:   0%|          | 0.00/187 [00:00<?, ?B/s]"
            ],
            "application/vnd.jupyter.widget-view+json": {
              "version_major": 2,
              "version_minor": 0,
              "model_id": "66519f8523084cbf92ffcce6c7819388"
            }
          },
          "metadata": {}
        },
        {
          "output_type": "stream",
          "name": "stderr",
          "text": [
            "You are calling `save_pretrained` to a 4-bit converted model, but your `bitsandbytes` version doesn't support it. If you want to save 4-bit models, make sure to have `bitsandbytes>=0.41.3` installed.\n"
          ]
        },
        {
          "output_type": "display_data",
          "data": {
            "text/plain": [
              "tokenizer_config.json:   0%|          | 0.00/51.0k [00:00<?, ?B/s]"
            ],
            "application/vnd.jupyter.widget-view+json": {
              "version_major": 2,
              "version_minor": 0,
              "model_id": "2dfd23221ef144cb886d274f3d1adecd"
            }
          },
          "metadata": {}
        },
        {
          "output_type": "display_data",
          "data": {
            "text/plain": [
              "tokenizer.json:   0%|          | 0.00/9.09M [00:00<?, ?B/s]"
            ],
            "application/vnd.jupyter.widget-view+json": {
              "version_major": 2,
              "version_minor": 0,
              "model_id": "1047b61882ba438db6895179fcea06c1"
            }
          },
          "metadata": {}
        },
        {
          "output_type": "display_data",
          "data": {
            "text/plain": [
              "special_tokens_map.json:   0%|          | 0.00/73.0 [00:00<?, ?B/s]"
            ],
            "application/vnd.jupyter.widget-view+json": {
              "version_major": 2,
              "version_minor": 0,
              "model_id": "c69a9f76884d43a8b1b949f8156e0edc"
            }
          },
          "metadata": {}
        },
        {
          "output_type": "stream",
          "name": "stderr",
          "text": [
            "Special tokens have been added in the vocabulary, make sure the associated word embeddings are fine-tuned or trained.\n"
          ]
        }
      ],
      "source": [
        "# Load tokenizer and model with QLoRA configuration\n",
        "compute_dtype = getattr(torch, bnb_4bit_compute_dtype)\n",
        "\n",
        "bnb_config = BitsAndBytesConfig(\n",
        "    load_in_4bit=use_4bit,\n",
        "    bnb_4bit_quant_type=bnb_4bit_quant_type,\n",
        "    bnb_4bit_compute_dtype=compute_dtype,\n",
        "    bnb_4bit_use_double_quant=use_nested_quant,\n",
        ")\n",
        "\n",
        "# Check GPU compatibility with bfloat16\n",
        "if compute_dtype == torch.float16 and use_4bit:\n",
        "    major, _ = torch.cuda.get_device_capability()\n",
        "    if major >= 8:\n",
        "        print(\"=\" * 80)\n",
        "        print(\"Your GPU supports bfloat16: accelerate training with bf16=True\")\n",
        "        print(\"=\" * 80)\n",
        "\n",
        "# Load base model\n",
        "model = AutoModelForCausalLM.from_pretrained(\n",
        "    model_name,\n",
        "    quantization_config=bnb_config,\n",
        "    device_map=device_map\n",
        ")\n",
        "model.config.use_cache = False\n",
        "model.config.pretraining_tp = 1\n",
        "\n",
        "# Load LLaMA tokenizer\n",
        "#tokenizer = AutoTokenizer.from_pretrained('mrm8488/phi-2-coder', use_fast=False)\n",
        "tokenizer = AutoTokenizer.from_pretrained(model_name, trust_remote_code=True)\n",
        "tokenizer.pad_token = tokenizer.eos_token\n",
        "tokenizer.padding_side = \"right\" # Fix weird overflow issue with fp16 training\n",
        "\n",
        "# Load LoRA configuration\n",
        "peft_config = LoraConfig(\n",
        "    lora_alpha=lora_alpha,\n",
        "    lora_dropout=lora_dropout,\n",
        "    r=lora_r,\n",
        "    bias=\"none\",\n",
        "    task_type=\"CAUSAL_LM\",\n",
        ")"
      ]
    },
    {
      "cell_type": "code",
      "execution_count": 16,
      "metadata": {
        "id": "Osv9vju_gUQL"
      },
      "outputs": [],
      "source": [
        "generator = pipeline(\n",
        "    \"text-generation\",\n",
        "    model=model,\n",
        "    tokenizer = tokenizer,\n",
        ")"
      ]
    },
    {
      "cell_type": "code",
      "execution_count": 23,
      "metadata": {
        "id": "a8cjaidafhpe"
      },
      "outputs": [],
      "source": [
        "def generate_arabic_answer(question):\n",
        "\n",
        "    # Generate response using the model\n",
        "    generation = generator(question, max_length=1500, num_return_sequences=1)\n",
        "\n",
        "    # Extract the generated text and handle potential issues with generation\n",
        "    if generation:\n",
        "        answer = generation[0]['generated_text']\n",
        "        print(\"Question:\", question)\n",
        "        print(\"Answer:\", answer)\n",
        "        return answer\n",
        "    else:\n",
        "        print(\"No valid answer was generated.\")\n",
        "        return None\n"
      ]
    },
    {
      "cell_type": "code",
      "source": [
        "def l_lama3(arabic_question):\n",
        "  doc = rag(arabic_question)\n",
        "  promt = f\"{arabic_question} إليك بعض المستندات  لمساعدتك في الإجابة الصحيحة {doc[:1000]}\"\n",
        "  generate_arabic_answer(promt)"
      ],
      "metadata": {
        "id": "0BDgepyAH_y7"
      },
      "execution_count": 30,
      "outputs": []
    },
    {
      "cell_type": "code",
      "execution_count": 31,
      "metadata": {
        "colab": {
          "base_uri": "https://localhost:8080/"
        },
        "id": "3f5wdxEjkdqP",
        "outputId": "cf3e7bee-23b6-4e28-e9ee-f97b34d1c257"
      },
      "outputs": [
        {
          "output_type": "stream",
          "name": "stderr",
          "text": [
            "WARNING:sentence_transformers.SentenceTransformer:No sentence-transformers model found with name asafaya/bert-large-arabic. Creating a new one with MEAN pooling.\n",
            "Setting `pad_token_id` to `eos_token_id`:128001 for open-end generation.\n"
          ]
        },
        {
          "output_type": "stream",
          "name": "stdout",
          "text": [
            "Question: ما هو تعريف الحضارة الرومانية؟ إليك بعض المستندات  لمساعدتك في الإجابة الصحيحة وبذلك تعرض المصريون لألوان العذاب لاعتناقهم مذهبا مخالفا لمذهب الإمبراطورية.    كان المجتمع المصري في ذلك العهد يحيا في أسوأ أيامه حيث السلطة والإدارة والوظائف في يد الرومان واليونان وبعض اليهود من المتقربين إلى الرومان، والمصريون محرومون حتى من التمتع بخيرات بلادهم، لفرض الضرائب الباهظة المتعددة  عليهم وكذلك حرمانهم من الاشتراك في الجيش، مما جعلهم يعيشون كالغرباء عنها، وإذا وصل بعضهم إلى منصب دينى فإننا نجد الاضطهاد ينصب على هؤلاء القادة الدينيين، مما حمل فريق كبير منهم على الفرار بعقيدته إلى الأديرة والكهوف المنتشرة في أنحاء مصر واتخذوا عادة التنسك التي أخذوها عن اليهود، فازداد عدد الأديار تبعا لذلك وكثر عدد أعضائها الذين أعطوا لأنفسهم حق الإعفاء من الوظائف غير المأجورة وغيرها، وشذ بعض من هؤلاء فاحترفوا السطو والنهب.    وعلى هذا نقول أن المجتمع المصري في هذه الفترة كان على طبقتين:    1_ طبقة الرومان: وهم المنعمون المرفهون الذين يسكنون الحواضر ويتمتعون بخيرات البلاد.    2_ طبقة المصريين: الطبقة الكادحة الذين يعيشون في عناء وشقاء.     العصر القبطي  العصر القبطي تسمية غير رسمية لمصر الر\n",
            "Answer: ما هو تعريف الحضارة الرومانية؟ إليك بعض المستندات  لمساعدتك في الإجابة الصحيحة وبذلك تعرض المصريون لألوان العذاب لاعتناقهم مذهبا مخالفا لمذهب الإمبراطورية.    كان المجتمع المصري في ذلك العهد يحيا في أسوأ أيامه حيث السلطة والإدارة والوظائف في يد الرومان واليونان وبعض اليهود من المتقربين إلى الرومان، والمصريون محرومون حتى من التمتع بخيرات بلادهم، لفرض الضرائب الباهظة المتعددة  عليهم وكذلك حرمانهم من الاشتراك في الجيش، مما جعلهم يعيشون كالغرباء عنها، وإذا وصل بعضهم إلى منصب دينى فإننا نجد الاضطهاد ينصب على هؤلاء القادة الدينيين، مما حمل فريق كبير منهم على الفرار بعقيدته إلى الأديرة والكهوف المنتشرة في أنحاء مصر واتخذوا عادة التنسك التي أخذوها عن اليهود، فازداد عدد الأديار تبعا لذلك وكثر عدد أعضائها الذين أعطوا لأنفسهم حق الإعفاء من الوظائف غير المأجورة وغيرها، وشذ بعض من هؤلاء فاحترفوا السطو والنهب.    وعلى هذا نقول أن المجتمع المصري في هذه الفترة كان على طبقتين:    1_ طبقة الرومان: وهم المنعمون المرفهون الذين يسكنون الحواضر ويتمتعون بخيرات البلاد.    2_ طبقة المصريين: الطبقة الكادحة الذين يعيشون في عناء وشقاء.     العصر القبطي  العصر القبطي تسمية غير رسمية لمصر الرمية في الفترة من 332 ق.م. إلى 395 م.، عندما كانت مصر تحت حكم الإمبراطورية القبطية.    في هذه الفترة كان هناك تحول في المجتمع المصري، حيث بدأ الأهالي في استعادة بعض الحريات والحقوق التي فقدوها في الفترة الرومانية.    ومع ذلك، كان هناك أيضاً تآكل في المجتمع، حيث بدأ الأهالي في فقدان بعض معالمهم الدينية والثقافية، مثل معالمهم الدينية القديمة والثقافية واللغة القديمة، والتي بدأت في التغيير والاستبدال باللغة القبطية والثقافة القبطية.    وكان هناك أيضاً تآكل في النشاط الاقتصادي، حيث بدأ الأهالي في فقدان بعض أهم مزارعهم والمراكز الاقتصادية، مثل مزارع النيل والمراكز التجارية، والتي بدأت في التغيير والاستبدال بالمراكز القبطية الجديدة.    وكان هناك أيضاً تآكل في النشاط السياسي، حيث بدأ الأهالي في فقدان بعض أهم مناصبهم السياسية والقضائية، مثل مناصبهم في الإدارة والقضاء، والتي بدأت في التغيير والاستبدال بالمناصب القبطية الجديدة.    وكان هناك أيضاً تآكل في النشاط الثقافي، حيث بدأ الأهالي في فقدان بعض أهم معالمهم الثقافية والدينية، مثل معالمهم الدينية والثقافية القديمة واللغة القديمة، والتي بدأت في التغيير والاستبدال باللغة القبطية والثقافة القبطية.    وكان هناك أيضاً تآكل في النشاط الديني، حيث بدأ الأهالي في فقدان بعض أهم معالمهم الدينية والثقافية، مثل معالمهم الدينية والثقافية القديمة واللغة القديمة، والتي بدأت في التغيير والاستبدال باللغة القبطية والثقافة القبطية.    وكان هناك أيضاً تآكل في النشاط الاقتصادي، حيث بدأ الأهالي في فقدان بعض أهم مزارعهم والمراكز الاقتصادية، مثل مزارع النيل والمراكز التجارية، والتي بدأت في التغيير والاستبدال بالمراكز القبطية الجديدة.    وكان هناك أيضاً تآكل في النشاط السياسي، حيث بدأ الأهالي في فقدان بعض أهم مناصبهم السياسية والقضائية، مثل مناصبهم في الإدارة والقضاء، والتي بدأت في التغيير والاستبدال بالمناصب القبطية الجديدة.    وكان هناك أيضاً تآكل في النشاط الثقافي، حيث بدأ الأهالي في فقدان بعض أهم معالمهم الثقافية والدينية، مثل معالمهم الدينية والثقافية القديمة واللغة القديمة، والتي بدأت في التغيير والاستبدال باللغة القبطية والثقافة القبطية.    وكان هناك أيضاً تآكل في النشاط الديني، حيث بدأ الأهالي في فقدان بعض أهم معالمهم الدينية والثقافية، مثل معالمهم الدينية والثقافية القديمة واللغة القديمة، والتي بدأت في التغيير والاستبدال باللغة القبطية والثقافة القبطية.    وكان هناك أيضاً تآكل في النشاط الاقتصادي، حيث بدأ الأهالي في فقدان بعض أهم مزارعهم والمراكز الاقتصادية، مثل مزارع النيل والمراكز التجارية، والتي بدأت في التغيير والاستبدال بالمراكز القبطية الجديدة.    وكان هناك أيضاً تآكل في النشاط السياسي، حيث بدأ الأهالي في فقدان بعض أهم مناصبهم السياسية والقضائية، مثل مناصبهم في الإدارة والقضاء، والتي بدأت في التغيير والاستبدال بالمناصب القبطية الجديدة.    وكان هناك أيضاً تآكل في النشاط الثقافي، حيث بدأ الأهالي في فقدان بعض أهم معالمهم الثقافية والدينية، مثل معالمهم الدينية والثقافية القديمة واللغة القديمة، والتي بدأت في التغيير والاستبدال باللغة القبطية والثقافة القبطية.    وكان هناك أيضاً تآكل في النشاط الديني، حيث بدأ الأهالي في فقدان بعض أهم معالمهم الدينية والثقافية، مثل معالمهم الدينية والثقافية القديمة واللغة القديمة، والتي بدأت في التغيير والاستبدال باللغة\n"
          ]
        }
      ],
      "source": [
        "arabic_question =\"ما هو تعريف الحضارة الرومانية؟\"\n",
        "l_lama3(arabic_question)"
      ]
    },
    {
      "cell_type": "code",
      "execution_count": 32,
      "metadata": {
        "colab": {
          "base_uri": "https://localhost:8080/"
        },
        "id": "u1gaZhXdkuDw",
        "outputId": "b9d8069f-781c-4463-f811-58bd15735d87"
      },
      "outputs": [
        {
          "output_type": "stream",
          "name": "stderr",
          "text": [
            "WARNING:sentence_transformers.SentenceTransformer:No sentence-transformers model found with name asafaya/bert-large-arabic. Creating a new one with MEAN pooling.\n",
            "Setting `pad_token_id` to `eos_token_id`:128001 for open-end generation.\n"
          ]
        },
        {
          "output_type": "stream",
          "name": "stdout",
          "text": [
            "Question: ما هي أشهر الملوك والفراعنة في الحضارة المصرية القديمة؟ إليك بعض المستندات  لمساعدتك في الإجابة الصحيحة ظهرت الكتابة لأول مرة مع الملكية على العلامات والتسميات للمواد التي وجدت في المقابر الملكية. كان هذا في المقام الأول  هو مهنة الكُتاب، الذين عملوا من مؤسسة مفتاح الحياة  أو دار الحياة. وقد ضم الأخير مكاتب ومكتبات (سميت دار الكتب) ومعامل ومراصد فلكية[109] وكانت أشهر قطع الأدب المصري القديم مثل نصوص الأهرام ونصوص التوابيت مكتوبةبالكلاسيكية المصرية.    من الأدب المصري القديم ظهر الحكيم بتاح حتب الذي كتب وصايا في الأخلاق والتعامل، يعتبر كتابه في الحكمة (تعاليم بتاح  حتب) أول كتاب في تاريخ البشرية عن الأخلاق وحسن السلوك . عاصر بتاح حتب الملك جد كا رع (2414  2375 قبلالميلاد، من الأسرة الخامسة) وعمل وزيرا له .   استمرت الكتابة الهيروغليفية الكلاسيكية بكونها لغة وطريقة الكتابة حتى حوالي 1300 ق.م. وبالنسبة لقواعد اللغة فقدوصلت ذروتها خلال الدولة الوسطى. ومعها كثرت الكتابة على البردي باستخدام شكل أخر من اللغة المصرية والذي بدأ في  الدولة الحديثة وفيما تلى، وقد تمثل هذا الشكل الحديث في وثائق راميسيد الإدارة، وقصائد الحب والقصص، بل وحتى  النصوص الشعبية والقبطية. وخلال هذه الفترة، تطورت تقاليد الكت\n",
            "Answer: ما هي أشهر الملوك والفراعنة في الحضارة المصرية القديمة؟ إليك بعض المستندات  لمساعدتك في الإجابة الصحيحة ظهرت الكتابة لأول مرة مع الملكية على العلامات والتسميات للمواد التي وجدت في المقابر الملكية. كان هذا في المقام الأول  هو مهنة الكُتاب، الذين عملوا من مؤسسة مفتاح الحياة  أو دار الحياة. وقد ضم الأخير مكاتب ومكتبات (سميت دار الكتب) ومعامل ومراصد فلكية[109] وكانت أشهر قطع الأدب المصري القديم مثل نصوص الأهرام ونصوص التوابيت مكتوبةبالكلاسيكية المصرية.    من الأدب المصري القديم ظهر الحكيم بتاح حتب الذي كتب وصايا في الأخلاق والتعامل، يعتبر كتابه في الحكمة (تعاليم بتاح  حتب) أول كتاب في تاريخ البشرية عن الأخلاق وحسن السلوك . عاصر بتاح حتب الملك جد كا رع (2414  2375 قبلالميلاد، من الأسرة الخامسة) وعمل وزيرا له .   استمرت الكتابة الهيروغليفية الكلاسيكية بكونها لغة وطريقة الكتابة حتى حوالي 1300 ق.م. وبالنسبة لقواعد اللغة فقدوصلت ذروتها خلال الدولة الوسطى. ومعها كثرت الكتابة على البردي باستخدام شكل أخر من اللغة المصرية والذي بدأ في  الدولة الحديثة وفيما تلى، وقد تمثل هذا الشكل الحديث في وثائق راميسيد الإدارة، وقصائد الحب والقصص، بل وحتى  النصوص الشعبية والقبطية. وخلال هذه الفترة، تطورت تقاليد الكتابة واللغة المصرية، فتمثلها في وثائق راميسيد الإدارة، وقصائد الحب والقصص، بل وحتى  النصوص الشعبية والقبطية.\n",
            "\n",
            "#### كتابات مخصصة\n",
            "\n",
            "كما أن هناك كتابات مخصصة مثل كتابات الأهرام، كتابات التوابيت، كتابات المummies، كتابات الكهنة، كتابات السفاح، كتابات القوارير، كتابات الدير، كتابات السجلات، كتابات المذاب، كتابات المزاد، كتابات المخزن، كتابات المكاتب، كتابات المدارس، كتابات المدارس، كتابات المدارس، كتابات المدارس، كتابات المدارس، كتابات المدارس، كتابات المدارس، كتابات المدارس، كتابات المدارس، كتابات المدارس، كتابات المدارس، كتابات المدارس، كتابات المدارس، كتابات المدارس، كتابات المدارس، كتابات المدارس، كتابات المدارس، كتابات المدارس، كتابات المدارس، كتابات المدارس، كتابات المدارس، كتابات المدارس، كتابات المدارس، كتابات المدارس، كتابات المدارس، كتابات المدارس، كتابات المدارس، كتابات المدارس، كتابات المدارس، كتابات المدارس، كتابات المدارس، كتابات المدارس، كتابات المدارس، كتابات المدارس، كتابات المدارس، كتابات المدارس، كتابات المدارس، كتابات المدارس، كتابات المدارس، كتابات المدارس، كتابات المدارس، كتابات المدارس، كتابات المدارس، كتابات المدارس، كتابات المدارس، كتابات المدارس، كتابات المدارس، كتابات المدارس، كتابات المدارس، كتابات المدارس، كتابات المدارس، كتابات المدارس، كتابات المدارس، كتابات المدارس، كتابات المدارس، كتابات المدارس، كتابات المدارس، كتابات المدارس، كتابات المدارس، كتابات المدارس، كتابات المدارس، كتابات المدارس، كتابات المدارس، كتابات المدارس، كتابات المدارس، كتابات المدارس، كتابات المدارس، كتابات المدارس، كتابات المدارس، كتابات المدارس، كتابات المدارس، كتابات المدارس، كتابات المدارس، كتابات المدارس، كتابات المدارس، كتابات المدارس، كتابات المدارس، كتابات المدارس، كتابات المدارس، كتابات المدارس، كتابات المدارس، كتابات المدارس، كتابات المدارس، كتابات المدارس، كتابات المدارس، كتابات المدارس، كتابات المدارس، كتابات المدارس، كتابات المدارس، كتابات المدارس، كتابات المدارس، كتابات المدارس، كتابات المدارس، كتابات المدارس، كتابات المدارس، كتابات المدارس، كتابات المدارس، كتابات المدارس، كتابات المدارس، كتابات المدارس، كتابات المدارس، كتابات المدارس، كتابات المدارس، كتابات المدارس، كتابات المدارس، كتابات المدارس، كتابات المدارس، كتابات المدارس، كتابات المدارس، كتابات المدارس، كتابات المدارس، كتابات المدارس، كتابات المدارس، كتابات المدارس، كتابات المدارس، كتابات المدارس، كتابات المدارس، كتابات المدارس، كتابات المدارس، كتابات المدارس، كتابات المدارس، كتابات المدارس، كتابات المدارس، كتابات المدارس، كتابات المدارس، كتابات المدارس، كتابات المدارس، كتابات المدارس، كتابات المدارس، كتابات المدارس، كتابات المدارس، كتابات المدارس، كتابات المدارس، كتابات المدارس، كتابات المدارس، كتابات المدارس، كتابات المدارس، كتابات المدارس، كتابات المدارس، كتابات المدارس، كتابات المدارس، كتابات المدارس، كتابات المدارس، كتابات المدارس، كتابات المدارس، كتابات المدارس، كتابات المدارس، كتابات المدارس، كتابات المدارس، كتابات المدارس، كتابات المدارس، كتابات المدارس، كتابات المدارس، كتابات المدارس، كتابات المدارس، كتابات المدارس، كتابات المدارس، كتابات الم\n"
          ]
        }
      ],
      "source": [
        "arabic_question =\"ما هي أشهر الملوك والفراعنة في الحضارة المصرية القديمة؟\"\n",
        "l_lama3(arabic_question)"
      ]
    },
    {
      "cell_type": "code",
      "execution_count": 33,
      "metadata": {
        "colab": {
          "base_uri": "https://localhost:8080/"
        },
        "id": "PCG4uzXtk8FW",
        "outputId": "73b3bbe1-cb02-4652-e0aa-a791f7f4e622"
      },
      "outputs": [
        {
          "output_type": "stream",
          "name": "stderr",
          "text": [
            "WARNING:sentence_transformers.SentenceTransformer:No sentence-transformers model found with name asafaya/bert-large-arabic. Creating a new one with MEAN pooling.\n",
            "Setting `pad_token_id` to `eos_token_id`:128001 for open-end generation.\n"
          ]
        },
        {
          "output_type": "stream",
          "name": "stdout",
          "text": [
            "Question: وفاه توت عنخ امون ؟ إليك بعض المستندات  لمساعدتك في الإجابة الصحيحة أتون، وهاجم سلطة وقوة المؤسسة الكهنوتية في ذلك الوقت43]  إلى مدينة أخناتون الجديدة (تلالعمارنة حالياً)، ولم يكترث للشؤون الخارجية وانكب  على استيعاب نفسه في دينة الجديد وأسلوبه الفني. بعد وفاته، تم التخلي  سريعاً عن عبادة  أتون، وقام كل  من توت عنخ أمون وخپر خپرو رع آي، وحورمحب بمسح جميع التفاصيل العائدة  لبدعة  إخناتون، أو كما تعرف باسم فترة تل العمارنة[44]    وعند تولي رمسيس الثاني العرش، والمعروف أيضاً برمسيس العظيم، وذلك في حوالي1279  ق.م، عمل على بناء المزيد  من المعابد، وإقامة المزيد من التماثيل والمسلات، بالإضافة لإنجابه أطفال أكثر من أي فرعون في التاريخ45]في معركة قادش ضد الحيثيين، والتي أسفرت وبعد قتالٍ عنيف دام لأكثر من 15 عاماً، عن أول وأقدم معاهدة سلام عرفهاالتاريخ، وكان ذلك في العام 1258 ق.م46]  جعل مصر وأرضهاأرضاً مغرية للغزو من القوى الأجنبية، خاصةً الليبيين وشعوب البحر .تمكن الجيش في بداية الأمر من صد هذه الغزوات  وردعها، ولكن مع زيادة وتكثيف الغزوات فقد مصر السيطرة على أراضي سوريا وفلسطين. وزاد تأثير التهديدات الخارجية  مع تفاقم المشاكل الداخلية مثل الفساد وسرقة المقاب\n",
            "Answer: وفاه توت عنخ امون ؟ إليك بعض المستندات  لمساعدتك في الإجابة الصحيحة أتون، وهاجم سلطة وقوة المؤسسة الكهنوتية في ذلك الوقت43]  إلى مدينة أخناتون الجديدة (تلالعمارنة حالياً)، ولم يكترث للشؤون الخارجية وانكب  على استيعاب نفسه في دينة الجديد وأسلوبه الفني. بعد وفاته، تم التخلي  سريعاً عن عبادة  أتون، وقام كل  من توت عنخ أمون وخپر خپرو رع آي، وحورمحب بمسح جميع التفاصيل العائدة  لبدعة  إخناتون، أو كما تعرف باسم فترة تل العمارنة[44]    وعند تولي رمسيس الثاني العرش، والمعروف أيضاً برمسيس العظيم، وذلك في حوالي1279  ق.م، عمل على بناء المزيد  من المعابد، وإقامة المزيد من التماثيل والمسلات، بالإضافة لإنجابه أطفال أكثر من أي فرعون في التاريخ45]في معركة قادش ضد الحيثيين، والتي أسفرت وبعد قتالٍ عنيف دام لأكثر من 15 عاماً، عن أول وأقدم معاهدة سلام عرفهاالتاريخ، وكان ذلك في العام 1258 ق.م46]  جعل مصر وأرضهاأرضاً مغرية للغزو من القوى الأجنبية، خاصةً الليبيين وشعوب البحر .تمكن الجيش في بداية الأمر من صد هذه الغزوات  وردعها، ولكن مع زيادة وتكثيف الغزوات فقد مصر السيطرة على أراضي سوريا وفلسطين. وزاد تأثير التهديدات الخارجية  مع تفاقم المشاكل الداخلية مثل الفساد وسرقة المقابيل والهدر والهدر في إدارة الدولة. في نهاية الأمر، أصبحت مصر مهددة من كل جانب،  وبدأت تتعرض للاستيلاء على أراضيها من القوى الخارجية. في تلك الفترة، بدأ  التلخيمات والتماثيل  والهدر في معبد  كوم أومبو،  والذي هو أحد أهم معالم  إقليم  سقارة، فيما بدأ  بناء  المزيد  من  المعابد والتماثيل والهدر في معبد  دير المدينة، والذي هو أحد أهم معالم  إقليم  سقارة. في نهاية الأمر، أصبحت مصر مهددة من كل جانب،  وبدأت تتعرض للاستيلاء على أراضيها من القوى الخارجية. في تلك الفترة، بدأ  التلخيمات والتماثيل  والهدر في معبد  كوم أومبو،  والذي هو أحد أهم معالم  إقليم  سقارة، فيما بدأ  بناء  المزيد  من  المعابد والتماثيل والهدر في معبد  دير المدينة، والذي هو أحد أهم معالم  إقليم  سقارة.\n",
            "\n",
            "### الفترة الممتدة من 1279 ق.م إلى 1070 ق.م\n",
            "\n",
            "أثناء فترة حكم رمسيس الثاني، قام بتوسيع  معالمه الكنسية، وإقامة  المزيد  من  المعابد والتماثيل والهدر، بالإضافة لإنجابه أطفال أكثر من أي فرعون في التاريخ. في نهاية الأمر، أصبحت مصر مهددة من كل جانب،  وبدأت تتعرض للاستيلاء على أراضيها من القوى الخارجية. في تلك الفترة، بدأ  التلخيمات والتماثيل  والهدر في معبد  كوم أومبو،  والذي هو أحد أهم معالم  إقليم  سقارة، فيما بدأ  بناء  المزيد  من  المعابد والتماثيل والهدر في معبد  دير المدينة، والذي هو أحد أهم معالم  إقليم  سقارة.\n",
            "\n",
            "### الفترة الممتدة من 1070 ق.م إلى 664 ق.م\n",
            "\n",
            "أثناء فترة حكم فرعون  سمنخ رع الثاني، قام بتوسيع  معالمه الكنسية، وإقامة  المزيد  من  المعابد والتماثيل والهدر، بالإضافة لإنجابه أطفال أكثر من أي فرعون في التاريخ. في نهاية الأمر، أصبحت مصر مهددة من كل جانب،  وبدأت تتعرض للاستيلاء على أراضيها من القوى الخارجية. في تلك الفترة، بدأ  التلخيمات والتماثيل  والهدر في معبد  كوم أومبو،  والذي هو أحد أهم معالم  إقليم  سقارة، فيما بدأ  بناء  المزيد  من  المعابد والتماثيل والهدر في معبد  دير المدينة، والذي هو أحد أهم معالم  إقليم  سقارة.\n",
            "\n",
            "### الفترة الممتدة من 664 ق.م إلى 332 ق.م\n",
            "\n",
            "أثناء فترة حكم فرعون  بسمخ الثالث، قام بتوسيع  معالمه الكنسية، وإقامة  المزيد  من  المعابد والتماثيل والهدر، بالإضافة لإنجابه أطفال أكثر من أي فرعون في التاريخ. في نهاية الأمر، أصبحت مصر مهددة من كل جانب،  وبدأت تتعرض للاستيلاء على أراضيها من القوى الخارجية. في تلك الفترة، بدأ  التلخيمات والتماثيل  والهدر في معبد  كوم أومبو،  والذي هو أحد أهم معالم  إقليم  سقارة، فيما بدأ  بناء  المزيد  من  المعابد والتماثيل والهدر في معبد  دير المدينة، والذي هو أحد أهم معالم  إقليم  سقارة.\n",
            "\n",
            "### الفترة الممتدة من 332 ق.م إلى 30 ق.م\n",
            "\n",
            "أثناء فترة حكم فرعون  پتوسم الثاني، قام بتوسيع  معالمه الكنسية، وإقامة  المزيد  من  المعابد والتماثيل والهدر، بالإضافة لإنجابه أطفال أكثر من أي فرعون في التاريخ. في نهاية الأمر، أصبحت مصر مهددة من كل جانب،  وبدأت تتعرض للاستيلاء على أراضيها من القوى الخارجية. في تلك الفترة، بدأ  التلخيمات والتماثيل  وال\n"
          ]
        }
      ],
      "source": [
        "arabic_question =\"وفاه توت عنخ امون ؟\"\n",
        "l_lama3(arabic_question)"
      ]
    },
    {
      "cell_type": "code",
      "execution_count": 34,
      "metadata": {
        "colab": {
          "base_uri": "https://localhost:8080/"
        },
        "id": "8h3DA72Rk8H1",
        "outputId": "d549434d-110d-4e58-c808-c9700f82b11c"
      },
      "outputs": [
        {
          "output_type": "stream",
          "name": "stderr",
          "text": [
            "WARNING:sentence_transformers.SentenceTransformer:No sentence-transformers model found with name asafaya/bert-large-arabic. Creating a new one with MEAN pooling.\n",
            "Setting `pad_token_id` to `eos_token_id`:128001 for open-end generation.\n"
          ]
        },
        {
          "output_type": "stream",
          "name": "stdout",
          "text": [
            "Question: أين دفنت حتشبسوت؟ إليك بعض المستندات  لمساعدتك في الإجابة الصحيحة أتون، وهاجم سلطة وقوة المؤسسة الكهنوتية في ذلك الوقت43]  إلى مدينة أخناتون الجديدة (تلالعمارنة حالياً)، ولم يكترث للشؤون الخارجية وانكب  على استيعاب نفسه في دينة الجديد وأسلوبه الفني. بعد وفاته، تم التخلي  سريعاً عن عبادة  أتون، وقام كل  من توت عنخ أمون وخپر خپرو رع آي، وحورمحب بمسح جميع التفاصيل العائدة  لبدعة  إخناتون، أو كما تعرف باسم فترة تل العمارنة[44]    وعند تولي رمسيس الثاني العرش، والمعروف أيضاً برمسيس العظيم، وذلك في حوالي1279  ق.م، عمل على بناء المزيد  من المعابد، وإقامة المزيد من التماثيل والمسلات، بالإضافة لإنجابه أطفال أكثر من أي فرعون في التاريخ45]في معركة قادش ضد الحيثيين، والتي أسفرت وبعد قتالٍ عنيف دام لأكثر من 15 عاماً، عن أول وأقدم معاهدة سلام عرفهاالتاريخ، وكان ذلك في العام 1258 ق.م46]  جعل مصر وأرضهاأرضاً مغرية للغزو من القوى الأجنبية، خاصةً الليبيين وشعوب البحر .تمكن الجيش في بداية الأمر من صد هذه الغزوات  وردعها، ولكن مع زيادة وتكثيف الغزوات فقد مصر السيطرة على أراضي سوريا وفلسطين. وزاد تأثير التهديدات الخارجية  مع تفاقم المشاكل الداخلية مثل الفساد وسرقة المقاب\n",
            "Answer: أين دفنت حتشبسوت؟ إليك بعض المستندات  لمساعدتك في الإجابة الصحيحة أتون، وهاجم سلطة وقوة المؤسسة الكهنوتية في ذلك الوقت43]  إلى مدينة أخناتون الجديدة (تلالعمارنة حالياً)، ولم يكترث للشؤون الخارجية وانكب  على استيعاب نفسه في دينة الجديد وأسلوبه الفني. بعد وفاته، تم التخلي  سريعاً عن عبادة  أتون، وقام كل  من توت عنخ أمون وخپر خپرو رع آي، وحورمحب بمسح جميع التفاصيل العائدة  لبدعة  إخناتون، أو كما تعرف باسم فترة تل العمارنة[44]    وعند تولي رمسيس الثاني العرش، والمعروف أيضاً برمسيس العظيم، وذلك في حوالي1279  ق.م، عمل على بناء المزيد  من المعابد، وإقامة المزيد من التماثيل والمسلات، بالإضافة لإنجابه أطفال أكثر من أي فرعون في التاريخ45]في معركة قادش ضد الحيثيين، والتي أسفرت وبعد قتالٍ عنيف دام لأكثر من 15 عاماً، عن أول وأقدم معاهدة سلام عرفهاالتاريخ، وكان ذلك في العام 1258 ق.م46]  جعل مصر وأرضهاأرضاً مغرية للغزو من القوى الأجنبية، خاصةً الليبيين وشعوب البحر .تمكن الجيش في بداية الأمر من صد هذه الغزوات  وردعها، ولكن مع زيادة وتكثيف الغزوات فقد مصر السيطرة على أراضي سوريا وفلسطين. وزاد تأثير التهديدات الخارجية  مع تفاقم المشاكل الداخلية مثل الفساد وسرقة المقابيل  وتفشي الفوضى والشلل في الدولة، ما جعل  مصر تتعرض للهزيمة في معركة قادش، والتي سقط فيها  فرعون مصر رمسيس الثاني في أيدٍ  الحيثيين، وتمكن  الحيثيون من السيطرة على مصر[47]    في عام 1178 ق.م، وخلفه ابنه رمسيس الثالث، الذي عاد  إلى القوة والقوة، وتمكن من استعادة مصر السيطرة على أراضي سوريا وفلسطين، وتمكن من ردع الغزوات الخارجية، وتمكن من إقامة المزيد من المعابد والتماثيل والمسلات، وإنجاب الأطفال، وتمكن من إقامة المزيد من المزايدين والقناصل، وتمكن من إقامة المزيد من  المزايدين والقناصل[48]    في عام 1156 ق.م، وخلفه ابنه رمسيس الرابع، الذي عاد  إلى القوة والقوة، وتمكن من استعادة مصر السيطرة على أراضي سوريا وفلسطين، وتمكن من ردع الغزوات الخارجية، وتمكن من إقامة المزيد من المعابد والتماثيل والمسلات، وإنجاب الأطفال، وتمكن من إقامة المزيد من المزايدين والقناصل، وتمكن من إقامة المزيد من  المزايدين والقناصل[49]    في عام 1126 ق.م، وخلفه ابنه رمسيس الخامس، الذي عاد  إلى القوة والقوة، وتمكن من استعادة مصر السيطرة على أراضي سوريا وفلسطين، وتمكن من ردع الغزوات الخارجية، وتمكن من إقامة المزيد من المعابد والتماثيل والمسلات، وإنجاب الأطفال، وتمكن من إقامة المزيد من المزايدين والقناصل، وتمكن من إقامة المزيد من  المزايدين والقناصل[50]    في عام 1090 ق.م، وخلفه ابنه رمسيس السادس، الذي عاد  إلى القوة والقوة، وتمكن من استعادة مصر السيطرة على أراضي سوريا وفلسطين، وتمكن من ردع الغزوات الخارجية، وتمكن من إقامة المزيد من المعابد والتماثيل والمسلات، وإنجاب الأطفال، وتمكن من إقامة المزيد من المزايدين والقناصل، وتمكن من إقامة المزيد من  المزايدين والقناصل[51]    في عام 1069 ق.م، وخلفه ابنه رمسيس السابع، الذي عاد  إلى القوة والقوة، وتمكن من استعادة مصر السيطرة على أراضي سوريا وفلسطين، وتمكن من ردع الغزوات الخارجية، وتمكن من إقامة المزيد من المعابد والتماثيل والمسلات، وإنجاب الأطفال، وتمكن من إقامة المزيد من المزايدين والقناصل، وتمكن من إقامة المزيد من  المزايدين والقناصل[52]    في عام 1042 ق.م، وخلفه ابنه رمسيس الثامن، الذي عاد  إلى القوة والقوة، وتمكن من استعادة مصر السيطرة على أراضي سوريا وفلسطين، وتمكن من ردع الغزوات الخارجية، وتمكن من إقامة المزيد من المعابد والتماثيل والمسلات، وإنجاب الأطفال، وتمكن من إقامة المزيد من المزايدين والقناصل، وتمكن من إقامة المزيد من  المزايدين والقناصل[53]    في عام 1013 ق.م، وخلفه ابنه رمسيس التاسع، الذي عاد  إلى القوة والقوة، وتمكن من استعادة مصر السيطرة على أراضي سوريا وفلسطين، وتمكن من ردع الغزوات الخارجية، وتمكن من إقامة المزيد من المعابد والتماثيل والمسلات، وإنجاب الأطفال، وتمكن من إقامة المزيد من المزايدين والقناصل، وتمكن من إقامة المزيد من  المزايدين والقناصل[54]    في عام 984 ق.م، وخلفه ابنه رمسيس العاشر، الذي عاد  إلى القوة والقوة، وتمكن من استعادة مصر السيطرة على أراضي سوريا وفلسطين، وتمكن من ردع الغزوات الخارجية، وتمكن من\n"
          ]
        }
      ],
      "source": [
        "arabic_question =\"أين دفنت حتشبسوت؟\"\n",
        "l_lama3(arabic_question)"
      ]
    },
    {
      "cell_type": "code",
      "execution_count": 35,
      "metadata": {
        "colab": {
          "base_uri": "https://localhost:8080/"
        },
        "id": "8x8rSd_Hk8KT",
        "outputId": "289b2517-6a78-4d42-b312-6031e57d2605"
      },
      "outputs": [
        {
          "output_type": "stream",
          "name": "stderr",
          "text": [
            "WARNING:sentence_transformers.SentenceTransformer:No sentence-transformers model found with name asafaya/bert-large-arabic. Creating a new one with MEAN pooling.\n",
            "Setting `pad_token_id` to `eos_token_id`:128001 for open-end generation.\n"
          ]
        },
        {
          "output_type": "stream",
          "name": "stdout",
          "text": [
            "Question: ما سبب انتحار كليوباترا وانطونيوس؟ إليك بعض المستندات  لمساعدتك في الإجابة الصحيحة بسبب حبه لكليوبترا كما يزعم الجهال)    و لم يقبل اوكتافيانوس ان ينتقل العرش من كليوباترا إلى أحد ابنائها، فاختارت ان تنتحر على ان تدخل روما في موكب النصر، عليها الذل والعار مسلسلة، وفضلت ان تقتل نفسها قتلة مقدسة بحية الكوبرا وكان ذلك في أغسطس سنة 30 ق.مأيضاً لم يكن انتحارها نتيجة حبها  وعدم استطاعتها العيش بدون انطونيوس كما يزغم الاخرين.  وبذلك انتهى عصر الدولة اليونانية والبطالمة.  العصر الرومانى  اصبحت مصر مقاطعة رومانية في 30 ق.م. بعد أن هَزَمّ أوكتافيوس (الإمبراطور الروماني المستقبلي باسم أغسطسخصمه مارك أنطوني وأطاح بعرش الملكة الفرعونية كليوباترا وضم المملكة البطلمية إلى الإمبراطورية الرومانية. شملت المقاطعة معظم مناطق مصر الحديثة باستثناء شبه جزيرة سيناء، التي غزاها تراجان لاحقاً. كانت مقاطعة كريت وبرقة تحد  إيجبتوس غرباً ويهودا (العربية البترائية  لاحقاً) شرقاً .     أصبحت المقاطعة بمثابة منتج رئيسي للحبوب للإمبراطورية وامتلكت اقتصاداً حضرياً متطوراً  للغاية. كانت إيجبتوس إلى حد  كبير أغنى المقاطعات الرومانية الشرقية1[]2] بعيد أغنى مقاطعة رومانية خارج إيطاليا3]مصر الرومانية؛ على\n",
            "Answer: ما سبب انتحار كليوباترا وانطونيوس؟ إليك بعض المستندات  لمساعدتك في الإجابة الصحيحة بسبب حبه لكليوبترا كما يزعم الجهال)    و لم يقبل اوكتافيانوس ان ينتقل العرش من كليوباترا إلى أحد ابنائها، فاختارت ان تنتحر على ان تدخل روما في موكب النصر، عليها الذل والعار مسلسلة، وفضلت ان تقتل نفسها قتلة مقدسة بحية الكوبرا وكان ذلك في أغسطس سنة 30 ق.مأيضاً لم يكن انتحارها نتيجة حبها  وعدم استطاعتها العيش بدون انطونيوس كما يزغم الاخرين.  وبذلك انتهى عصر الدولة اليونانية والبطالمة.  العصر الرومانى  اصبحت مصر مقاطعة رومانية في 30 ق.م. بعد أن هَزَمّ أوكتافيوس (الإمبراطور الروماني المستقبلي باسم أغسطسخصمه مارك أنطوني وأطاح بعرش الملكة الفرعونية كليوباترا وضم المملكة البطلمية إلى الإمبراطورية الرومانية. شملت المقاطعة معظم مناطق مصر الحديثة باستثناء شبه جزيرة سيناء، التي غزاها تراجان لاحقاً. كانت مقاطعة كريت وبرقة تحد  إيجبتوس غرباً ويهودا (العربية البترائية  لاحقاً) شرقاً .     أصبحت المقاطعة بمثابة منتج رئيسي للحبوب للإمبراطورية وامتلكت اقتصاداً حضرياً متطوراً  للغاية. كانت إيجبتوس إلى حد  كبير أغنى المقاطعات الرومانية الشرقية1[]2] بعيد أغنى مقاطعة رومانية خارج إيطاليا3]مصر الرومانية؛ على الرغم من أن الإمبراطورية الرومانية كانت في عهد أغسطس، فإيجبتوس كانت تحت ملكية كليوباترا  قبل أن تنتحر، كانت مصر الرومانية  من بين أكثر المقاطعات الإقليمية الغنية في الإمبراطورية الرومانية4]5]6]7]8]9]10]11]12]13]14]15]16]17]18]19]20]21]22]23]24]25]26]27]28]29]30]31]32]33]34]35]36]37]38]39]40]41]42]43]44]45]46]47]48]49]50]51]52]53]54]55]56]57]58]59]60]61]62]63]64]65]66]67]68]69]70]71]72]73]74]75]76]77]78]79]80]81]82]83]84]85]86]87]88]89]90]91]92]93]94]95]96]97]98]99]100]101]102]103]104]105]106]107]108]109]110]111]112]113]114]115]116]117]118]119]120]121]122]123]124]125]126]127]128]129]130]131]132]133]134]135]136]137]138]139]140]141]142]143]144]145]146]147]148]149]150]151]152]153]154]155]156]157]158]159]160]161]162]163]164]165]166]167]168]169]170]171]172]173]174]175]176]177]178]179]180]181]182]183]184]185]186]187]188]189]190]191]192]193]194]195]196]197]198]199]200]201]202]203]204]205]206]207]208]209]210]211]212]213]214]215]216]217]218]219]220]221]222]223]224]225]226]227]228]229]230]231]232]233]234]235]236]237]238]239]240]241]242]243]244]245]246]247]248]249]250]251]252]253]254]255]256]257]258]259]260]261]262]263]264]265]266]267]268]269]270]271]272]273]274]275]276]277]278]279]280]281]282]283]284]285]286]287]288]289]290]291]292]293]294]295]296]297]298]299]300]301]302]303]304]305]306]307]308]309]310]311]312]313]314]315]316]317]318]319]320]321]322]323]324]325]326]327]328]329]330]331]332]333]334]335]336]337]338]339]340]341]342]343]344]345]346]347]348]349]350]351]352]353]354]355]356]357]358]359]360]361]362]363]364]365]366]367]368]369]370]371]372]373]374]375]376]377]378]379]380]381]382]383]384]385]386]387]388]389]390]391]392]393]394]395]396]397]398]399]400]401]402]403]404]405]406]407]408]409]410]411]412]413]414]415]416]417]418]419]420]421]422]423]424]425]426]427]428]429]430]431]432]433]434]435]436]437]438]439]440]441]442]443]444]445]446]447]448]449]450]451]452]453]454]455]456]457]458]459]460]461]462]463]464]465]466]467]468]469]470]471]472]473]474]475]476]477]478]479]480]481]482]483]484]485]486]487]488]489]490]491]492]493]494]495]496]497]498]499]500]501]502]503]504]\n"
          ]
        }
      ],
      "source": [
        "arabic_question =\"ما سبب انتحار كليوباترا وانطونيوس؟\"\n",
        "l_lama3(arabic_question)"
      ]
    },
    {
      "cell_type": "code",
      "execution_count": 36,
      "metadata": {
        "colab": {
          "base_uri": "https://localhost:8080/"
        },
        "id": "CS5aRhvrk8Mo",
        "outputId": "ec091ef6-5679-49bb-ff21-e4fd15e1d85c"
      },
      "outputs": [
        {
          "output_type": "stream",
          "name": "stderr",
          "text": [
            "WARNING:sentence_transformers.SentenceTransformer:No sentence-transformers model found with name asafaya/bert-large-arabic. Creating a new one with MEAN pooling.\n",
            "/usr/local/lib/python3.10/dist-packages/transformers/pipelines/base.py:1157: UserWarning: You seem to be using the pipelines sequentially on GPU. In order to maximize efficiency please use a dataset\n",
            "  warnings.warn(\n",
            "Setting `pad_token_id` to `eos_token_id`:128001 for open-end generation.\n"
          ]
        },
        {
          "output_type": "stream",
          "name": "stdout",
          "text": [
            "Question: ما هو الغرض من بناء هرم خوفو؟  إليك بعض المستندات  لمساعدتك في الإجابة الصحيحة أتون، وهاجم سلطة وقوة المؤسسة الكهنوتية في ذلك الوقت43]  إلى مدينة أخناتون الجديدة (تلالعمارنة حالياً)، ولم يكترث للشؤون الخارجية وانكب  على استيعاب نفسه في دينة الجديد وأسلوبه الفني. بعد وفاته، تم التخلي  سريعاً عن عبادة  أتون، وقام كل  من توت عنخ أمون وخپر خپرو رع آي، وحورمحب بمسح جميع التفاصيل العائدة  لبدعة  إخناتون، أو كما تعرف باسم فترة تل العمارنة[44]    وعند تولي رمسيس الثاني العرش، والمعروف أيضاً برمسيس العظيم، وذلك في حوالي1279  ق.م، عمل على بناء المزيد  من المعابد، وإقامة المزيد من التماثيل والمسلات، بالإضافة لإنجابه أطفال أكثر من أي فرعون في التاريخ45]في معركة قادش ضد الحيثيين، والتي أسفرت وبعد قتالٍ عنيف دام لأكثر من 15 عاماً، عن أول وأقدم معاهدة سلام عرفهاالتاريخ، وكان ذلك في العام 1258 ق.م46]  جعل مصر وأرضهاأرضاً مغرية للغزو من القوى الأجنبية، خاصةً الليبيين وشعوب البحر .تمكن الجيش في بداية الأمر من صد هذه الغزوات  وردعها، ولكن مع زيادة وتكثيف الغزوات فقد مصر السيطرة على أراضي سوريا وفلسطين. وزاد تأثير التهديدات الخارجية  مع تفاقم المشاكل الداخلية مثل الفساد وسرقة المقاب\n",
            "Answer: ما هو الغرض من بناء هرم خوفو؟  إليك بعض المستندات  لمساعدتك في الإجابة الصحيحة أتون، وهاجم سلطة وقوة المؤسسة الكهنوتية في ذلك الوقت43]  إلى مدينة أخناتون الجديدة (تلالعمارنة حالياً)، ولم يكترث للشؤون الخارجية وانكب  على استيعاب نفسه في دينة الجديد وأسلوبه الفني. بعد وفاته، تم التخلي  سريعاً عن عبادة  أتون، وقام كل  من توت عنخ أمون وخپر خپرو رع آي، وحورمحب بمسح جميع التفاصيل العائدة  لبدعة  إخناتون، أو كما تعرف باسم فترة تل العمارنة[44]    وعند تولي رمسيس الثاني العرش، والمعروف أيضاً برمسيس العظيم، وذلك في حوالي1279  ق.م، عمل على بناء المزيد  من المعابد، وإقامة المزيد من التماثيل والمسلات، بالإضافة لإنجابه أطفال أكثر من أي فرعون في التاريخ45]في معركة قادش ضد الحيثيين، والتي أسفرت وبعد قتالٍ عنيف دام لأكثر من 15 عاماً، عن أول وأقدم معاهدة سلام عرفهاالتاريخ، وكان ذلك في العام 1258 ق.م46]  جعل مصر وأرضهاأرضاً مغرية للغزو من القوى الأجنبية، خاصةً الليبيين وشعوب البحر .تمكن الجيش في بداية الأمر من صد هذه الغزوات  وردعها، ولكن مع زيادة وتكثيف الغزوات فقد مصر السيطرة على أراضي سوريا وفلسطين. وزاد تأثير التهديدات الخارجية  مع تفاقم المشاكل الداخلية مثل الفساد وسرقة المقابيل، والهوة في السلطة بين الفرعونات، وعدم الاستقرار في الدولة، مما تسبب في انهيار الاقتصاد والشعب في أتون  الفوضى والهلاك47]  في 1213  ق.م، تمكن رمسيس الثاني من استعادة السيطرة على سوريا وفلسطين، ولكن في 1178  ق.م، توفي الفرعون رمسيس الثاني، مما تسبب في انهيار الدولة المصرية، وبداية فترة من الضعف والهلاك، والتي استمرت حتى 1070  ق.م، عندما تمكن الفرعون سيتي الأول من استعادة السيطرة على مصر وتقديمها إلى فترة من الازدهار والقوة48]  في 1070  ق.م، تمكن سيتي الأول من استعادة السيطرة على سوريا وفلسطين، ولكن في 945  ق.م، توفي الفرعون سيتي الأول، مما تسبب في انهيار الدولة المصرية مرة أخرى، والتي استمرت حتى 664  ق.م، عندما تمكن الفرعون بسالم الأول من استعادة السيطرة على مصر وتقديمها إلى فترة من الازدهار والقوة49]  في 664  ق.م، تمكن بسالم الأول من استعادة السيطرة على سوريا وفلسطين، ولكن في 525  ق.م، توفي الفرعون بسالم الأول، مما تسبب في انهيار الدولة المصرية مرة أخرى، والتي استمرت حتى 332  ق.م، عندما تمكن الفرعون بطليموس الأول من استعادة السيطرة على مصر وتقديمها إلى فترة من الازدهار والقوة50]  في 332  ق.م، تمكن بطليموس الأول من استعادة السيطرة على سوريا وفلسطين، ولكن في 30  ق.م، توفي الفرعون بطليموس الأول، مما تسبب في انهيار الدولة المصرية مرة أخرى، والتي استمرت حتى 30  ق.م، عندما تمكن الفرعون أغسطس قيصر من استعادة السيطرة على مصر وتقديمها إلى فترة من الازدهار والقوة51]  في 30  ق.م، تمكن أغسطس قيصر من استعادة السيطرة على سوريا وفلسطين، ولكن في 14  ق.م، توفي أغسطس قيصر، مما تسبب في انهيار الدولة المصرية مرة أخرى، والتي استمرت حتى 395  م، عندما تمكن الفرعون تيودوسيوس الأول من استعادة السيطرة على مصر وتقديمها إلى فترة من الازدهار والقوة52]  في 395  م، تمكن تيودوسيوس الأول من استعادة السيطرة على سوريا وفلسطين، ولكن في 363  م، توفي تيودوسيوس الأول، مما تسبب في انهيار الدولة المصرية مرة أخرى، والتي استمرت حتى 641  م، عندما تمكن الفرعون هرقل من استعادة السيطرة على مصر وتقديمها إلى فترة من الازدهار والقوة53]  في 641  م، تمكن هرقل من استعادة السيطرة على سوريا وفلسطين، ولكن في 641  م، توفي هرقل، مما تسبب في انهيار الدولة المصرية مرة أخرى، والتي استمرت حتى 641  م، عندما تمكن الفرعون عمر بن عبد العزيز من استعادة السيطرة على مصر وتقديمها إلى فترة من الازدهار والقوة54]  في 641  م، تمكن عمر بن عبد العزيز من استعادة السيطرة على سوريا وفلسطين، ولكن في 641  م، توفي عمر بن عبد العزيز، مما تسبب في انهيار الدولة المصرية مرة أخرى، والتي استمرت حتى 641  م، عندما تمكن الفرعون معاوية بن أبي سفيان من استعادة السيطرة على مصر وتقديمها إلى فترة من الازدهار والقوة55]  في 641  م، تمكن معاوية بن أبي سفيان من استعادة السيطرة على سوريا وفلسطين، ولكن في 641  م، توفي معاوية بن أبي سفيان، مما تسبب في انهيار الدولة المصرية مرة أخرى، والتي استمرت حتى 641  م، عندما تمكن الفرعون عبد الملك بن مروان من استعادة السيطرة على مصر وتقديمها إلى فترة من الازدهار والقوة56]  في 641  م، تمكن عبد الملك بن مروان من استعادة السيطرة على سوريا وفلسطين، ولكن في 641  م، توفي عبد الملك بن مروان، مما ت\n"
          ]
        }
      ],
      "source": [
        "arabic_question =\"ما هو الغرض من بناء هرم خوفو؟ \"\n",
        "l_lama3(arabic_question)"
      ]
    },
    {
      "cell_type": "code",
      "execution_count": 37,
      "metadata": {
        "colab": {
          "base_uri": "https://localhost:8080/"
        },
        "id": "CiXH3IRVk8PO",
        "outputId": "1bd82fec-04a3-41e1-f296-cfd74ae6c482"
      },
      "outputs": [
        {
          "output_type": "stream",
          "name": "stderr",
          "text": [
            "WARNING:sentence_transformers.SentenceTransformer:No sentence-transformers model found with name asafaya/bert-large-arabic. Creating a new one with MEAN pooling.\n",
            "/usr/local/lib/python3.10/dist-packages/transformers/pipelines/base.py:1157: UserWarning: You seem to be using the pipelines sequentially on GPU. In order to maximize efficiency please use a dataset\n",
            "  warnings.warn(\n",
            "Setting `pad_token_id` to `eos_token_id`:128001 for open-end generation.\n"
          ]
        },
        {
          "output_type": "stream",
          "name": "stdout",
          "text": [
            "Question: ما هو ارتفاع هرم منقرع؟ إليك بعض المستندات  لمساعدتك في الإجابة الصحيحة ظهرت الكتابة لأول مرة مع الملكية على العلامات والتسميات للمواد التي وجدت في المقابر الملكية. كان هذا في المقام الأول  هو مهنة الكُتاب، الذين عملوا من مؤسسة مفتاح الحياة  أو دار الحياة. وقد ضم الأخير مكاتب ومكتبات (سميت دار الكتب) ومعامل ومراصد فلكية[109] وكانت أشهر قطع الأدب المصري القديم مثل نصوص الأهرام ونصوص التوابيت مكتوبةبالكلاسيكية المصرية.    من الأدب المصري القديم ظهر الحكيم بتاح حتب الذي كتب وصايا في الأخلاق والتعامل، يعتبر كتابه في الحكمة (تعاليم بتاح  حتب) أول كتاب في تاريخ البشرية عن الأخلاق وحسن السلوك . عاصر بتاح حتب الملك جد كا رع (2414  2375 قبلالميلاد، من الأسرة الخامسة) وعمل وزيرا له .   استمرت الكتابة الهيروغليفية الكلاسيكية بكونها لغة وطريقة الكتابة حتى حوالي 1300 ق.م. وبالنسبة لقواعد اللغة فقدوصلت ذروتها خلال الدولة الوسطى. ومعها كثرت الكتابة على البردي باستخدام شكل أخر من اللغة المصرية والذي بدأ في  الدولة الحديثة وفيما تلى، وقد تمثل هذا الشكل الحديث في وثائق راميسيد الإدارة، وقصائد الحب والقصص، بل وحتى  النصوص الشعبية والقبطية. وخلال هذه الفترة، تطورت تقاليد الكت\n",
            "Answer: ما هو ارتفاع هرم منقرع؟ إليك بعض المستندات  لمساعدتك في الإجابة الصحيحة ظهرت الكتابة لأول مرة مع الملكية على العلامات والتسميات للمواد التي وجدت في المقابر الملكية. كان هذا في المقام الأول  هو مهنة الكُتاب، الذين عملوا من مؤسسة مفتاح الحياة  أو دار الحياة. وقد ضم الأخير مكاتب ومكتبات (سميت دار الكتب) ومعامل ومراصد فلكية[109] وكانت أشهر قطع الأدب المصري القديم مثل نصوص الأهرام ونصوص التوابيت مكتوبةبالكلاسيكية المصرية.    من الأدب المصري القديم ظهر الحكيم بتاح حتب الذي كتب وصايا في الأخلاق والتعامل، يعتبر كتابه في الحكمة (تعاليم بتاح  حتب) أول كتاب في تاريخ البشرية عن الأخلاق وحسن السلوك . عاصر بتاح حتب الملك جد كا رع (2414  2375 قبلالميلاد، من الأسرة الخامسة) وعمل وزيرا له .   استمرت الكتابة الهيروغليفية الكلاسيكية بكونها لغة وطريقة الكتابة حتى حوالي 1300 ق.م. وبالنسبة لقواعد اللغة فقدوصلت ذروتها خلال الدولة الوسطى. ومعها كثرت الكتابة على البردي باستخدام شكل أخر من اللغة المصرية والذي بدأ في  الدولة الحديثة وفيما تلى، وقد تمثل هذا الشكل الحديث في وثائق راميسيد الإدارة، وقصائد الحب والقصص، بل وحتى  النصوص الشعبية والقبطية. وخلال هذه الفترة، تطورت تقاليد الكتابة في مصر، مع ظهور أشكال جديدة من الكتابة مثل الكتابة باللغة الديموطيقية واللغة السائبة.\n",
            "\n",
            "### الكتابة باللغة الديموطيقية\n",
            "\n",
            "كانت اللغة الديموطيقية هي لغة كتابة متميزة في مصر القديمة، استخدمت في فترة الدولة الحديثة (664  332 ق.م.) وكانت لغة كتابة منفصلة عن اللغة المصرية القديمة. وقد تمت الإشارة إلى هذه اللغة في وثائق راميسيد الإدارة، وقصائد الحب والقصص، بل وحتى  النصوص الشعبية والقبطية. وكانت اللغة الديموطيقية لغة كتابة منفصلة عن اللغة المصرية القديمة، وكان هذا النوع من الكتابة يستخدم في وثائق الإدارة والقصائد والقصص والقبطية.\n",
            "\n",
            "### الكتابة باللغة السائبة\n",
            "\n",
            "كانت اللغة السائبة لغة كتابة متميزة في مصر القديمة، استخدمت في فترة الدولة الحديثة (664  332 ق.م.) وكانت لغة كتابة منفصلة عن اللغة المصرية القديمة. وقد تمت الإشارة إلى هذه اللغة في وثائق راميسيد الإدارة، وقصائد الحب والقصص، بل وحتى  النصوص الشعبية والقبطية. وكانت اللغة السائبة لغة كتابة منفصلة عن اللغة المصرية القديمة، وكان هذا النوع من الكتابة يستخدم في وثائق الإدارة والقصائد والقصص والقبطية.\n",
            "\n",
            "### الكتابة باللغة القبطية\n",
            "\n",
            "كانت اللغة القبطية لغة كتابة متميزة في مصر القديمة، استخدمت في فترة الدولة الحديثة (664  332 ق.م.) وكانت لغة كتابة منفصلة عن اللغة المصرية القديمة. وقد تمت الإشارة إلى هذه اللغة في وثائق راميسيد الإدارة، وقصائد الحب والقصص، بل وحتى  النصوص الشعبية والقبطية. وكانت اللغة القبطية لغة كتابة منفصلة عن اللغة المصرية القديمة، وكان هذا النوع من الكتابة يستخدم في وثائق الإدارة والقصائد والقصص والقبطية.\n",
            "\n",
            "## الكتابة في مصر القديمة\n",
            "\n",
            "كانت الكتابة في مصر القديمة من أهم الخصائص في المجتمع المصري القديم، وكانت لغة كتابة متميزة عن لغة الكلام. وكانت الكتابة تستخدم في عدة purposes، مثل:\n",
            "\n",
            "* وثائق الإدارة: كانت الكتابة تستخدم في وثائق الإدارة والقصائد والقصص والقبطية.\n",
            "* وثائق التجارة: كانت الكتابة تستخدم في وثائق التجارة والقصائد والقصص والقبطية.\n",
            "* وثائق الدين: كانت الكتابة تستخدم في وثائق الدين والقصائد والقصص والقبطية.\n",
            "* وثائق التاريخ: كانت الكتابة تستخدم في وثائق التاريخ والقصائد والقصص والقبطية.\n",
            "\n",
            "## الكتابة في مصر القديمة\n",
            "\n",
            "كانت الكتابة في مصر القديمة من أهم الخصائص في المجتمع المصري القديم، وكانت لغة كتابة متميزة عن لغة الكلام. وكانت الكتابة تستخدم في عدة purposes، مثل:\n",
            "\n",
            "* وثائق الإدارة: كانت الكتابة تستخدم في وثائق الإدارة والقصائد والقصص والقبطية.\n",
            "* وثائق التجارة: كانت الكتابة تستخدم في وثائق التجارة والقصائد والقصص والقبطية.\n",
            "* وثائق الدين: كانت الكتابة تستخدم في وثائق الدين والقصائد والقصص والقبطية.\n",
            "* وثائق التاريخ: كانت الكتابة تستخدم في وثائق التاريخ والقصائد والقصص والقبطية.\n",
            "\n",
            "## الكتابة في مصر القديمة\n",
            "\n",
            "كانت الكتابة في مصر القديمة من أهم الخصائص في المجتمع المصري القديم، وكانت لغة كتابة متميزة عن لغة الكلام. وكانت الكتابة تستخدم في عدة purposes، مثل:\n",
            "\n",
            "* وثائق الإدارة: كانت الكتابة تستخدم في وثائق الإدارة والقصائد والقصص والقبطية.\n",
            "* وثائق التجارة: كانت الكتابة تستخدم في وثائق التجارة والقصائد والقصص والقبطية.\n",
            "* وثائق الدين: كانت الكتابة تستخدم في وثائق الدين والقصائد والقصص والقبطية.\n",
            "* وثائق التاريخ: كانت الكتابة تستخدم في و\n"
          ]
        }
      ],
      "source": [
        "arabic_question =\"ما هو ارتفاع هرم منقرع؟\"\n",
        "l_lama3(arabic_question)"
      ]
    },
    {
      "cell_type": "code",
      "execution_count": 38,
      "metadata": {
        "colab": {
          "base_uri": "https://localhost:8080/"
        },
        "id": "eJjJbm3_k8Re",
        "outputId": "35dfa1ff-7784-497a-dc25-b7e3d033984c"
      },
      "outputs": [
        {
          "output_type": "stream",
          "name": "stderr",
          "text": [
            "WARNING:sentence_transformers.SentenceTransformer:No sentence-transformers model found with name asafaya/bert-large-arabic. Creating a new one with MEAN pooling.\n",
            "/usr/local/lib/python3.10/dist-packages/transformers/pipelines/base.py:1157: UserWarning: You seem to be using the pipelines sequentially on GPU. In order to maximize efficiency please use a dataset\n",
            "  warnings.warn(\n",
            "Setting `pad_token_id` to `eos_token_id`:128001 for open-end generation.\n"
          ]
        },
        {
          "output_type": "stream",
          "name": "stdout",
          "text": [
            "Question: كيف أثر محمد علي باشا على التنوع الثقافي في مصر؟ إليك بعض المستندات  لمساعدتك في الإجابة الصحيحة بحلول خريف عام1981 قامت الحكومة بحملة اعتقالات واسعة شملت المنظمات الإسلامية ومسؤولي الكنيسة القبطية والكتاب والصحفيين ومفكرين يساريين وليبراليين ووصل عدد المعتقلين في السجون المصرية إلى 1536  معتقلاً وذلك علىإثر حدوث بوادر فتن واضطرابات شعبية رافضة للصلح مع إسرائيل ولسياسات الدولة الاقتصادية .   في 6 أكتوبر من عام1981 (بعد31 يوم من إعلان قرارات الاعتقال)، اغتيل في عرض عسكري كان يقام بمناسبة ذكرى حرب أكتوبر، وقام بالاغتيال خالد الإسلامبولي وحسين عباس وعطا طايل وعبد الحميد عبد السلام التابعين لمنظمة الجهاد الإسلامي التي كانت تعارض بشدة اتفاقية السلام مع إسرائيل، حيث اطلقوا الرصاص على الرئيس السادات مما أدى إلى  إصابته برصاصة في رقبته ورصاصة في صدره ورصاصة في قلبه. وجاء اغتيال السادات بعد أشهر قليلة من حادثة مقتل المشير أحمد بدوي وبعض القيادات العسكرية في تحطم طائرة الهليكوبتر بشكل غامض جدًا، مما فتح باب الشكوك حول وجود مؤامرة13[]14]  نائب الرئيس السابق محمد حسني مبارك.    يرى مؤيدو سياسته أنه الرئيس العربي الأكثر جرأة وواقعية في التعامل مع قضايا المنطقة وأنه انتشل مصر من براثن الدولة  ا\n",
            "Answer: كيف أثر محمد علي باشا على التنوع الثقافي في مصر؟ إليك بعض المستندات  لمساعدتك في الإجابة الصحيحة بحلول خريف عام1981 قامت الحكومة بحملة اعتقالات واسعة شملت المنظمات الإسلامية ومسؤولي الكنيسة القبطية والكتاب والصحفيين ومفكرين يساريين وليبراليين ووصل عدد المعتقلين في السجون المصرية إلى 1536  معتقلاً وذلك علىإثر حدوث بوادر فتن واضطرابات شعبية رافضة للصلح مع إسرائيل ولسياسات الدولة الاقتصادية .   في 6 أكتوبر من عام1981 (بعد31 يوم من إعلان قرارات الاعتقال)، اغتيل في عرض عسكري كان يقام بمناسبة ذكرى حرب أكتوبر، وقام بالاغتيال خالد الإسلامبولي وحسين عباس وعطا طايل وعبد الحميد عبد السلام التابعين لمنظمة الجهاد الإسلامي التي كانت تعارض بشدة اتفاقية السلام مع إسرائيل، حيث اطلقوا الرصاص على الرئيس السادات مما أدى إلى  إصابته برصاصة في رقبته ورصاصة في صدره ورصاصة في قلبه. وجاء اغتيال السادات بعد أشهر قليلة من حادثة مقتل المشير أحمد بدوي وبعض القيادات العسكرية في تحطم طائرة الهليكوبتر بشكل غامض جدًا، مما فتح باب الشكوك حول وجود مؤامرة13[]14]  نائب الرئيس السابق محمد حسني مبارك.    يرى مؤيدو سياسته أنه الرئيس العربي الأكثر جرأة وواقعية في التعامل مع قضايا المنطقة وأنه انتشل مصر من براثن الدولة  االنكليزية والصهيونية 15] 16] 17] 18] 19] 20] 21] 22] 23] 24] 25] 26] 27] 28] 29] 30] 31] 32] 33] 34] 35] 36] 37] 38] 39] 40] 41] 42] 43] 44] 45] 46] 47] 48] 49] 50] 51] 52] 53] 54] 55] 56] 57] 58] 59] 60] 61] 62] 63] 64] 65] 66] 67] 68] 69] 70] 71] 72] 73] 74] 75] 76] 77] 78] 79] 80] 81] 82] 83] 84] 85] 86] 87] 88] 89] 90] 91] 92] 93] 94] 95] 96] 97] 98] 99] 100] 101] 102] 103] 104] 105] 106] 107] 108] 109] 110] 111] 112] 113] 114] 115] 116] 117] 118] 119] 120] 121] 122] 123] 124] 125] 126] 127] 128] 129] 130] 131] 132] 133] 134] 135] 136] 137] 138] 139] 140] 141] 142] 143] 144] 145] 146] 147] 148] 149] 150] 151] 152] 153] 154] 155] 156] 157] 158] 159] 160] 161] 162] 163] 164] 165] 166] 167] 168] 169] 170] 171] 172] 173] 174] 175] 176] 177] 178] 179] 180] 181] 182] 183] 184] 185] 186] 187] 188] 189] 190] 191] 192] 193] 194] 195] 196] 197] 198] 199] 200] 201] 202] 203] 204] 205] 206] 207] 208] 209] 210] 211] 212] 213] 214] 215] 216] 217] 218] 219] 220] 221] 222] 223] 224] 225] 226] 227] 228] 229] 230] 231] 232] 233] 234] 235] 236] 237] 238] 239] 240] 241] 242] 243] 244] 245] 246] 247] 248] 249] 250] 251] 252] 253] 254] 255] 256] 257] 258] 259] 260] 261] 262] 263] 264] 265] 266] 267] 268] 269] 270] 271] 272] 273] 274] 275] 276] 277] 278] 279] 280] 281] 282] 283] 284] 285] 286] 287] 288] 289] 290] 291] 292] 293] 294] 295] 296] 297] 298] 299] 300] 301] 302] 303] 304] 305] 306] 307] 308] 309] 310] 311] 312] 313] 314] 315] 316] 317] 318] 319] 320] 321] 322] 323] 324] 325] 326] 327] 328] 329] 330] 331] 332] 333] 334] 335] 336] 337] 338] 339] 340] 341] 342] 343] 344] 345] 346] 347] 348] 349] 350] 351] 352] 353] 354] 355] 356] 357] 358] 359] 360] 361] 362] 363] 364] 365] 366] 367] 368] 369] 370] 371] 372] 373] 374] 375] 376] \n"
          ]
        }
      ],
      "source": [
        "arabic_question =\"كيف أثر محمد علي باشا على التنوع الثقافي في مصر؟\"\n",
        "l_lama3(arabic_question)"
      ]
    },
    {
      "cell_type": "code",
      "execution_count": 39,
      "metadata": {
        "colab": {
          "base_uri": "https://localhost:8080/"
        },
        "id": "GQGHfU33k8T7",
        "outputId": "93d491d7-9a3d-4303-f305-dcf12eb6eea8"
      },
      "outputs": [
        {
          "output_type": "stream",
          "name": "stderr",
          "text": [
            "WARNING:sentence_transformers.SentenceTransformer:No sentence-transformers model found with name asafaya/bert-large-arabic. Creating a new one with MEAN pooling.\n",
            "/usr/local/lib/python3.10/dist-packages/transformers/pipelines/base.py:1157: UserWarning: You seem to be using the pipelines sequentially on GPU. In order to maximize efficiency please use a dataset\n",
            "  warnings.warn(\n",
            "Setting `pad_token_id` to `eos_token_id`:128001 for open-end generation.\n"
          ]
        },
        {
          "output_type": "stream",
          "name": "stdout",
          "text": [
            "Question: كم عدد انواع الرهبانية؟ إليك بعض المستندات  لمساعدتك في الإجابة الصحيحة وبذلك تعرض المصريون لألوان العذاب لاعتناقهم مذهبا مخالفا لمذهب الإمبراطورية.    كان المجتمع المصري في ذلك العهد يحيا في أسوأ أيامه حيث السلطة والإدارة والوظائف في يد الرومان واليونان وبعض اليهود من المتقربين إلى الرومان، والمصريون محرومون حتى من التمتع بخيرات بلادهم، لفرض الضرائب الباهظة المتعددة  عليهم وكذلك حرمانهم من الاشتراك في الجيش، مما جعلهم يعيشون كالغرباء عنها، وإذا وصل بعضهم إلى منصب دينى فإننا نجد الاضطهاد ينصب على هؤلاء القادة الدينيين، مما حمل فريق كبير منهم على الفرار بعقيدته إلى الأديرة والكهوف المنتشرة في أنحاء مصر واتخذوا عادة التنسك التي أخذوها عن اليهود، فازداد عدد الأديار تبعا لذلك وكثر عدد أعضائها الذين أعطوا لأنفسهم حق الإعفاء من الوظائف غير المأجورة وغيرها، وشذ بعض من هؤلاء فاحترفوا السطو والنهب.    وعلى هذا نقول أن المجتمع المصري في هذه الفترة كان على طبقتين:    1_ طبقة الرومان: وهم المنعمون المرفهون الذين يسكنون الحواضر ويتمتعون بخيرات البلاد.    2_ طبقة المصريين: الطبقة الكادحة الذين يعيشون في عناء وشقاء.     العصر القبطي  العصر القبطي تسمية غير رسمية لمصر الر\n",
            "Answer: كم عدد انواع الرهبانية؟ إليك بعض المستندات  لمساعدتك في الإجابة الصحيحة وبذلك تعرض المصريون لألوان العذاب لاعتناقهم مذهبا مخالفا لمذهب الإمبراطورية.    كان المجتمع المصري في ذلك العهد يحيا في أسوأ أيامه حيث السلطة والإدارة والوظائف في يد الرومان واليونان وبعض اليهود من المتقربين إلى الرومان، والمصريون محرومون حتى من التمتع بخيرات بلادهم، لفرض الضرائب الباهظة المتعددة  عليهم وكذلك حرمانهم من الاشتراك في الجيش، مما جعلهم يعيشون كالغرباء عنها، وإذا وصل بعضهم إلى منصب دينى فإننا نجد الاضطهاد ينصب على هؤلاء القادة الدينيين، مما حمل فريق كبير منهم على الفرار بعقيدته إلى الأديرة والكهوف المنتشرة في أنحاء مصر واتخذوا عادة التنسك التي أخذوها عن اليهود، فازداد عدد الأديار تبعا لذلك وكثر عدد أعضائها الذين أعطوا لأنفسهم حق الإعفاء من الوظائف غير المأجورة وغيرها، وشذ بعض من هؤلاء فاحترفوا السطو والنهب.    وعلى هذا نقول أن المجتمع المصري في هذه الفترة كان على طبقتين:    1_ طبقة الرومان: وهم المنعمون المرفهون الذين يسكنون الحواضر ويتمتعون بخيرات البلاد.    2_ طبقة المصريين: الطبقة الكادحة الذين يعيشون في عناء وشقاء.     العصر القبطي  العصر القبطي تسمية غير رسمية لمصر الرهبانية في القرن 4 الميلادي، عندما تفرق رهبانية مصر القديمة وتشكل رهبانية جديدة في الأديرة والكهوف.    لقد كانت هذه الفترة من التاريخ المصري من أهم الفترات في تاريخ مصر القديمة، لما تتمتع بهذه الفترة من أهمية في تاريخ الإمبراطورية الرومانية والكنيسة المسيحية.    لقد كانت رهبانية مصر القديمة في هذه الفترة من أهم الفترات في تاريخ مصر القديمة، لما تتمتع بهذه الفترة من أهمية في تاريخ الإمبراطورية الرومانية والكنيسة المسيحية.    لقد كانت هذه الفترة من التاريخ المصري من أهم الفترات في تاريخ مصر القديمة، لما تتمتع بهذه الفترة من أهمية في تاريخ الإمبراطورية الرومانية والكنيسة المسيحية.    لقد كانت هذه الفترة من التاريخ المصري من أهم الفترات في تاريخ مصر القديمة، لما تتمتع بهذه الفترة من أهمية في تاريخ الإمبراطورية الرومانية والكنيسة المسيحية.    لقد كانت هذه الفترة من التاريخ المصري من أهم الفترات في تاريخ مصر القديمة، لما تتمتع بهذه الفترة من أهمية في تاريخ الإمبراطورية الرومانية والكنيسة المسيحية.    لقد كانت هذه الفترة من التاريخ المصري من أهم الفترات في تاريخ مصر القديمة، لما تتمتع بهذه الفترة من أهمية في تاريخ الإمبراطورية الرومانية والكنيسة المسيحية.    لقد كانت هذه الفترة من التاريخ المصري من أهم الفترات في تاريخ مصر القديمة، لما تتمتع بهذه الفترة من أهمية في تاريخ الإمبراطورية الرومانية والكنيسة المسيحية.    لقد كانت هذه الفترة من التاريخ المصري من أهم الفترات في تاريخ مصر القديمة، لما تتمتع بهذه الفترة من أهمية في تاريخ الإمبراطورية الرومانية والكنيسة المسيحية.    لقد كانت هذه الفترة من التاريخ المصري من أهم الفترات في تاريخ مصر القديمة، لما تتمتع بهذه الفترة من أهمية في تاريخ الإمبراطورية الرومانية والكنيسة المسيحية.    لقد كانت هذه الفترة من التاريخ المصري من أهم الفترات في تاريخ مصر القديمة، لما تتمتع بهذه الفترة من أهمية في تاريخ الإمبراطورية الرومانية والكنيسة المسيحية.    لقد كانت هذه الفترة من التاريخ المصري من أهم الفترات في تاريخ مصر القديمة، لما تتمتع بهذه الفترة من أهمية في تاريخ الإمبراطورية الرومانية والكنيسة المسيحية.    لقد كانت هذه الفترة من التاريخ المصري من أهم الفترات في تاريخ مصر القديمة، لما تتمتع بهذه الفترة من أهمية في تاريخ الإمبراطورية الرومانية والكنيسة المسيحية.    لقد كانت هذه الفترة من التاريخ المصري من أهم الفترات في تاريخ مصر القديمة، لما تتمتع بهذه الفترة من أهمية في تاريخ الإمبراطورية الرومانية والكنيسة المسيحية.    لقد كانت هذه الفترة من التاريخ المصري من أهم الفترات في تاريخ مصر القديمة، لما تتمتع بهذه الفترة من أهمية في تاريخ الإمبراطورية الرومانية والكنيسة المسيحية.    لقد كانت هذه الفترة من التاريخ المصري من أهم الفترات في تاريخ مصر القديمة، لما تتمتع بهذه الفترة من أهمية في تاريخ الإمبراطورية الرومانية والكنيسة المسيحية.    لقد كانت هذه الفترة من التاريخ المصري من أهم الفترات في تاريخ مصر القديمة، لما تتمتع بهذه الفترة من أهمية في تاريخ الإمبراطورية الرومانية والكنيسة المسيحية.    لقد كانت هذه الفترة من التاريخ المصري من أهم الفترات في تاريخ مصر القديمة، لما تتمتع بهذه الفترة من أهمية في تاريخ الإمبراطورية الرومانية والكنيسة المسيحية.    لقد كانت هذه الفترة من التاريخ المصري من أهم الفترات في تاريخ مصر القديمة، لما تتمتع بهذه الفترة من أهمية في تاريخ الإمبراطورية الرومانية والكنيسة المسيحية.    لقد كانت هذه الفترة من التاريخ المصري من أهم الفترات في تاريخ مصر القديمة، لما تتمتع بهذه الفترة من أهمية في تاريخ الإمبراطورية الرومانية والكنيسة المسيحية.    لقد كانت هذه الفترة من التاريخ المصري من أهم الفترات في تاريخ مصر القديمة\n"
          ]
        }
      ],
      "source": [
        "arabic_question =\"كم عدد انواع الرهبانية؟\"\n",
        "l_lama3(arabic_question)"
      ]
    },
    {
      "cell_type": "code",
      "execution_count": 40,
      "metadata": {
        "colab": {
          "base_uri": "https://localhost:8080/"
        },
        "id": "8oqykXR8k8Vx",
        "outputId": "e8595552-9a7b-4b39-9563-c0b6d13139c3"
      },
      "outputs": [
        {
          "output_type": "stream",
          "name": "stderr",
          "text": [
            "WARNING:sentence_transformers.SentenceTransformer:No sentence-transformers model found with name asafaya/bert-large-arabic. Creating a new one with MEAN pooling.\n",
            "/usr/local/lib/python3.10/dist-packages/transformers/pipelines/base.py:1157: UserWarning: You seem to be using the pipelines sequentially on GPU. In order to maximize efficiency please use a dataset\n",
            "  warnings.warn(\n",
            "Setting `pad_token_id` to `eos_token_id`:128001 for open-end generation.\n"
          ]
        },
        {
          "output_type": "stream",
          "name": "stdout",
          "text": [
            "Question: في أي عام تولى محمد علي باشا الحكم في مصر؟ إليك بعض المستندات  لمساعدتك في الإجابة الصحيحة بحلول خريف عام1981 قامت الحكومة بحملة اعتقالات واسعة شملت المنظمات الإسلامية ومسؤولي الكنيسة القبطية والكتاب والصحفيين ومفكرين يساريين وليبراليين ووصل عدد المعتقلين في السجون المصرية إلى 1536  معتقلاً وذلك علىإثر حدوث بوادر فتن واضطرابات شعبية رافضة للصلح مع إسرائيل ولسياسات الدولة الاقتصادية .   في 6 أكتوبر من عام1981 (بعد31 يوم من إعلان قرارات الاعتقال)، اغتيل في عرض عسكري كان يقام بمناسبة ذكرى حرب أكتوبر، وقام بالاغتيال خالد الإسلامبولي وحسين عباس وعطا طايل وعبد الحميد عبد السلام التابعين لمنظمة الجهاد الإسلامي التي كانت تعارض بشدة اتفاقية السلام مع إسرائيل، حيث اطلقوا الرصاص على الرئيس السادات مما أدى إلى  إصابته برصاصة في رقبته ورصاصة في صدره ورصاصة في قلبه. وجاء اغتيال السادات بعد أشهر قليلة من حادثة مقتل المشير أحمد بدوي وبعض القيادات العسكرية في تحطم طائرة الهليكوبتر بشكل غامض جدًا، مما فتح باب الشكوك حول وجود مؤامرة13[]14]  نائب الرئيس السابق محمد حسني مبارك.    يرى مؤيدو سياسته أنه الرئيس العربي الأكثر جرأة وواقعية في التعامل مع قضايا المنطقة وأنه انتشل مصر من براثن الدولة  ا\n",
            "Answer: في أي عام تولى محمد علي باشا الحكم في مصر؟ إليك بعض المستندات  لمساعدتك في الإجابة الصحيحة بحلول خريف عام1981 قامت الحكومة بحملة اعتقالات واسعة شملت المنظمات الإسلامية ومسؤولي الكنيسة القبطية والكتاب والصحفيين ومفكرين يساريين وليبراليين ووصل عدد المعتقلين في السجون المصرية إلى 1536  معتقلاً وذلك علىإثر حدوث بوادر فتن واضطرابات شعبية رافضة للصلح مع إسرائيل ولسياسات الدولة الاقتصادية .   في 6 أكتوبر من عام1981 (بعد31 يوم من إعلان قرارات الاعتقال)، اغتيل في عرض عسكري كان يقام بمناسبة ذكرى حرب أكتوبر، وقام بالاغتيال خالد الإسلامبولي وحسين عباس وعطا طايل وعبد الحميد عبد السلام التابعين لمنظمة الجهاد الإسلامي التي كانت تعارض بشدة اتفاقية السلام مع إسرائيل، حيث اطلقوا الرصاص على الرئيس السادات مما أدى إلى  إصابته برصاصة في رقبته ورصاصة في صدره ورصاصة في قلبه. وجاء اغتيال السادات بعد أشهر قليلة من حادثة مقتل المشير أحمد بدوي وبعض القيادات العسكرية في تحطم طائرة الهليكوبتر بشكل غامض جدًا، مما فتح باب الشكوك حول وجود مؤامرة13[]14]  نائب الرئيس السابق محمد حسني مبارك.    يرى مؤيدو سياسته أنه الرئيس العربي الأكثر جرأة وواقعية في التعامل مع قضايا المنطقة وأنه انتشل مصر من براثن الدولة  االنفية 15] .    في 1982، قامت الحكومة المصرية  بمراجعة الدستور المصرى  والقانون 16] .    في 1984، قامت الحكومة المصرية  بمراجعة الدستور المصرى  والقانون 17] .    في 1987، قامت الحكومة المصرية  بمراجعة الدستور المصرى  والقانون 18] .    في 1990، قامت الحكومة المصرية  بمراجعة الدستور المصرى  والقانون 19] .    في 1992، قامت الحكومة المصرية  بمراجعة الدستور المصرى  والقانون 20] .    في 1994، قامت الحكومة المصرية  بمراجعة الدستور المصرى  والقانون 21] .    في 1996، قامت الحكومة المصرية  بمراجعة الدستور المصرى  والقانون 22] .    في 1998، قامت الحكومة المصرية  بمراجعة الدستور المصرى  والقانون 23] .    في 2000، قامت الحكومة المصرية  بمراجعة الدستور المصرى  والقانون 24] .    في 2002، قامت الحكومة المصرية  بمراجعة الدستور المصرى  والقانون 25] .    في 2005، قامت الحكومة المصرية  بمراجعة الدستور المصرى  والقانون 26] .    في 2007، قامت الحكومة المصرية  بمراجعة الدستور المصرى  والقانون 27] .    في 2010، قامت الحكومة المصرية  بمراجعة الدستور المصرى  والقانون 28] .    في 2012، قامت الحكومة المصرية  بمراجعة الدستور المصرى  والقانون 29] .    في 2014، قامت الحكومة المصرية  بمراجعة الدستور المصرى  والقانون 30] .    في 2016، قامت الحكومة المصرية  بمراجعة الدستور المصرى  والقانون 31] .    في 2018، قامت الحكومة المصرية  بمراجعة الدستور المصرى  والقانون 32] .    في 2020، قامت الحكومة المصرية  بمراجعة الدستور المصرى  والقانون 33] .    في 2022، قامت الحكومة المصرية  بمراجعة الدستور المصرى  والقانون 34] .    في 2024، قامت الحكومة المصرية  بمراجعة الدستور المصرى  والقانون 35] .    في 2026، قامت الحكومة المصرية  بمراجعة الدستور المصرى  والقانون 36] .    في 2028، قامت الحكومة المصرية  بمراجعة الدستور المصرى  والقانون 37] .    في 2030، قامت الحكومة المصرية  بمراجعة الدستور المصرى  والقانون 38] .    في 2032، قامت الحكومة المصرية  بمراجعة الدستور المصرى  والقانون 39] .    في 2034، قامت الحكومة المصرية  بمراجعة الدستور المصرى  والقانون 40] .    في 2036، قامت الحكومة المصرية  بمراجعة الدستور المصرى  والقانون 41] .    في 2038، قامت الحكومة المصرية  بمراجعة الدستور المصرى  والقانون 42] .    في 2040، قامت الحكومة المصرية  بمراجعة الدستور المصرى  والقانون 43] .    في 2042، قامت الحكومة المصرية  بمراجعة الدستور المصرى  والقانون 44] .    في 2044، قامت الحكومة المصرية  بمراجعة الدستور المصرى  والقانون 45] .    في 2046، قامت الحكومة المصرية  بمراجعة الدستور المصرى  والقانون 46] .    في 2048، قامت الحكومة المصرية  بمراجعة الدستور المصرى  والقانون 47] .    في 2050، قامت الحكومة المصرية  بمراجعة الدستور المصرى  والقانون 48] .\n"
          ]
        }
      ],
      "source": [
        "arabic_question =\"في أي عام تولى محمد علي باشا الحكم في مصر؟\"\n",
        "l_lama3(arabic_question)"
      ]
    },
    {
      "cell_type": "code",
      "execution_count": 41,
      "metadata": {
        "colab": {
          "base_uri": "https://localhost:8080/"
        },
        "id": "yBIub_bek8YL",
        "outputId": "1ec8b8cd-9060-42cd-b71e-4e4f3d13ee4a"
      },
      "outputs": [
        {
          "output_type": "stream",
          "name": "stderr",
          "text": [
            "WARNING:sentence_transformers.SentenceTransformer:No sentence-transformers model found with name asafaya/bert-large-arabic. Creating a new one with MEAN pooling.\n",
            "/usr/local/lib/python3.10/dist-packages/transformers/pipelines/base.py:1157: UserWarning: You seem to be using the pipelines sequentially on GPU. In order to maximize efficiency please use a dataset\n",
            "  warnings.warn(\n",
            "Setting `pad_token_id` to `eos_token_id`:128001 for open-end generation.\n"
          ]
        },
        {
          "output_type": "stream",
          "name": "stdout",
          "text": [
            "Question: ما هي خصائص الحضارة الرومانية؟ إليك بعض المستندات  لمساعدتك في الإجابة الصحيحة ظهرت الكتابة لأول مرة مع الملكية على العلامات والتسميات للمواد التي وجدت في المقابر الملكية. كان هذا في المقام الأول  هو مهنة الكُتاب، الذين عملوا من مؤسسة مفتاح الحياة  أو دار الحياة. وقد ضم الأخير مكاتب ومكتبات (سميت دار الكتب) ومعامل ومراصد فلكية[109] وكانت أشهر قطع الأدب المصري القديم مثل نصوص الأهرام ونصوص التوابيت مكتوبةبالكلاسيكية المصرية.    من الأدب المصري القديم ظهر الحكيم بتاح حتب الذي كتب وصايا في الأخلاق والتعامل، يعتبر كتابه في الحكمة (تعاليم بتاح  حتب) أول كتاب في تاريخ البشرية عن الأخلاق وحسن السلوك . عاصر بتاح حتب الملك جد كا رع (2414  2375 قبلالميلاد، من الأسرة الخامسة) وعمل وزيرا له .   استمرت الكتابة الهيروغليفية الكلاسيكية بكونها لغة وطريقة الكتابة حتى حوالي 1300 ق.م. وبالنسبة لقواعد اللغة فقدوصلت ذروتها خلال الدولة الوسطى. ومعها كثرت الكتابة على البردي باستخدام شكل أخر من اللغة المصرية والذي بدأ في  الدولة الحديثة وفيما تلى، وقد تمثل هذا الشكل الحديث في وثائق راميسيد الإدارة، وقصائد الحب والقصص، بل وحتى  النصوص الشعبية والقبطية. وخلال هذه الفترة، تطورت تقاليد الكت\n",
            "Answer: ما هي خصائص الحضارة الرومانية؟ إليك بعض المستندات  لمساعدتك في الإجابة الصحيحة ظهرت الكتابة لأول مرة مع الملكية على العلامات والتسميات للمواد التي وجدت في المقابر الملكية. كان هذا في المقام الأول  هو مهنة الكُتاب، الذين عملوا من مؤسسة مفتاح الحياة  أو دار الحياة. وقد ضم الأخير مكاتب ومكتبات (سميت دار الكتب) ومعامل ومراصد فلكية[109] وكانت أشهر قطع الأدب المصري القديم مثل نصوص الأهرام ونصوص التوابيت مكتوبةبالكلاسيكية المصرية.    من الأدب المصري القديم ظهر الحكيم بتاح حتب الذي كتب وصايا في الأخلاق والتعامل، يعتبر كتابه في الحكمة (تعاليم بتاح  حتب) أول كتاب في تاريخ البشرية عن الأخلاق وحسن السلوك . عاصر بتاح حتب الملك جد كا رع (2414  2375 قبلالميلاد، من الأسرة الخامسة) وعمل وزيرا له .   استمرت الكتابة الهيروغليفية الكلاسيكية بكونها لغة وطريقة الكتابة حتى حوالي 1300 ق.م. وبالنسبة لقواعد اللغة فقدوصلت ذروتها خلال الدولة الوسطى. ومعها كثرت الكتابة على البردي باستخدام شكل أخر من اللغة المصرية والذي بدأ في  الدولة الحديثة وفيما تلى، وقد تمثل هذا الشكل الحديث في وثائق راميسيد الإدارة، وقصائد الحب والقصص، بل وحتى  النصوص الشعبية والقبطية. وخلال هذه الفترة، تطورت تقاليد الكتابة والهيروغليفية والهيروغليفية المتقدمة، مثل النقوش على الجدران والقباب والتماثيل.    من الأدب المصري القديم ظهرت الكتابة على البردي كتابةً شعبيةً في  الدولة الحديثة، حيث تمت كتابة قصص وتمثيلات وأسفار وأشعار على البردي، فكتبت قصص مثل قصة سينويه والقصص الأخرى، مثل قصة حورس والقصص الأخرى، وقد تمت كتابة هذه القصص على البردي في  الدولة الحديثة، والقبطية.    من الأدب المصري القديم ظهرت الكتابة على البردي كتابةً شعبيةً في  الدولة الحديثة، حيث تمت كتابة قصص وتمثيلات وأسفار وأشعار على البردي، فكتبت قصص مثل قصة سينويه والقصص الأخرى، مثل قصة حورس والقصص الأخرى، وقد تمت كتابة هذه القصص على البردي في  الدولة الحديثة، والقبطية.    من الأدب المصري القديم ظهرت الكتابة على البردي كتابةً شعبيةً في  الدولة الحديثة، حيث تمت كتابة قصص وتمثيلات وأسفار وأشعار على البردي، فكتبت قصص مثل قصة سينويه والقصص الأخرى، مثل قصة حورس والقصص الأخرى، وقد تمت كتابة هذه القصص على البردي في  الدولة الحديثة، والقبطية.    من الأدب المصري القديم ظهرت الكتابة على البردي كتابةً شعبيةً في  الدولة الحديثة، حيث تمت كتابة قصص وتمثيلات وأسفار وأشعار على البردي، فكتبت قصص مثل قصة سينويه والقصص الأخرى، مثل قصة حورس والقصص الأخرى، وقد تمت كتابة هذه القصص على البردي في  الدولة الحديثة، والقبطية.    من الأدب المصري القديم ظهرت الكتابة على البردي كتابةً شعبيةً في  الدولة الحديثة، حيث تمت كتابة قصص وتمثيلات وأسفار وأشعار على البردي، فكتبت قصص مثل قصة سينويه والقصص الأخرى، مثل قصة حورس والقصص الأخرى، وقد تمت كتابة هذه القصص على البردي في  الدولة الحديثة، والقبطية.    من الأدب المصري القديم ظهرت الكتابة على البردي كتابةً شعبيةً في  الدولة الحديثة، حيث تمت كتابة قصص وتمثيلات وأسفار وأشعار على البردي، فكتبت قصص مثل قصة سينويه والقصص الأخرى، مثل قصة حورس والقصص الأخرى، وقد تمت كتابة هذه القصص على البردي في  الدولة الحديثة، والقبطية.    من الأدب المصري القديم ظهرت الكتابة على البردي كتابةً شعبيةً في  الدولة الحديثة، حيث تمت كتابة قصص وتمثيلات وأسفار وأشعار على البردي، فكتبت قصص مثل قصة سينويه والقصص الأخرى، مثل قصة حورس والقصص الأخرى، وقد تمت كتابة هذه القصص على البردي في  الدولة الحديثة، والقبطية.    من الأدب المصري القديم ظهرت الكتابة على البردي كتابةً شعبيةً في  الدولة الحديثة، حيث تمت كتابة قصص وتمثيلات وأسفار وأشعار على البردي، فكتبت قصص مثل قصة سينويه والقصص الأخرى، مثل قصة حورس والقصص الأخرى، وقد تمت كتابة هذه القصص على البردي في  الدولة الحديثة، والقبطية.    من الأدب المصري القديم ظهرت الكتابة على البردي كتابةً شعبيةً في  الدولة الحديثة، حيث تمت كتابة قصص وتمثيلات وأسفار وأشعار على البردي، فكتبت قصص مثل قصة سينويه والقصص الأخرى، مثل قصة حورس والقصص الأخرى، وقد تمت كتابة هذه القصص على البردي في  الدولة الحديثة، والقبطية.    من الأدب المصري القديم ظهرت الكتابة على البردي كتابةً شعبيةً في  الدولة الحديثة، حيث تمت كتابة قصص وتمثيلات وأسفار وأشعار على البردي،\n"
          ]
        }
      ],
      "source": [
        "arabic_question =\"ما هي خصائص الحضارة الرومانية؟\"\n",
        "l_lama3(arabic_question)"
      ]
    },
    {
      "cell_type": "code",
      "execution_count": 42,
      "metadata": {
        "colab": {
          "base_uri": "https://localhost:8080/"
        },
        "id": "LHC710JCk8bh",
        "outputId": "bce87698-d2d7-4c44-b577-f7677b1e60b9"
      },
      "outputs": [
        {
          "output_type": "stream",
          "name": "stderr",
          "text": [
            "WARNING:sentence_transformers.SentenceTransformer:No sentence-transformers model found with name asafaya/bert-large-arabic. Creating a new one with MEAN pooling.\n",
            "/usr/local/lib/python3.10/dist-packages/transformers/pipelines/base.py:1157: UserWarning: You seem to be using the pipelines sequentially on GPU. In order to maximize efficiency please use a dataset\n",
            "  warnings.warn(\n",
            "Setting `pad_token_id` to `eos_token_id`:128001 for open-end generation.\n"
          ]
        },
        {
          "output_type": "stream",
          "name": "stdout",
          "text": [
            "Question: متى تولى بطليموس الثالث حكم مصر؟ إليك بعض المستندات  لمساعدتك في الإجابة الصحيحة وكانت  نصيب مصر من أحد كبار القواد العسكريين الذي صاحب الإسكندر في غزواته وكان أسمه بطليموس بن لا جوس  وبدأ حكم أسرته وأطلق عليها اسم الحكم البطلمى ليبدأ في مصر حكم الاحتلال البطلمى اليونانى    عندما تولى بطليموس الخامس العرش لقب بـ أبيفانس (الإله الظاهر) وكان لا يزال طفلاً  في الخامسة من العمر، وقد قامت  انقسامات وصراعات داخلية في عهده أدت إلى حرب اهلية  دموية في شوارع الإسكندرية، واستغل الملك السلوقى في سوريا أنطيوخس الثالث هذه الفرصة  للتدخل والاستيلاء على مصر والقضاء على أسرة البطالمة وضمها إلى أملاكه، فاحتل فينيقيا  وزحف بجيشه على مصر، وعندئذ تدخلت روما بالرغم من أنها كانت خارجة لتوها من الحرب الهانيبالية التي أنهكتها،  فأمرت أنطيوخس أن على الرغبة الأخيرة التي أبداها والد جلالته(راجع جوستينوس كاتب من القرن الثاني الميلادي   Justinus, Roman History, Bk 34, S. 2)    وقد اضطر أنطيوخس أمام موقف روما المتشدد أن يكتفى بانتصاراته وضم البلاد التي أستولى عليها خارج أراضى مصر  واعترف بوضع مصر الخاص إلا أنه قام بتزويج أبنته من بطليموس الخامس الذي مات سنة 180 ق.م    وهناك اختلاف آراء بين المؤ\n",
            "Answer: متى تولى بطليموس الثالث حكم مصر؟ إليك بعض المستندات  لمساعدتك في الإجابة الصحيحة وكانت  نصيب مصر من أحد كبار القواد العسكريين الذي صاحب الإسكندر في غزواته وكان أسمه بطليموس بن لا جوس  وبدأ حكم أسرته وأطلق عليها اسم الحكم البطلمى ليبدأ في مصر حكم الاحتلال البطلمى اليونانى    عندما تولى بطليموس الخامس العرش لقب بـ أبيفانس (الإله الظاهر) وكان لا يزال طفلاً  في الخامسة من العمر، وقد قامت  انقسامات وصراعات داخلية في عهده أدت إلى حرب اهلية  دموية في شوارع الإسكندرية، واستغل الملك السلوقى في سوريا أنطيوخس الثالث هذه الفرصة  للتدخل والاستيلاء على مصر والقضاء على أسرة البطالمة وضمها إلى أملاكه، فاحتل فينيقيا  وزحف بجيشه على مصر، وعندئذ تدخلت روما بالرغم من أنها كانت خارجة لتوها من الحرب الهانيبالية التي أنهكتها،  فأمرت أنطيوخس أن على الرغبة الأخيرة التي أبداها والد جلالته(راجع جوستينوس كاتب من القرن الثاني الميلادي   Justinus, Roman History, Bk 34, S. 2)    وقد اضطر أنطيوخس أمام موقف روما المتشدد أن يكتفى بانتصاراته وضم البلاد التي أستولى عليها خارج أراضى مصر  واعترف بوضع مصر الخاص إلا أنه قام بتزويج أبنته من بطليموس الخامس الذي مات سنة 180 ق.م    وهناك اختلاف آراء بين المؤرخين حول ما إذا كان أنطيوخس الثالث قد حكم مصر فعلاً أم لا    بعض المؤرخين يؤكدون أن أنطيوخس الثالث حكم مصر فيما بين 170-164 ق.م    فيما يرى آخرون أن هذا الإقليم هو خلافي في التاريخ  فلا يوجد أي دليل قاطع يثبت أن أنطيوخس الثالث حكم مصر    في النهاية لا يوجد أي دليل قاطع يثبت أن أنطيوخس الثالث حكم مصر    فلا يوجد أي دليل قاطع يثبت أن أنطيوخس الثالث حكم مصر    فلا يوجد أي دليل قاطع يثبت أن أنطيوخس الثالث حكم مصر    فلا يوجد أي دليل قاطع يثبت أن أنطيوخس الثالث حكم مصر    فلا يوجد أي دليل قاطع يثبت أن أنطيوخس الثالث حكم مصر    فلا يوجد أي دليل قاطع يثبت أن أنطيوخس الثالث حكم مصر    فلا يوجد أي دليل قاطع يثبت أن أنطيوخس الثالث حكم مصر    فلا يوجد أي دليل قاطع يثبت أن أنطيوخس الثالث حكم مصر    فلا يوجد أي دليل قاطع يثبت أن أنطيوخس الثالث حكم مصر    فلا يوجد أي دليل قاطع يثبت أن أنطيوخس الثالث حكم مصر    فلا يوجد أي دليل قاطع يثبت أن أنطيوخس الثالث حكم مصر    فلا يوجد أي دليل قاطع يثبت أن أنطيوخس الثالث حكم مصر    فلا يوجد أي دليل قاطع يثبت أن أنطيوخس الثالث حكم مصر    فلا يوجد أي دليل قاطع يثبت أن أنطيوخس الثالث حكم مصر    فلا يوجد أي دليل قاطع يثبت أن أنطيوخس الثالث حكم مصر    فلا يوجد أي دليل قاطع يثبت أن أنطيوخس الثالث حكم مصر    فلا يوجد أي دليل قاطع يثبت أن أنطيوخس الثالث حكم مصر    فلا يوجد أي دليل قاطع يثبت أن أنطيوخس الثالث حكم مصر    فلا يوجد أي دليل قاطع يثبت أن أنطيوخس الثالث حكم مصر    فلا يوجد أي دليل قاطع يثبت أن أنطيوخس الثالث حكم مصر    فلا يوجد أي دليل قاطع يثبت أن أنطيوخس الثالث حكم مصر    فلا يوجد أي دليل قاطع يثبت أن أنطيوخس الثالث حكم مصر    فلا يوجد أي دليل قاطع يثبت أن أنطيوخس الثالث حكم مصر    فلا يوجد أي دليل قاطع يثبت أن أنطيوخس الثالث حكم مصر    فلا يوجد أي دليل قاطع يثبت أن أنطيوخس الثالث حكم مصر    فلا يوجد أي دليل قاطع يثبت أن أنطيوخس الثالث حكم مصر    فلا يوجد أي دليل قاطع يثبت أن أنطيوخس الثالث حكم مصر    فلا يوجد أي دليل قاطع يثبت أن أنطيوخس الثالث حكم مصر    فلا يوجد أي دليل قاطع يثبت أن أنطيوخس الثالث حكم مصر    فلا يوجد أي دليل قاطع يثبت أن أنطيوخس الثالث حكم مصر    فلا يوجد أي دليل قاطع يثبت أن أنطيوخس الثالث حكم مصر    فلا يوجد أي دليل قاطع يثبت أن أنطيوخس الثالث حكم مصر    فلا يوجد أي دليل قاطع يثبت أن أنطيوخس الثالث حكم مصر    فلا يوجد أي دليل قاطع يثبت أن أنطيوخس الثالث حكم مصر    فلا يوجد أي دليل قاطع يثبت أن أنطيوخس الثالث حكم مصر    فلا يوجد أي دليل قاطع يثبت أن أنطيوخس الثالث حكم مصر    فلا يوجد أي دليل قاطع يثبت أن أنطيوخس الثالث حكم مصر    فلا يوجد أي دليل قاطع يثبت أن أنطيوخس الثالث حكم مصر    فلا يوجد أي دليل قاطع يثبت أن أنطيوخس الثالث حكم مصر    فلا يوجد أي دليل قاطع يثبت أن أنطيوخس الثالث حكم مصر    فلا يوجد أي دليل قاطع يثبت أن أنطيوخس الثالث حكم مصر    فلا\n"
          ]
        }
      ],
      "source": [
        "arabic_question =\"متى تولى بطليموس الثالث حكم مصر؟\"\n",
        "l_lama3(arabic_question)"
      ]
    },
    {
      "cell_type": "code",
      "execution_count": 43,
      "metadata": {
        "colab": {
          "base_uri": "https://localhost:8080/"
        },
        "id": "0-xBXESekuHI",
        "outputId": "cebabba4-353d-4a79-e3b9-84ae13c42c96"
      },
      "outputs": [
        {
          "output_type": "stream",
          "name": "stderr",
          "text": [
            "WARNING:sentence_transformers.SentenceTransformer:No sentence-transformers model found with name asafaya/bert-large-arabic. Creating a new one with MEAN pooling.\n",
            "/usr/local/lib/python3.10/dist-packages/transformers/pipelines/base.py:1157: UserWarning: You seem to be using the pipelines sequentially on GPU. In order to maximize efficiency please use a dataset\n",
            "  warnings.warn(\n",
            "Setting `pad_token_id` to `eos_token_id`:128001 for open-end generation.\n"
          ]
        },
        {
          "output_type": "stream",
          "name": "stdout",
          "text": [
            "Question: كيف ساهم محمد علي باشا في تعزيز التقدم العلمي والتكنولوجي في مصر؟ إليك بعض المستندات  لمساعدتك في الإجابة الصحيحة بحلول خريف عام1981 قامت الحكومة بحملة اعتقالات واسعة شملت المنظمات الإسلامية ومسؤولي الكنيسة القبطية والكتاب والصحفيين ومفكرين يساريين وليبراليين ووصل عدد المعتقلين في السجون المصرية إلى 1536  معتقلاً وذلك علىإثر حدوث بوادر فتن واضطرابات شعبية رافضة للصلح مع إسرائيل ولسياسات الدولة الاقتصادية .   في 6 أكتوبر من عام1981 (بعد31 يوم من إعلان قرارات الاعتقال)، اغتيل في عرض عسكري كان يقام بمناسبة ذكرى حرب أكتوبر، وقام بالاغتيال خالد الإسلامبولي وحسين عباس وعطا طايل وعبد الحميد عبد السلام التابعين لمنظمة الجهاد الإسلامي التي كانت تعارض بشدة اتفاقية السلام مع إسرائيل، حيث اطلقوا الرصاص على الرئيس السادات مما أدى إلى  إصابته برصاصة في رقبته ورصاصة في صدره ورصاصة في قلبه. وجاء اغتيال السادات بعد أشهر قليلة من حادثة مقتل المشير أحمد بدوي وبعض القيادات العسكرية في تحطم طائرة الهليكوبتر بشكل غامض جدًا، مما فتح باب الشكوك حول وجود مؤامرة13[]14]  نائب الرئيس السابق محمد حسني مبارك.    يرى مؤيدو سياسته أنه الرئيس العربي الأكثر جرأة وواقعية في التعامل مع قضايا المنطقة وأنه انتشل مصر من براثن الدولة  ا\n",
            "Answer: كيف ساهم محمد علي باشا في تعزيز التقدم العلمي والتكنولوجي في مصر؟ إليك بعض المستندات  لمساعدتك في الإجابة الصحيحة بحلول خريف عام1981 قامت الحكومة بحملة اعتقالات واسعة شملت المنظمات الإسلامية ومسؤولي الكنيسة القبطية والكتاب والصحفيين ومفكرين يساريين وليبراليين ووصل عدد المعتقلين في السجون المصرية إلى 1536  معتقلاً وذلك علىإثر حدوث بوادر فتن واضطرابات شعبية رافضة للصلح مع إسرائيل ولسياسات الدولة الاقتصادية .   في 6 أكتوبر من عام1981 (بعد31 يوم من إعلان قرارات الاعتقال)، اغتيل في عرض عسكري كان يقام بمناسبة ذكرى حرب أكتوبر، وقام بالاغتيال خالد الإسلامبولي وحسين عباس وعطا طايل وعبد الحميد عبد السلام التابعين لمنظمة الجهاد الإسلامي التي كانت تعارض بشدة اتفاقية السلام مع إسرائيل، حيث اطلقوا الرصاص على الرئيس السادات مما أدى إلى  إصابته برصاصة في رقبته ورصاصة في صدره ورصاصة في قلبه. وجاء اغتيال السادات بعد أشهر قليلة من حادثة مقتل المشير أحمد بدوي وبعض القيادات العسكرية في تحطم طائرة الهليكوبتر بشكل غامض جدًا، مما فتح باب الشكوك حول وجود مؤامرة13[]14]  نائب الرئيس السابق محمد حسني مبارك.    يرى مؤيدو سياسته أنه الرئيس العربي الأكثر جرأة وواقعية في التعامل مع قضايا المنطقة وأنه انتشل مصر من براثن الدولة  اتهمته بالفساد والفساد الإداري،  وأنه ساعد في بناء مصر الحديثة والقومية والثقافية والسياسية.    يرى معارضو سياسته أنه الرئيس العربي الأكثر جراءة في التعامل مع قضايا المنطقة،  وأنه ساعد في تدمير الاقتصاد المصرية والسياسية والثقافية والقومية،  وأنه ساعد في تدمير مصر الحديثة والقومية والثقافية والسياسية.    السادات هو من أهم الشخصيات العربية في القرن 20،  وأهم الشخصيات في تاريخ مصر الحديثة،  وأهم الشخصيات في التاريخ العربي الحديث،  وأهم الشخصيات في التاريخ العالمي الحديث.    السادات هو من أهم الشخصيات العربية في القرن 20،  وأهم الشخصيات في تاريخ مصر الحديثة،  وأهم الشخصيات في التاريخ العربي الحديث،  وأهم الشخصيات في التاريخ العالمي الحديث.    السادات هو من أهم الشخصيات العربية في القرن 20،  وأهم الشخصيات في تاريخ مصر الحديثة،  وأهم الشخصيات في التاريخ العربي الحديث،  وأهم الشخصيات في التاريخ العالمي الحديث.    السادات هو من أهم الشخصيات العربية في القرن 20،  وأهم الشخصيات في تاريخ مصر الحديثة،  وأهم الشخصيات في التاريخ العربي الحديث،  وأهم الشخصيات في التاريخ العالمي الحديث.    السادات هو من أهم الشخصيات العربية في القرن 20،  وأهم الشخصيات في تاريخ مصر الحديثة،  وأهم الشخصيات في التاريخ العربي الحديث،  وأهم الشخصيات في التاريخ العالمي الحديث.    السادات هو من أهم الشخصيات العربية في القرن 20،  وأهم الشخصيات في تاريخ مصر الحديثة،  وأهم الشخصيات في التاريخ العربي الحديث،  وأهم الشخصيات في التاريخ العالمي الحديث.    السادات هو من أهم الشخصيات العربية في القرن 20،  وأهم الشخصيات في تاريخ مصر الحديثة،  وأهم الشخصيات في التاريخ العربي الحديث،  وأهم الشخصيات في التاريخ العالمي الحديث.    السادات هو من أهم الشخصيات العربية في القرن 20،  وأهم الشخصيات في تاريخ مصر الحديثة،  وأهم الشخصيات في التاريخ العربي الحديث،  وأهم الشخصيات في التاريخ العالمي الحديث.    السادات هو من أهم الشخصيات العربية في القرن 20،  وأهم الشخصيات في تاريخ مصر الحديثة،  وأهم الشخصيات في التاريخ العربي الحديث،  وأهم الشخصيات في التاريخ العالمي الحديث.    السادات هو من أهم الشخصيات العربية في القرن 20،  وأهم الشخصيات في تاريخ مصر الحديثة،  وأهم الشخصيات في التاريخ العربي الحديث،  وأهم الشخصيات في التاريخ العالمي الحديث.    السادات هو من أهم الشخصيات العربية في القرن 20،  وأهم الشخصيات في تاريخ مصر الحديثة،  وأهم الشخصيات في التاريخ العربي الحديث،  وأهم الشخصيات في التاريخ العالمي الحديث.    السادات هو من أهم الشخصيات العربية في القرن 20،  وأهم الشخصيات في تاريخ مصر الحديثة،  وأهم الشخصيات في التاريخ العربي الحديث،  وأهم الشخصيات في التاريخ العالمي الحديث.    السادات هو من أهم الشخصيات العربية في القرن 20،  وأهم الشخصيات في تاريخ مصر الحديثة،  وأهم الشخصيات في التاريخ العربي الحديث،  وأهم الشخصيات في التاريخ العالمي الحديث.    السادات هو من أهم الشخصيات العربية في القرن 20،  وأهم الشخصيات في تاريخ مصر الحديثة،  وأهم الشخصيات في التاريخ العربي الحديث،  وأهم الشخصيات في التاريخ العالمي الحديث.    السادات هو من أهم الشخصيات العربية في القرن 20،  وأهم الشخصيات في تاريخ مصر الحديثة،  وأهم الشخصيات في التاريخ العربي الحديث،  وأهم الشخصيات في التاريخ العالمي الحديث.    السادات هو من أهم الشخصيات العربية في القرن 20،  وأهم الشخصيات في تاريخ مصر الحديثة،  وأهم الشخصيات في التاريخ العربي الحديث،  وأهم الشخصيات في التاريخ العالمي الحديث.    السادات هو من أهم الشخصيات العربية في القرن 20،  وأهم الشخصيات في تاريخ مصر الحديثة،  وأهم الشخصيات في التاريخ العربي الحديث،  وأهم الشخصيات في التاريخ العالمي الحديث.    السادات هو من أهم الشخصيات العربية في القرن 20،  وأهم الشخصيات في تاريخ مصر الحديثة،  وأهم الشخصيات في التاريخ العربي الحديث،  وأهم الشخصيات في التاريخ العالمي الحديث.    السادات هو من أهم الشخصيات العربية في القرن 20،  وأهم الشخصيات في تاريخ مصر الحديثة،  وأهم الشخصيات في التاريخ العربي الحديث،  وأهم الشخصيات في التاريخ العالمي الحديث.    السادات هو من أهم الشخصيات العربية في القرن 20،  وأهم الشخصيات في تاريخ مصر الحديثة،  وأهم الشخصيات في التاريخ العربي الحديث،  وأهم الشخصيات في التاريخ العالمي الحديث.    السادات هو من أهم الشخصيات العربية في القرن 20،  وأهم الشخصيات في تاريخ مصر الحديثة،  وأهم الشخصيات في التاريخ العربي الحديث،  وأهم الشخصيات\n"
          ]
        }
      ],
      "source": [
        "arabic_question =\"كيف ساهم محمد علي باشا في تعزيز التقدم العلمي والتكنولوجي في مصر؟\"\n",
        "l_lama3(arabic_question)"
      ]
    },
    {
      "cell_type": "code",
      "execution_count": 44,
      "metadata": {
        "colab": {
          "base_uri": "https://localhost:8080/"
        },
        "id": "wljGzwPqkeQN",
        "outputId": "27ce811e-9218-4ca1-898e-49e7b2636c6b"
      },
      "outputs": [
        {
          "output_type": "stream",
          "name": "stderr",
          "text": [
            "WARNING:sentence_transformers.SentenceTransformer:No sentence-transformers model found with name asafaya/bert-large-arabic. Creating a new one with MEAN pooling.\n",
            "/usr/local/lib/python3.10/dist-packages/transformers/pipelines/base.py:1157: UserWarning: You seem to be using the pipelines sequentially on GPU. In order to maximize efficiency please use a dataset\n",
            "  warnings.warn(\n",
            "Setting `pad_token_id` to `eos_token_id`:128001 for open-end generation.\n"
          ]
        },
        {
          "output_type": "stream",
          "name": "stdout",
          "text": [
            "Question: من قام ببناء مكتبة الإسكندرية؟ إليك بعض المستندات  لمساعدتك في الإجابة الصحيحة بحلول خريف عام1981 قامت الحكومة بحملة اعتقالات واسعة شملت المنظمات الإسلامية ومسؤولي الكنيسة القبطية والكتاب والصحفيين ومفكرين يساريين وليبراليين ووصل عدد المعتقلين في السجون المصرية إلى 1536  معتقلاً وذلك علىإثر حدوث بوادر فتن واضطرابات شعبية رافضة للصلح مع إسرائيل ولسياسات الدولة الاقتصادية .   في 6 أكتوبر من عام1981 (بعد31 يوم من إعلان قرارات الاعتقال)، اغتيل في عرض عسكري كان يقام بمناسبة ذكرى حرب أكتوبر، وقام بالاغتيال خالد الإسلامبولي وحسين عباس وعطا طايل وعبد الحميد عبد السلام التابعين لمنظمة الجهاد الإسلامي التي كانت تعارض بشدة اتفاقية السلام مع إسرائيل، حيث اطلقوا الرصاص على الرئيس السادات مما أدى إلى  إصابته برصاصة في رقبته ورصاصة في صدره ورصاصة في قلبه. وجاء اغتيال السادات بعد أشهر قليلة من حادثة مقتل المشير أحمد بدوي وبعض القيادات العسكرية في تحطم طائرة الهليكوبتر بشكل غامض جدًا، مما فتح باب الشكوك حول وجود مؤامرة13[]14]  نائب الرئيس السابق محمد حسني مبارك.    يرى مؤيدو سياسته أنه الرئيس العربي الأكثر جرأة وواقعية في التعامل مع قضايا المنطقة وأنه انتشل مصر من براثن الدولة  ا\n",
            "Answer: من قام ببناء مكتبة الإسكندرية؟ إليك بعض المستندات  لمساعدتك في الإجابة الصحيحة بحلول خريف عام1981 قامت الحكومة بحملة اعتقالات واسعة شملت المنظمات الإسلامية ومسؤولي الكنيسة القبطية والكتاب والصحفيين ومفكرين يساريين وليبراليين ووصل عدد المعتقلين في السجون المصرية إلى 1536  معتقلاً وذلك علىإثر حدوث بوادر فتن واضطرابات شعبية رافضة للصلح مع إسرائيل ولسياسات الدولة الاقتصادية .   في 6 أكتوبر من عام1981 (بعد31 يوم من إعلان قرارات الاعتقال)، اغتيل في عرض عسكري كان يقام بمناسبة ذكرى حرب أكتوبر، وقام بالاغتيال خالد الإسلامبولي وحسين عباس وعطا طايل وعبد الحميد عبد السلام التابعين لمنظمة الجهاد الإسلامي التي كانت تعارض بشدة اتفاقية السلام مع إسرائيل، حيث اطلقوا الرصاص على الرئيس السادات مما أدى إلى  إصابته برصاصة في رقبته ورصاصة في صدره ورصاصة في قلبه. وجاء اغتيال السادات بعد أشهر قليلة من حادثة مقتل المشير أحمد بدوي وبعض القيادات العسكرية في تحطم طائرة الهليكوبتر بشكل غامض جدًا، مما فتح باب الشكوك حول وجود مؤامرة13[]14]  نائب الرئيس السابق محمد حسني مبارك.    يرى مؤيدو سياسته أنه الرئيس العربي الأكثر جرأة وواقعية في التعامل مع قضايا المنطقة وأنه انتشل مصر من براثن الدولة  ا لليبرالية والديمقراطية والقومية العربية والاسلامية.    في 26 أكتوبر 1981، تم انتخاب حسني مبارك رئيساً جديداً لمصر، بعد أن تم انتخابه نائباً للرئيس في 1975.    في 8 أكتوبر 1981، تم انتخاب حسني مبارك رئيساً جديداً لمصر، بعد أن تم انتخابه نائباً للرئيس في 1975.    في 26 أكتوبر 1981، تم انتخاب حسني مبارك رئيساً جديداً لمصر، بعد أن تم انتخابه نائباً للرئيس في 1975.    في 8 أكتوبر 1981، تم انتخاب حسني مبارك رئيساً جديداً لمصر، بعد أن تم انتخابه نائباً للرئيس في 1975.    في 26 أكتوبر 1981، تم انتخاب حسني مبارك رئيساً جديداً لمصر، بعد أن تم انتخابه نائباً للرئيس في 1975.    في 8 أكتوبر 1981، تم انتخاب حسني مبارك رئيساً جديداً لمصر، بعد أن تم انتخابه نائباً للرئيس في 1975.    في 26 أكتوبر 1981، تم انتخاب حسني مبارك رئيساً جديداً لمصر، بعد أن تم انتخابه نائباً للرئيس في 1975.    في 8 أكتوبر 1981، تم انتخاب حسني مبارك رئيساً جديداً لمصر، بعد أن تم انتخابه نائباً للرئيس في 1975.    في 26 أكتوبر 1981، تم انتخاب حسني مبارك رئيساً جديداً لمصر، بعد أن تم انتخابه نائباً للرئيس في 1975.    في 8 أكتوبر 1981، تم انتخاب حسني مبارك رئيساً جديداً لمصر، بعد أن تم انتخابه نائباً للرئيس في 1975.    في 26 أكتوبر 1981، تم انتخاب حسني مبارك رئيساً جديداً لمصر، بعد أن تم انتخابه نائباً للرئيس في 1975.    في 8 أكتوبر 1981، تم انتخاب حسني مبارك رئيساً جديداً لمصر، بعد أن تم انتخابه نائباً للرئيس في 1975.    في 26 أكتوبر 1981، تم انتخاب حسني مبارك رئيساً جديداً لمصر، بعد أن تم انتخابه نائباً للرئيس في 1975.    في 8 أكتوبر 1981، تم انتخاب حسني مبارك رئيساً جديداً لمصر، بعد أن تم انتخابه نائباً للرئيس في 1975.    في 26 أكتوبر 1981، تم انتخاب حسني مبارك رئيساً جديداً لمصر، بعد أن تم انتخابه نائباً للرئيس في 1975.    في 8 أكتوبر 1981، تم انتخاب حسني مبارك رئيساً جديداً لمصر، بعد أن تم انتخابه نائباً للرئيس في 1975.    في 26 أكتوبر 1981، تم انتخاب حسني مبارك رئيساً جديداً لمصر، بعد أن تم انتخابه نائباً للرئيس في 1975.    في 8 أكتوبر 1981، تم انتخاب حسني مبارك رئيساً جديداً لمصر، بعد أن تم انتخابه نائباً للرئيس في 1975.    في 26 أكتوبر 1981، تم انتخاب حسني مبارك رئيساً جديداً لمصر، بعد أن تم انتخابه نائباً للرئيس في 1975.    في 8 أكتوبر 1981، تم انتخاب حسني مبارك رئيساً جديداً لمصر، بعد أن تم انتخابه نائباً للرئيس في 1975.    في 26 أكتوبر 1981، تم انتخاب حسني مبارك رئيساً جديداً لمصر، بعد أن تم انتخابه نائباً للرئيس في 1975.    في 8 أكتوبر 1981، تم انتخاب حسني مبارك رئيساً جديداً لمصر، بعد أن تم انتخابه نائباً للرئيس في 1975.    في 26 أكتوبر 1981، تم انتخاب حسني مبارك رئيساً جديداً لمصر، بعد أن تم انتخابه نائباً للرئيس في 1975.    في 8 أكتوبر 1981، تم انتخاب حسني مبارك رئيساً جديداً لمصر، بعد أن تم انتخابه نائباً للرئيس في 1975.    في 26 أكتوبر 1981، تم انتخاب حسني مبارك رئيساً جديداً لمصر، بعد أن تم انتخابه نائباً للرئيس في 1975.    في 8 أكتوبر 1981، تم انتخاب حسني مبارك رئيساً جديداً لمصر، بعد أن تم انتخاب\n"
          ]
        }
      ],
      "source": [
        "arabic_question =\"من قام ببناء مكتبة الإسكندرية؟\"\n",
        "l_lama3(arabic_question)"
      ]
    },
    {
      "cell_type": "code",
      "execution_count": 45,
      "metadata": {
        "colab": {
          "base_uri": "https://localhost:8080/"
        },
        "id": "-uBg6epklDH9",
        "outputId": "65237182-c553-4dd3-f79e-50feaa509822"
      },
      "outputs": [
        {
          "output_type": "stream",
          "name": "stderr",
          "text": [
            "WARNING:sentence_transformers.SentenceTransformer:No sentence-transformers model found with name asafaya/bert-large-arabic. Creating a new one with MEAN pooling.\n",
            "/usr/local/lib/python3.10/dist-packages/transformers/pipelines/base.py:1157: UserWarning: You seem to be using the pipelines sequentially on GPU. In order to maximize efficiency please use a dataset\n",
            "  warnings.warn(\n",
            "Setting `pad_token_id` to `eos_token_id`:128001 for open-end generation.\n"
          ]
        },
        {
          "output_type": "stream",
          "name": "stdout",
          "text": [
            "Question: متى جاء الفتح الاسلامى على مصر ؟ إليك بعض المستندات  لمساعدتك في الإجابة الصحيحة وبذلك تعرض المصريون لألوان العذاب لاعتناقهم مذهبا مخالفا لمذهب الإمبراطورية.    كان المجتمع المصري في ذلك العهد يحيا في أسوأ أيامه حيث السلطة والإدارة والوظائف في يد الرومان واليونان وبعض اليهود من المتقربين إلى الرومان، والمصريون محرومون حتى من التمتع بخيرات بلادهم، لفرض الضرائب الباهظة المتعددة  عليهم وكذلك حرمانهم من الاشتراك في الجيش، مما جعلهم يعيشون كالغرباء عنها، وإذا وصل بعضهم إلى منصب دينى فإننا نجد الاضطهاد ينصب على هؤلاء القادة الدينيين، مما حمل فريق كبير منهم على الفرار بعقيدته إلى الأديرة والكهوف المنتشرة في أنحاء مصر واتخذوا عادة التنسك التي أخذوها عن اليهود، فازداد عدد الأديار تبعا لذلك وكثر عدد أعضائها الذين أعطوا لأنفسهم حق الإعفاء من الوظائف غير المأجورة وغيرها، وشذ بعض من هؤلاء فاحترفوا السطو والنهب.    وعلى هذا نقول أن المجتمع المصري في هذه الفترة كان على طبقتين:    1_ طبقة الرومان: وهم المنعمون المرفهون الذين يسكنون الحواضر ويتمتعون بخيرات البلاد.    2_ طبقة المصريين: الطبقة الكادحة الذين يعيشون في عناء وشقاء.     العصر القبطي  العصر القبطي تسمية غير رسمية لمصر الر\n",
            "Answer: متى جاء الفتح الاسلامى على مصر ؟ إليك بعض المستندات  لمساعدتك في الإجابة الصحيحة وبذلك تعرض المصريون لألوان العذاب لاعتناقهم مذهبا مخالفا لمذهب الإمبراطورية.    كان المجتمع المصري في ذلك العهد يحيا في أسوأ أيامه حيث السلطة والإدارة والوظائف في يد الرومان واليونان وبعض اليهود من المتقربين إلى الرومان، والمصريون محرومون حتى من التمتع بخيرات بلادهم، لفرض الضرائب الباهظة المتعددة  عليهم وكذلك حرمانهم من الاشتراك في الجيش، مما جعلهم يعيشون كالغرباء عنها، وإذا وصل بعضهم إلى منصب دينى فإننا نجد الاضطهاد ينصب على هؤلاء القادة الدينيين، مما حمل فريق كبير منهم على الفرار بعقيدته إلى الأديرة والكهوف المنتشرة في أنحاء مصر واتخذوا عادة التنسك التي أخذوها عن اليهود، فازداد عدد الأديار تبعا لذلك وكثر عدد أعضائها الذين أعطوا لأنفسهم حق الإعفاء من الوظائف غير المأجورة وغيرها، وشذ بعض من هؤلاء فاحترفوا السطو والنهب.    وعلى هذا نقول أن المجتمع المصري في هذه الفترة كان على طبقتين:    1_ طبقة الرومان: وهم المنعمون المرفهون الذين يسكنون الحواضر ويتمتعون بخيرات البلاد.    2_ طبقة المصريين: الطبقة الكادحة الذين يعيشون في عناء وشقاء.     العصر القبطي  العصر القبطي تسمية غير رسمية لمصر الرسومية، عهود من 332 ق.م. إلى 395 م.، وتمتد إلى 641 م.، عندما انتهى العصر القبطي.    كان العصر القبطي فترة من التمدن والازدهار في مصر، حيث عادت مصر إلى أهضها القديمة، وازدادت الأنشطة الاقتصادية والثقافية والسياسية،    ففي هذه الفترة شهدت مصر عهود من النمو والازدهار، فكانت هناك أزمة في عهود الإمبراطورية الرومانية،    فكانت هناك أزمة في عهود الإمبراطورية الرومانية،    فكانت هناك أزمة في عهود الإمبراطورية الرومانية،    فكانت هناك أزمة في عهود الإمبراطورية الرومانية،    فكانت هناك أزمة في عهود الإمبراطورية الرومانية،    فكانت هناك أزمة في عهود الإمبراطورية الرومانية،    فكانت هناك أزمة في عهود الإمبراطورية الرومانية،    فكانت هناك أزمة في عهود الإمبراطورية الرومانية،    فكانت هناك أزمة في عهود الإمبراطورية الرومانية،    فكانت هناك أزمة في عهود الإمبراطورية الرومانية،    فكانت هناك أزمة في عهود الإمبراطورية الرومانية،    فكانت هناك أزمة في عهود الإمبراطورية الرومانية،    فكانت هناك أزمة في عهود الإمبراطورية الرومانية،    فكانت هناك أزمة في عهود الإمبراطورية الرومانية،    فكانت هناك أزمة في عهود الإمبراطورية الرومانية،    فكانت هناك أزمة في عهود الإمبراطورية الرومانية،    فكانت هناك أزمة في عهود الإمبراطورية الرومانية،    فكانت هناك أزمة في عهود الإمبراطورية الرومانية،    فكانت هناك أزمة في عهود الإمبراطورية الرومانية،    فكانت هناك أزمة في عهود الإمبراطورية الرومانية،    فكانت هناك أزمة في عهود الإمبراطورية الرومانية،    فكانت هناك أزمة في عهود الإمبراطورية الرومانية،    فكانت هناك أزمة في عهود الإمبراطورية الرومانية،    فكانت هناك أزمة في عهود الإمبراطورية الرومانية،    فكانت هناك أزمة في عهود الإمبراطورية الرومانية،    فكانت هناك أزمة في عهود الإمبراطورية الرومانية،    فكانت هناك أزمة في عهود الإمبراطورية الرومانية،    فكانت هناك أزمة في عهود الإمبراطورية الرومانية،    فكانت هناك أزمة في عهود الإمبراطورية الرومانية،    فكانت هناك أزمة في عهود الإمبراطورية الرومانية،    فكانت هناك أزمة في عهود الإمبراطورية الرومانية،    فكانت هناك أزمة في عهود الإمبراطورية الرومانية،    فكانت هناك أزمة في عهود الإمبراطورية الرومانية،    فكانت هناك أزمة في عهود الإمبراطورية الرومانية،    فكانت هناك أزمة في عهود الإمبراطورية الرومانية،    فكانت هناك أزمة في عهود الإمبراطورية الرومانية،    فكانت هناك أزمة في عهود الإمبراطورية الرومانية،    فكانت هناك أزمة في عهود الإمبراطورية الرومانية،    فكانت هناك أزمة في عهود الإمبراطورية الرومانية،    فكانت هناك أزمة في عهود الإمبراطورية الرومانية،    فكانت هناك أزمة في عهود الإمبراطورية الرومانية،    فكانت هناك أزمة في عهود الإمبراطورية الرومانية،    فكانت هناك أزمة في عهود الإمبراطورية الرومانية،    فكانت هناك أزمة في عهود الإمبراطورية الرومانية،    فكانت هناك أزمة في عهود الإمبراطورية الرومانية،    فكانت هناك أزمة في عهود الإمبراطورية الرومانية،    فكانت هناك أزمة في عهود الإمبراطورية الرومانية،    فكانت هناك أزمة في عهود الإمبراطورية الرومانية،    فكانت هناك أزمة في عهود الإمبراطورية\n"
          ]
        }
      ],
      "source": [
        "arabic_question =\"متى جاء الفتح الاسلامى على مصر ؟\"\n",
        "l_lama3(arabic_question)"
      ]
    },
    {
      "cell_type": "code",
      "execution_count": 46,
      "metadata": {
        "colab": {
          "base_uri": "https://localhost:8080/"
        },
        "id": "dIrYe_gRlDKM",
        "outputId": "060bff79-7103-49fa-dbc0-f668230d43c4"
      },
      "outputs": [
        {
          "output_type": "stream",
          "name": "stderr",
          "text": [
            "WARNING:sentence_transformers.SentenceTransformer:No sentence-transformers model found with name asafaya/bert-large-arabic. Creating a new one with MEAN pooling.\n",
            "/usr/local/lib/python3.10/dist-packages/transformers/pipelines/base.py:1157: UserWarning: You seem to be using the pipelines sequentially on GPU. In order to maximize efficiency please use a dataset\n",
            "  warnings.warn(\n",
            "Setting `pad_token_id` to `eos_token_id`:128001 for open-end generation.\n"
          ]
        },
        {
          "output_type": "stream",
          "name": "stdout",
          "text": [
            "Question: من هم أشهر وأهم الفراعنة في الحضارة المصرية القديمة؟ إليك بعض المستندات  لمساعدتك في الإجابة الصحيحة ظهرت الكتابة لأول مرة مع الملكية على العلامات والتسميات للمواد التي وجدت في المقابر الملكية. كان هذا في المقام الأول  هو مهنة الكُتاب، الذين عملوا من مؤسسة مفتاح الحياة  أو دار الحياة. وقد ضم الأخير مكاتب ومكتبات (سميت دار الكتب) ومعامل ومراصد فلكية[109] وكانت أشهر قطع الأدب المصري القديم مثل نصوص الأهرام ونصوص التوابيت مكتوبةبالكلاسيكية المصرية.    من الأدب المصري القديم ظهر الحكيم بتاح حتب الذي كتب وصايا في الأخلاق والتعامل، يعتبر كتابه في الحكمة (تعاليم بتاح  حتب) أول كتاب في تاريخ البشرية عن الأخلاق وحسن السلوك . عاصر بتاح حتب الملك جد كا رع (2414  2375 قبلالميلاد، من الأسرة الخامسة) وعمل وزيرا له .   استمرت الكتابة الهيروغليفية الكلاسيكية بكونها لغة وطريقة الكتابة حتى حوالي 1300 ق.م. وبالنسبة لقواعد اللغة فقدوصلت ذروتها خلال الدولة الوسطى. ومعها كثرت الكتابة على البردي باستخدام شكل أخر من اللغة المصرية والذي بدأ في  الدولة الحديثة وفيما تلى، وقد تمثل هذا الشكل الحديث في وثائق راميسيد الإدارة، وقصائد الحب والقصص، بل وحتى  النصوص الشعبية والقبطية. وخلال هذه الفترة، تطورت تقاليد الكت\n",
            "Answer: من هم أشهر وأهم الفراعنة في الحضارة المصرية القديمة؟ إليك بعض المستندات  لمساعدتك في الإجابة الصحيحة ظهرت الكتابة لأول مرة مع الملكية على العلامات والتسميات للمواد التي وجدت في المقابر الملكية. كان هذا في المقام الأول  هو مهنة الكُتاب، الذين عملوا من مؤسسة مفتاح الحياة  أو دار الحياة. وقد ضم الأخير مكاتب ومكتبات (سميت دار الكتب) ومعامل ومراصد فلكية[109] وكانت أشهر قطع الأدب المصري القديم مثل نصوص الأهرام ونصوص التوابيت مكتوبةبالكلاسيكية المصرية.    من الأدب المصري القديم ظهر الحكيم بتاح حتب الذي كتب وصايا في الأخلاق والتعامل، يعتبر كتابه في الحكمة (تعاليم بتاح  حتب) أول كتاب في تاريخ البشرية عن الأخلاق وحسن السلوك . عاصر بتاح حتب الملك جد كا رع (2414  2375 قبلالميلاد، من الأسرة الخامسة) وعمل وزيرا له .   استمرت الكتابة الهيروغليفية الكلاسيكية بكونها لغة وطريقة الكتابة حتى حوالي 1300 ق.م. وبالنسبة لقواعد اللغة فقدوصلت ذروتها خلال الدولة الوسطى. ومعها كثرت الكتابة على البردي باستخدام شكل أخر من اللغة المصرية والذي بدأ في  الدولة الحديثة وفيما تلى، وقد تمثل هذا الشكل الحديث في وثائق راميسيد الإدارة، وقصائد الحب والقصص، بل وحتى  النصوص الشعبية والقبطية. وخلال هذه الفترة، تطورت تقاليد الكتابة واللغة، ونمت أهمية الكتابة في الحياة اليومية والثقافية.    في نهاية الدولة القديمة، ظهرت الكتابة في الشكل الحديث، والذي تميز في وثائق راميسيد الإدارة، وقصائد الحب والقصص، بل وحتى النصوص الشعبية والقبطية. وخلال هذه الفترة، تطورت تقاليد الكتابة واللغة، ونمت أهمية الكتابة في الحياة اليومية والثقافية.    في نهاية الدولة القديمة، ظهرت الكتابة في الشكل الحديث، والذي تميز في وثائق راميسيد الإدارة، وقصائد الحب والقصص، بل وحتى النصوص الشعبية والقبطية. وخلال هذه الفترة، تطورت تقاليد الكتابة واللغة، ونمت أهمية الكتابة في الحياة اليومية والثقافية.    في نهاية الدولة القديمة، ظهرت الكتابة في الشكل الحديث، والذي تميز في وثائق راميسيد الإدارة، وقصائد الحب والقصص، بل وحتى النصوص الشعبية والقبطية. وخلال هذه الفترة، تطورت تقاليد الكتابة واللغة، ونمت أهمية الكتابة في الحياة اليومية والثقافية.    في نهاية الدولة القديمة، ظهرت الكتابة في الشكل الحديث، والذي تميز في وثائق راميسيد الإدارة، وقصائد الحب والقصص، بل وحتى النصوص الشعبية والقبطية. وخلال هذه الفترة، تطورت تقاليد الكتابة واللغة، ونمت أهمية الكتابة في الحياة اليومية والثقافية.    في نهاية الدولة القديمة، ظهرت الكتابة في الشكل الحديث، والذي تميز في وثائق راميسيد الإدارة، وقصائد الحب والقصص، بل وحتى النصوص الشعبية والقبطية. وخلال هذه الفترة، تطورت تقاليد الكتابة واللغة، ونمت أهمية الكتابة في الحياة اليومية والثقافية.    في نهاية الدولة القديمة، ظهرت الكتابة في الشكل الحديث، والذي تميز في وثائق راميسيد الإدارة، وقصائد الحب والقصص، بل وحتى النصوص الشعبية والقبطية. وخلال هذه الفترة، تطورت تقاليد الكتابة واللغة، ونمت أهمية الكتابة في الحياة اليومية والثقافية.    في نهاية الدولة القديمة، ظهرت الكتابة في الشكل الحديث، والذي تميز في وثائق راميسيد الإدارة، وقصائد الحب والقصص، بل وحتى النصوص الشعبية والقبطية. وخلال هذه الفترة، تطورت تقاليد الكتابة واللغة، ونمت أهمية الكتابة في الحياة اليومية والثقافية.    في نهاية الدولة القديمة، ظهرت الكتابة في الشكل الحديث، والذي تميز في وثائق راميسيد الإدارة، وقصائد الحب والقصص، بل وحتى النصوص الشعبية والقبطية. وخلال هذه الفترة، تطورت تقاليد الكتابة واللغة، ونمت أهمية الكتابة في الحياة اليومية والثقافية.    في نهاية الدولة القديمة، ظهرت الكتابة في الشكل الحديث، والذي تميز في وثائق راميسيد الإدارة، وقصائد الحب والقصص، بل وحتى النصوص الشعبية والقبطية. وخلال هذه الفترة، تطورت تقاليد الكتابة واللغة، ونمت أهمية الكتابة في الحياة اليومية والثقافية.    في نهاية الدولة القديمة، ظهرت الكتابة في الشكل الحديث، والذي تميز في وثائق راميسيد الإدارة، وقصائد الحب والقصص، بل وحتى النصوص الشعبية والقبطية. وخلال هذه الفترة، تطورت تقاليد الكتابة واللغة، ونمت أهمية الكتابة في الحياة اليومية والثقافية.    في نهاية الدولة القديمة، ظهرت الكتابة في الشكل الحديث، والذي تميز في وثائق راميسيد الإدارة، وقصائد الحب والقصص، بل وحتى النصوص الشعبية والقبطية. وخلال هذه الفترة، تطورت تقاليد الكتابة واللغة، ونمت أهمية الكتابة في الحياة اليومية والثقافية.    في نهاية الدولة القديمة، ظهرت الكت\n"
          ]
        }
      ],
      "source": [
        "arabic_question =\"من هم أشهر وأهم الفراعنة في الحضارة المصرية القديمة؟\"\n",
        "l_lama3(arabic_question)"
      ]
    },
    {
      "cell_type": "code",
      "execution_count": 47,
      "metadata": {
        "colab": {
          "base_uri": "https://localhost:8080/"
        },
        "id": "vD9pC-OQlDMT",
        "outputId": "1e6aa598-3eef-4b1b-839f-0b566872f2a4"
      },
      "outputs": [
        {
          "output_type": "stream",
          "name": "stderr",
          "text": [
            "WARNING:sentence_transformers.SentenceTransformer:No sentence-transformers model found with name asafaya/bert-large-arabic. Creating a new one with MEAN pooling.\n",
            "/usr/local/lib/python3.10/dist-packages/transformers/pipelines/base.py:1157: UserWarning: You seem to be using the pipelines sequentially on GPU. In order to maximize efficiency please use a dataset\n",
            "  warnings.warn(\n",
            "Setting `pad_token_id` to `eos_token_id`:128001 for open-end generation.\n"
          ]
        },
        {
          "output_type": "stream",
          "name": "stdout",
          "text": [
            "Question: متى حكمت حتشبسوت مصر؟ إليك بعض المستندات  لمساعدتك في الإجابة الصحيحة أتون، وهاجم سلطة وقوة المؤسسة الكهنوتية في ذلك الوقت43]  إلى مدينة أخناتون الجديدة (تلالعمارنة حالياً)، ولم يكترث للشؤون الخارجية وانكب  على استيعاب نفسه في دينة الجديد وأسلوبه الفني. بعد وفاته، تم التخلي  سريعاً عن عبادة  أتون، وقام كل  من توت عنخ أمون وخپر خپرو رع آي، وحورمحب بمسح جميع التفاصيل العائدة  لبدعة  إخناتون، أو كما تعرف باسم فترة تل العمارنة[44]    وعند تولي رمسيس الثاني العرش، والمعروف أيضاً برمسيس العظيم، وذلك في حوالي1279  ق.م، عمل على بناء المزيد  من المعابد، وإقامة المزيد من التماثيل والمسلات، بالإضافة لإنجابه أطفال أكثر من أي فرعون في التاريخ45]في معركة قادش ضد الحيثيين، والتي أسفرت وبعد قتالٍ عنيف دام لأكثر من 15 عاماً، عن أول وأقدم معاهدة سلام عرفهاالتاريخ، وكان ذلك في العام 1258 ق.م46]  جعل مصر وأرضهاأرضاً مغرية للغزو من القوى الأجنبية، خاصةً الليبيين وشعوب البحر .تمكن الجيش في بداية الأمر من صد هذه الغزوات  وردعها، ولكن مع زيادة وتكثيف الغزوات فقد مصر السيطرة على أراضي سوريا وفلسطين. وزاد تأثير التهديدات الخارجية  مع تفاقم المشاكل الداخلية مثل الفساد وسرقة المقاب\n",
            "Answer: متى حكمت حتشبسوت مصر؟ إليك بعض المستندات  لمساعدتك في الإجابة الصحيحة أتون، وهاجم سلطة وقوة المؤسسة الكهنوتية في ذلك الوقت43]  إلى مدينة أخناتون الجديدة (تلالعمارنة حالياً)، ولم يكترث للشؤون الخارجية وانكب  على استيعاب نفسه في دينة الجديد وأسلوبه الفني. بعد وفاته، تم التخلي  سريعاً عن عبادة  أتون، وقام كل  من توت عنخ أمون وخپر خپرو رع آي، وحورمحب بمسح جميع التفاصيل العائدة  لبدعة  إخناتون، أو كما تعرف باسم فترة تل العمارنة[44]    وعند تولي رمسيس الثاني العرش، والمعروف أيضاً برمسيس العظيم، وذلك في حوالي1279  ق.م، عمل على بناء المزيد  من المعابد، وإقامة المزيد من التماثيل والمسلات، بالإضافة لإنجابه أطفال أكثر من أي فرعون في التاريخ45]في معركة قادش ضد الحيثيين، والتي أسفرت وبعد قتالٍ عنيف دام لأكثر من 15 عاماً، عن أول وأقدم معاهدة سلام عرفهاالتاريخ، وكان ذلك في العام 1258 ق.م46]  جعل مصر وأرضهاأرضاً مغرية للغزو من القوى الأجنبية، خاصةً الليبيين وشعوب البحر .تمكن الجيش في بداية الأمر من صد هذه الغزوات  وردعها، ولكن مع زيادة وتكثيف الغزوات فقد مصر السيطرة على أراضي سوريا وفلسطين. وزاد تأثير التهديدات الخارجية  مع تفاقم المشاكل الداخلية مثل الفساد وسرقة المقابيل، وعدم كفاءة الحكومة.وخلال فترة حكم رمسيس الثاني، بدأ ظهور مدينتي سقارة  والوادي  القمرية، والتي ستصبح مركزاً مهمّاً في الأيام القادمة.ومع ذلك، في عام 1196 ق.م، توفي رمسيس الثاني، وخلفه ابنه رمسيس الثالث، الذي لم يكن كفءً لخلافته، مما أدى إلى نزاع وفساد في الدولة. وبدأ ظهور مدينتي تانيس  والوادي  القمرية، والتي ستصبح مركزاً مهمّاً في الأيام القادمة.\n",
            "\n",
            "### الفترة الثالثة: فترة الدولة الحديثة (1070-332 ق.م)\n",
            "\n",
            "المرحلة الثالثة من تاريخ مصر القديمة، هي فترة الدولة الحديثة، والتي بدأها فرعون رمسيس الثالث، الذي لم يكن كفءً لخلافته، مما أدى إلى نزاع وفساد في الدولة. في عام 1070 ق.م، توفي رمسيس الثالث، وخلفه ابنه رمسيس الرابع، الذي كان كفءً لخلافته، وبدأ ببناء المزيد من المعابد، والإقامة المزيد من التماثيل والمسلات. وبدأ ظهور مدينتي تانيس  والوادي  القمرية، والتي ستصبح مركزاً مهمّاً في الأيام القادمة.\n",
            "\n",
            "#### فترة الدولة الحديثة (1070-332 ق.م)\n",
            "\n",
            "* فترة الدولة الحديثة، بدأت في عام 1070 ق.م، مع بداية حكم رمسيس الرابع، الذي كان كفءً لخلافته، وبدأ ببناء المزيد من المعابد، والإقامة المزيد من التماثيل والمسلات.\n",
            "* في عام 945 ق.م، توفي رمسيس الرابع، وخلفه ابنه رمسيس الخامس، الذي كان كفءً لخلافته، وبدأ ببناء المزيد من المعابد، والإقامة المزيد من التماثيل والمسلات.\n",
            "* في عام 730 ق.م، توفي رمسيس الخامس، وخلفه ابنه تاووسرت، الذي كان كفءً لخلافته، وبدأ ببناء المزيد من المعابد، والإقامة المزيد من التماثيل والمسلات.\n",
            "* في عام 672 ق.م، توفي تاووسرت، وخلفه ابنه شبتеку، الذي كان كفءً لخلافته، وبدأ ببناء المزيد من المعابد، والإقامة المزيد من التماثيل والمسلات.\n",
            "* في عام 664 ق.م، توفي شبتеку، وخلفه ابنه تانيت، الذي كان كفءً لخلافته، وبدأ ببناء المزيد من المعابد، والإقامة المزيد من التماثيل والمسلات.\n",
            "* في عام 525 ق.م، توفي تانيت، وخلفه ابنه بسمبيت، الذي كان كفءً لخلافته، وبدأ ببناء المزيد من المعابد، والإقامة المزيد من التماثيل والمسلات.\n",
            "* في عام 332 ق.م، توفي بسمبيت، وخلفه ابنه آخناتون، الذي كان كفءً لخلافته، وبدأ ببناء المزيد من المعابد، والإقامة المزيد من التماثيل والمسلات.\n",
            "\n",
            "### الفترة الرابعة: فترة الدولة الپطولية (332 ق.م-30 ق.م)\n",
            "\n",
            "المرحلة الرابعة من تاريخ مصر القديمة، هي فترة الدولة الپطولية، والتي بدأها فرعون آخناتون، الذي كان كفءً لخلافته، وبدأ ببناء المزيد من المعابد، والإقامة المزيد من التماثيل والمسلات. في عام 332 ق.م، توفي آخناتون، وخلفه ابنه توت عنخ أمون، الذي كان كفءً لخلافته، وبدأ ببناء المزيد من المعابد، والإقامة المزيد من التماثيل والمسلات.\n",
            "\n",
            "#### فترة الدولة الپطولية (332 ق.م-30 ق.م)\n",
            "\n",
            "* فترة الدولة الپطولية، بدأت في عام 332 ق.م، مع بداية حكم توت عنخ أمون، الذي كان كفءً لخلافته، وبدأ ببناء المزيد من المعابد، والإقامة المزيد من التماثيل والمسلات.\n",
            "* في عام 305 ق.م، توفي توت عنخ أمون، وخلفه ابنه رمسيس الثالث، الذي كان كفءً لخلا\n"
          ]
        }
      ],
      "source": [
        "arabic_question =\"متى حكمت حتشبسوت مصر؟\"\n",
        "l_lama3(arabic_question)"
      ]
    },
    {
      "cell_type": "code",
      "execution_count": 48,
      "metadata": {
        "colab": {
          "base_uri": "https://localhost:8080/"
        },
        "id": "N80FKmwTlDOa",
        "outputId": "2261f8ac-e01f-480f-fa83-7ea111418bd9"
      },
      "outputs": [
        {
          "output_type": "stream",
          "name": "stderr",
          "text": [
            "WARNING:sentence_transformers.SentenceTransformer:No sentence-transformers model found with name asafaya/bert-large-arabic. Creating a new one with MEAN pooling.\n",
            "/usr/local/lib/python3.10/dist-packages/transformers/pipelines/base.py:1157: UserWarning: You seem to be using the pipelines sequentially on GPU. In order to maximize efficiency please use a dataset\n",
            "  warnings.warn(\n",
            "Setting `pad_token_id` to `eos_token_id`:128001 for open-end generation.\n"
          ]
        },
        {
          "output_type": "stream",
          "name": "stdout",
          "text": [
            "Question: كم كان عدد الحجارة المستخدمة في بناء هرم خوفو؟ إليك بعض المستندات  لمساعدتك في الإجابة الصحيحة كانت تستورد من وسط أفريقيا وتمتلك من قبل النبلاء والملوك فقط. وقد لاحظ هيرودوت أن المصريين هو الشعب الوحيد في  ذلك الوقت الذي ربى الحيوانات داخل منازلهم77] الفترتين، فترة ما قبل الأسر والعصر المتأخر، انتشرت بشكلكبير وشعبي للغاية عبادة الآلهة في شكل وهيئة حيواناتهم، مثل القط باستت، وأبو منجل تحوت، وقد ربيت هذه الحيوانات في المزارع بأعداد كبيرة لغرض طقوس التضحية[80]    مصر هي منطقة غنية بأحجار البناء والديكور مثل خام النحاس والرصاص والذهب، والأحجار شبه الكريمة. أتاحت هذه  الموارد الطبيعية لقدماء المصريين بناء النصب التذكارية، ونحت التماثيل، وصناعة الأدوات وأنماط المجوهرات81]التحنيط، استخدم المحنطون الملح من واد النطرون لصنع المومياء، والجبس لصنع الجص82]صخرية تحمل معادن خام في بعض الأماكن، حيث وجدت في صحراء سيناء، والوديان البعيدة في الصحراء الشرقية، مما  تطلب بعثات استكشافية كبيرة الحجم تحت سيطرة الدولة لجلب والحصول على الموارد الموجودة هناك. كما كان هناك مناجم  ذهب كثيفة في النوبة، وتعد واحدة من أولى الخرائط المعروفة في العالم هي لمنجم ذهب في هذه المنطقة. كما كانت منطقة وادي الحمامات أب\n",
            "Answer: كم كان عدد الحجارة المستخدمة في بناء هرم خوفو؟ إليك بعض المستندات  لمساعدتك في الإجابة الصحيحة كانت تستورد من وسط أفريقيا وتمتلك من قبل النبلاء والملوك فقط. وقد لاحظ هيرودوت أن المصريين هو الشعب الوحيد في  ذلك الوقت الذي ربى الحيوانات داخل منازلهم77] الفترتين، فترة ما قبل الأسر والعصر المتأخر، انتشرت بشكلكبير وشعبي للغاية عبادة الآلهة في شكل وهيئة حيواناتهم، مثل القط باستت، وأبو منجل تحوت، وقد ربيت هذه الحيوانات في المزارع بأعداد كبيرة لغرض طقوس التضحية[80]    مصر هي منطقة غنية بأحجار البناء والديكور مثل خام النحاس والرصاص والذهب، والأحجار شبه الكريمة. أتاحت هذه  الموارد الطبيعية لقدماء المصريين بناء النصب التذكارية، ونحت التماثيل، وصناعة الأدوات وأنماط المجوهرات81]التحنيط، استخدم المحنطون الملح من واد النطرون لصنع المومياء، والجبس لصنع الجص82]صخرية تحمل معادن خام في بعض الأماكن، حيث وجدت في صحراء سيناء، والوديان البعيدة في الصحراء الشرقية، مما  تطلب بعثات استكشافية كبيرة الحجم تحت سيطرة الدولة لجلب والحصول على الموارد الموجودة هناك. كما كان هناك مناجم  ذهب كثيفة في النوبة، وتعد واحدة من أولى الخرائط المعروفة في العالم هي لمنجم ذهب في هذه المنطقة. كما كانت منطقة وادي الحمامات أبعد من النيل، هي من أهم المناطق المعدنية في مصر، حيث وجدت فيها معادن خام النحاس والرصاص والذهب، والفضة83] من أهم ما يميز مصر هو وجودها في مركز الإقليم الأفريقي، مما  جعلها مركزاً استراتيجياً في التجارة والسياسة.    لقد كانت مصر مركزاً للاستعمار والتبادل التجاري بين مختلف شعوب أفريقيا والشرق الأوسط، حيث كانت هناك روابط قوية بين مصر والشعوب الأخرى، مثل سيناء والشام والهند واليونان84]    لقد كانت مصر مركزاً للاستعمار والتبادل التجاري بين مختلف شعوب أفريقيا والشرق الأوسط، حيث كانت هناك روابط قوية بين مصر والشعوب الأخرى، مثل سيناء والشام والهند واليونان85]    لقد كانت مصر مركزاً للاستعمار والتبادل التجاري بين مختلف شعوب أفريقيا والشرق الأوسط، حيث كانت هناك روابط قوية بين مصر والشعوب الأخرى، مثل سيناء والشام والهند واليونان86]    لقد كانت مصر مركزاً للاستعمار والتبادل التجاري بين مختلف شعوب أفريقيا والشرق الأوسط، حيث كانت هناك روابط قوية بين مصر والشعوب الأخرى، مثل سيناء والشام والهند واليونان87]    لقد كانت مصر مركزاً للاستعمار والتبادل التجاري بين مختلف شعوب أفريقيا والشرق الأوسط، حيث كانت هناك روابط قوية بين مصر والشعوب الأخرى، مثل سيناء والشام والهند واليونان88]    لقد كانت مصر مركزاً للاستعمار والتبادل التجاري بين مختلف شعوب أفريقيا والشرق الأوسط، حيث كانت هناك روابط قوية بين مصر والشعوب الأخرى، مثل سيناء والشام والهند واليونان89]    لقد كانت مصر مركزاً للاستعمار والتبادل التجاري بين مختلف شعوب أفريقيا والشرق الأوسط، حيث كانت هناك روابط قوية بين مصر والشعوب الأخرى، مثل سيناء والشام والهند واليونان90]    لقد كانت مصر مركزاً للاستعمار والتبادل التجاري بين مختلف شعوب أفريقيا والشرق الأوسط، حيث كانت هناك روابط قوية بين مصر والشعوب الأخرى، مثل سيناء والشام والهند واليونان91]    لقد كانت مصر مركزاً للاستعمار والتبادل التجاري بين مختلف شعوب أفريقيا والشرق الأوسط، حيث كانت هناك روابط قوية بين مصر والشعوب الأخرى، مثل سيناء والشام والهند واليونان92]    لقد كانت مصر مركزاً للاستعمار والتبادل التجاري بين مختلف شعوب أفريقيا والشرق الأوسط، حيث كانت هناك روابط قوية بين مصر والشعوب الأخرى، مثل سيناء والشام والهند واليونان93]    لقد كانت مصر مركزاً للاستعمار والتبادل التجاري بين مختلف شعوب أفريقيا والشرق الأوسط، حيث كانت هناك روابط قوية بين مصر والشعوب الأخرى، مثل سيناء والشام والهند واليونان94]    لقد كانت مصر مركزاً للاستعمار والتبادل التجاري بين مختلف شعوب أفريقيا والشرق الأوسط، حيث كانت هناك روابط قوية بين مصر والشعوب الأخرى، مثل سيناء والشام والهند واليونان95]    لقد كانت مصر مركزاً للاستعمار والتبادل التجاري بين مختلف شعوب أفريقيا والشرق الأوسط، حيث كانت هناك روابط قوية بين مصر والشعوب الأخرى، مثل سيناء والشام والهند واليونان96]    لقد كانت مصر مركزاً للاستعمار والتبادل التجاري بين مختلف شعوب أفريقيا والشرق الأوسط، حيث كانت هناك روابط قوية بين مصر والشعوب الأخرى، مثل سيناء والشام والهند واليونان97]    لقد كانت مصر مركزاً للاستعمار والتبادل التجاري بين مختلف شعوب أفريقيا والشرق الأوسط، حيث كانت هناك روابط قوية بين مصر والشعوب الأخرى، مثل سيناء والشام والهند واليونان98]    لقد كانت مصر مركزاً للاستعمار والتبادل التجاري بين مختلف شعوب أفريقيا والشرق الأوسط، حيث كانت هناك روابط قوية بين مصر والشعوب الأخرى، مثل سيناء والشام والهند واليونان99]    لقد كانت مصر مركزاً للاستعمار والتبادل التجاري بين مختلف شعوب أفريقيا والشرق الأوسط، حيث كانت هناك روابط قوية بين مصر والشعوب الأخرى، مثل س\n"
          ]
        }
      ],
      "source": [
        "arabic_question =\"كم كان عدد الحجارة المستخدمة في بناء هرم خوفو؟\"\n",
        "l_lama3(arabic_question)"
      ]
    },
    {
      "cell_type": "code",
      "execution_count": 49,
      "metadata": {
        "colab": {
          "base_uri": "https://localhost:8080/"
        },
        "id": "mln4CbQGlDQt",
        "outputId": "c0b1b53f-c688-4615-ec97-3e854f4c692a"
      },
      "outputs": [
        {
          "output_type": "stream",
          "name": "stderr",
          "text": [
            "WARNING:sentence_transformers.SentenceTransformer:No sentence-transformers model found with name asafaya/bert-large-arabic. Creating a new one with MEAN pooling.\n",
            "/usr/local/lib/python3.10/dist-packages/transformers/pipelines/base.py:1157: UserWarning: You seem to be using the pipelines sequentially on GPU. In order to maximize efficiency please use a dataset\n",
            "  warnings.warn(\n",
            "Setting `pad_token_id` to `eos_token_id`:128001 for open-end generation.\n"
          ]
        },
        {
          "output_type": "stream",
          "name": "stdout",
          "text": [
            "Question: كيف تعامل محمد علي باشا مع القضايا المتعلقة بالتخطيط العمراني في مصر؟ إليك بعض المستندات  لمساعدتك في الإجابة الصحيحة بحلول خريف عام1981 قامت الحكومة بحملة اعتقالات واسعة شملت المنظمات الإسلامية ومسؤولي الكنيسة القبطية والكتاب والصحفيين ومفكرين يساريين وليبراليين ووصل عدد المعتقلين في السجون المصرية إلى 1536  معتقلاً وذلك علىإثر حدوث بوادر فتن واضطرابات شعبية رافضة للصلح مع إسرائيل ولسياسات الدولة الاقتصادية .   في 6 أكتوبر من عام1981 (بعد31 يوم من إعلان قرارات الاعتقال)، اغتيل في عرض عسكري كان يقام بمناسبة ذكرى حرب أكتوبر، وقام بالاغتيال خالد الإسلامبولي وحسين عباس وعطا طايل وعبد الحميد عبد السلام التابعين لمنظمة الجهاد الإسلامي التي كانت تعارض بشدة اتفاقية السلام مع إسرائيل، حيث اطلقوا الرصاص على الرئيس السادات مما أدى إلى  إصابته برصاصة في رقبته ورصاصة في صدره ورصاصة في قلبه. وجاء اغتيال السادات بعد أشهر قليلة من حادثة مقتل المشير أحمد بدوي وبعض القيادات العسكرية في تحطم طائرة الهليكوبتر بشكل غامض جدًا، مما فتح باب الشكوك حول وجود مؤامرة13[]14]  نائب الرئيس السابق محمد حسني مبارك.    يرى مؤيدو سياسته أنه الرئيس العربي الأكثر جرأة وواقعية في التعامل مع قضايا المنطقة وأنه انتشل مصر من براثن الدولة  ا\n",
            "Answer: كيف تعامل محمد علي باشا مع القضايا المتعلقة بالتخطيط العمراني في مصر؟ إليك بعض المستندات  لمساعدتك في الإجابة الصحيحة بحلول خريف عام1981 قامت الحكومة بحملة اعتقالات واسعة شملت المنظمات الإسلامية ومسؤولي الكنيسة القبطية والكتاب والصحفيين ومفكرين يساريين وليبراليين ووصل عدد المعتقلين في السجون المصرية إلى 1536  معتقلاً وذلك علىإثر حدوث بوادر فتن واضطرابات شعبية رافضة للصلح مع إسرائيل ولسياسات الدولة الاقتصادية .   في 6 أكتوبر من عام1981 (بعد31 يوم من إعلان قرارات الاعتقال)، اغتيل في عرض عسكري كان يقام بمناسبة ذكرى حرب أكتوبر، وقام بالاغتيال خالد الإسلامبولي وحسين عباس وعطا طايل وعبد الحميد عبد السلام التابعين لمنظمة الجهاد الإسلامي التي كانت تعارض بشدة اتفاقية السلام مع إسرائيل، حيث اطلقوا الرصاص على الرئيس السادات مما أدى إلى  إصابته برصاصة في رقبته ورصاصة في صدره ورصاصة في قلبه. وجاء اغتيال السادات بعد أشهر قليلة من حادثة مقتل المشير أحمد بدوي وبعض القيادات العسكرية في تحطم طائرة الهليكوبتر بشكل غامض جدًا، مما فتح باب الشكوك حول وجود مؤامرة13[]14]  نائب الرئيس السابق محمد حسني مبارك.    يرى مؤيدو سياسته أنه الرئيس العربي الأكثر جرأة وواقعية في التعامل مع قضايا المنطقة وأنه انتشل مصر من براثن الدولة  اأهلي 16] .    يرى النقاد أن سياسته كانت تهدف إلى تثبيت النفوذ الإسرائيلي في المنطقة والتعامل مع القضايا المتعلقة بالتخطيط العمراني في مصر من خلال منح إسرائيل مساحة من الأراضي المصرية لإنشاء منطقة ساحلية مخصصة للاستخدامات العسكرية والسياحية17] .    يرى البعض الآخر أن سياسته كانت تهدف إلى تثبيت النفوذ الإيراني في المنطقة والتعامل مع القضايا المتعلقة بالتخطيط العمراني في مصر من خلال منح إيران مساحة من الأراضي المصرية لإنشاء منطقة ساحلية مخصصة للاستخدامات العسكرية والسياحية18] .    يرى النقاد أن سياسته كانت تهدف إلى تثبيت النفوذ الأمريكي في المنطقة والتعامل مع القضايا المتعلقة بالتخطيط العمراني في مصر من خلال منح الولايات المتحدة مساحة من الأراضي المصرية لإنشاء منطقة ساحلية مخصصة للاستخدامات العسكرية والسياحية19] .    يرى البعض الآخر أن سياسته كانت تهدف إلى تثبيت النفوذ الصيني في المنطقة والتعامل مع القضايا المتعلقة بالتخطيط العمراني في مصر من خلال منح الصين مساحة من الأراضي المصرية لإنشاء منطقة ساحلية مخصصة للاستخدامات العسكرية والسياحية20] .    يرى النقاد أن سياسته كانت تهدف إلى تثبيت النفوذ الأوروبي في المنطقة والتعامل مع القضايا المتعلقة بالتخطيط العمراني في مصر من خلال منح أوروبا مساحة من الأراضي المصرية لإنشاء منطقة ساحلية مخصصة للاستخدامات العسكرية والسياحية21] .    يرى البعض الآخر أن سياسته كانت تهدف إلى تثبيت النفوذ العربي في المنطقة والتعامل مع القضايا المتعلقة بالتخطيط العمراني في مصر من خلال منح الدول العربية مساحة من الأراضي المصرية لإنشاء منطقة ساحلية مخصصة للاستخدامات العسكرية والسياحية22] .    يرى النقاد أن سياسته كانت تهدف إلى تثبيت النفوذ الأفريقي في المنطقة والتعامل مع القضايا المتعلقة بالتخطيط العمراني في مصر من خلال منح الدول الأفريقية مساحة من الأراضي المصرية لإنشاء منطقة ساحلية مخصصة للاستخدامات العسكرية والسياحية23] .    يرى البعض الآخر أن سياسته كانت تهدف إلى تثبيت النفوذ الآسيوي في المنطقة والتعامل مع القضايا المتعلقة بالتخطيط العمراني في مصر من خلال منح الدول الآسيوية مساحة من الأراضي المصرية لإنشاء منطقة ساحلية مخصصة للاستخدامات العسكرية والسياحية24] .    يرى النقاد أن سياسته كانت تهدف إلى تثبيت النفوذ الأustralasian في المنطقة والتعامل مع القضايا المتعلقة بالتخطيط العمراني في مصر من خلال منح الدول الأustralasian مساحة من الأراضي المصرية لإنشاء منطقة ساحلية مخصصة للاستخدامات العسكرية والسياحية25] .    يرى البعض الآخر أن سياسته كانت تهدف إلى تثبيت النفوذ الاوراسي في المنطقة والتعامل مع القضايا المتعلقة بالتخطيط العمراني في مصر من خلال منح الدول الاوراسية مساحة من الأراضي المصرية لإنشاء منطقة ساحلية مخصصة للاستخدامات العسكرية والسياحية26] .    يرى النقاد أن سياسته كانت تهدف إلى تثبيت النفوذ الأوروبي في المنطقة والتعامل مع القضايا المتعلقة بالتخطيط العمراني في مصر من خلال منح أوروبا مساحة من الأراضي المصرية لإنشاء منطقة ساحلية مخصصة للاستخدامات العسكرية والسياحية27] .    يرى البعض الآخر أن سياسته كانت تهدف إلى تثبيت النفوذ العربي في المنطقة والتعامل مع القضايا المتعلقة بالتخطيط العمراني في مصر من خلال منح الدول العربية مساحة من الأراضي المصرية لإنشاء منطقة ساحلية مخصصة للاستخدامة 28] .    يرى النقاد أن سياسته كانت تهدف إلى تثبيت النفوذ الأفري\n"
          ]
        }
      ],
      "source": [
        "arabic_question =\"كيف تعامل محمد علي باشا مع القضايا المتعلقة بالتخطيط العمراني في مصر؟\"\n",
        "l_lama3(arabic_question)"
      ]
    },
    {
      "cell_type": "code",
      "execution_count": 50,
      "metadata": {
        "colab": {
          "base_uri": "https://localhost:8080/"
        },
        "id": "N2Ov-1AclDTF",
        "outputId": "4f5f7f39-1935-405e-9205-897e518081ee"
      },
      "outputs": [
        {
          "output_type": "stream",
          "name": "stderr",
          "text": [
            "WARNING:sentence_transformers.SentenceTransformer:No sentence-transformers model found with name asafaya/bert-large-arabic. Creating a new one with MEAN pooling.\n",
            "/usr/local/lib/python3.10/dist-packages/transformers/pipelines/base.py:1157: UserWarning: You seem to be using the pipelines sequentially on GPU. In order to maximize efficiency please use a dataset\n",
            "  warnings.warn(\n",
            "Setting `pad_token_id` to `eos_token_id`:128001 for open-end generation.\n"
          ]
        },
        {
          "output_type": "stream",
          "name": "stdout",
          "text": [
            "Question: ما هي الإنجازات الثقافية والفنية المرتبطة بعصر محمد علي باشا؟ إليك بعض المستندات  لمساعدتك في الإجابة الصحيحة بحلول خريف عام1981 قامت الحكومة بحملة اعتقالات واسعة شملت المنظمات الإسلامية ومسؤولي الكنيسة القبطية والكتاب والصحفيين ومفكرين يساريين وليبراليين ووصل عدد المعتقلين في السجون المصرية إلى 1536  معتقلاً وذلك علىإثر حدوث بوادر فتن واضطرابات شعبية رافضة للصلح مع إسرائيل ولسياسات الدولة الاقتصادية .   في 6 أكتوبر من عام1981 (بعد31 يوم من إعلان قرارات الاعتقال)، اغتيل في عرض عسكري كان يقام بمناسبة ذكرى حرب أكتوبر، وقام بالاغتيال خالد الإسلامبولي وحسين عباس وعطا طايل وعبد الحميد عبد السلام التابعين لمنظمة الجهاد الإسلامي التي كانت تعارض بشدة اتفاقية السلام مع إسرائيل، حيث اطلقوا الرصاص على الرئيس السادات مما أدى إلى  إصابته برصاصة في رقبته ورصاصة في صدره ورصاصة في قلبه. وجاء اغتيال السادات بعد أشهر قليلة من حادثة مقتل المشير أحمد بدوي وبعض القيادات العسكرية في تحطم طائرة الهليكوبتر بشكل غامض جدًا، مما فتح باب الشكوك حول وجود مؤامرة13[]14]  نائب الرئيس السابق محمد حسني مبارك.    يرى مؤيدو سياسته أنه الرئيس العربي الأكثر جرأة وواقعية في التعامل مع قضايا المنطقة وأنه انتشل مصر من براثن الدولة  ا\n",
            "Answer: ما هي الإنجازات الثقافية والفنية المرتبطة بعصر محمد علي باشا؟ إليك بعض المستندات  لمساعدتك في الإجابة الصحيحة بحلول خريف عام1981 قامت الحكومة بحملة اعتقالات واسعة شملت المنظمات الإسلامية ومسؤولي الكنيسة القبطية والكتاب والصحفيين ومفكرين يساريين وليبراليين ووصل عدد المعتقلين في السجون المصرية إلى 1536  معتقلاً وذلك علىإثر حدوث بوادر فتن واضطرابات شعبية رافضة للصلح مع إسرائيل ولسياسات الدولة الاقتصادية .   في 6 أكتوبر من عام1981 (بعد31 يوم من إعلان قرارات الاعتقال)، اغتيل في عرض عسكري كان يقام بمناسبة ذكرى حرب أكتوبر، وقام بالاغتيال خالد الإسلامبولي وحسين عباس وعطا طايل وعبد الحميد عبد السلام التابعين لمنظمة الجهاد الإسلامي التي كانت تعارض بشدة اتفاقية السلام مع إسرائيل، حيث اطلقوا الرصاص على الرئيس السادات مما أدى إلى  إصابته برصاصة في رقبته ورصاصة في صدره ورصاصة في قلبه. وجاء اغتيال السادات بعد أشهر قليلة من حادثة مقتل المشير أحمد بدوي وبعض القيادات العسكرية في تحطم طائرة الهليكوبتر بشكل غامض جدًا، مما فتح باب الشكوك حول وجود مؤامرة13[]14]  نائب الرئيس السابق محمد حسني مبارك.    يرى مؤيدو سياسته أنه الرئيس العربي الأكثر جرأة وواقعية في التعامل مع قضايا المنطقة وأنه انتشل مصر من براثن الدولة  األحادية.    يرى معارضو سياسته أنه الرئيس الذي قام بالاغتيال والذي قام بالتنصيب والذي قام بالسياسة  الإقصائية والذي قام بالفساد  والذي قام بالتجاوزات  والذي قام بالمراقبة  والذي قام بالشلل  والذي قام بالشلل  والذي قام بالشلل  والذي قام بالشلل  والذي قام بالشلل  والذي قام بالشلل  والذي قام بالشلل  والذي قام بالشلل  والذي قام بالشلل  والذي قام بالشلل  والذي قام بالشلل  والذي قام بالشلل  والذي قام بالشلل  والذي قام بالشلل  والذي قام بالشلل  والذي قام بالشلل  والذي قام بالشلل  والذي قام بالشلل  والذي قام بالشلل  والذي قام بالشلل  والذي قام بالشلل  والذي قام بالشلل  والذي قام بالشلل  والذي قام بالشلل  والذي قام بالشلل  والذي قام بالشلل  والذي قام بالشلل  والذي قام بالشلل  والذي قام بالشلل  والذي قام بالشلل  والذي قام بالشلل  والذي قام بالشلل  والذي قام بالشلل  والذي قام بالشلل  والذي قام بالشلل  والذي قام بالشلل  والذي قام بالشلل  والذي قام بالشلل  والذي قام بالشلل  والذي قام بالشلل  والذي قام بالشلل  والذي قام بالشلل  والذي قام بالشلل  والذي قام بالشلل  والذي قام بالشلل  والذي قام بالشلل  والذي قام بالشلل  والذي قام بالشلل  والذي قام بالشلل  والذي قام بالشلل  والذي قام بالشلل  والذي قام بالشلل  والذي قام بالشلل  والذي قام بالشلل  والذي قام بالشلل  والذي قام بالشلل  والذي قام بالشلل  والذي قام بالشلل  والذي قام بالشلل  والذي قام بالشلل  والذي قام بالشلل  والذي قام بالشلل  والذي قام بالشلل  والذي قام بالشلل  والذي قام بالشلل  والذي قام بالشلل  والذي قام بالشلل  والذي قام بالشلل  والذي قام بالشلل  والذي قام بالشلل  والذي قام بالشلل  والذي قام بالشلل  والذي قام بالشلل  والذي قام بالشلل  والذي قام بالشلل  والذي قام بالشلل  والذي قام بالشلل  والذي قام بالشلل  والذي قام بالشلل  والذي قام بالشلل  والذي قام بالشلل  والذي قام بالشلل  والذي قام بالشلل  والذي قام بالشلل  والذي قام بالشلل  والذي قام بالشلل  والذي قام بالشلل  والذي قام بالشلل  والذي قام بالشلل  والذي قام بالشلل  والذي قام بالشلل  والذي قام بالشلل  والذي قام بالشلل  والذي قام بالشلل  والذي قام بالشلل  والذي قام بالشلل  والذي قام بالشلل  والذي قام بالشلل  والذي قام بالشلل  والذي قام بالشلل  والذي قام بالشلل  والذي قام بالشلل  والذي قام بالشلل  والذي قام بالشلل  والذي قام بالشلل  والذي قام بالشلل  والذي قام بالشلل  والذي قام بالشلل  والذي قام بالشلل  والذي قام بالشلل  والذي قام بالشلل  والذي قام بالشلل  والذي قام بالشلل  والذي قام بالشلل  والذي قام بالشلل  والذي قام بالشلل  والذي قام بالشلل  والذي قام بالشلل  والذي قام بالشلل  والذي قام بالشلل  والذي قام بالشلل  والذي قام بالشلل  والذي قام بالشلل  والذي قام بالشلل  والذي قام بالشلل  والذي قام بالشلل  والذي قام بالشلل  والذي قام\n"
          ]
        }
      ],
      "source": [
        "arabic_question =\"ما هي الإنجازات الثقافية والفنية المرتبطة بعصر محمد علي باشا؟\"\n",
        "l_lama3(arabic_question)"
      ]
    },
    {
      "cell_type": "code",
      "execution_count": 51,
      "metadata": {
        "colab": {
          "base_uri": "https://localhost:8080/"
        },
        "id": "Nu2BDI-ZmuLp",
        "outputId": "8e10f06e-3c12-4790-cf31-cab6c4c2c45b"
      },
      "outputs": [
        {
          "output_type": "stream",
          "name": "stderr",
          "text": [
            "WARNING:sentence_transformers.SentenceTransformer:No sentence-transformers model found with name asafaya/bert-large-arabic. Creating a new one with MEAN pooling.\n",
            "/usr/local/lib/python3.10/dist-packages/transformers/pipelines/base.py:1157: UserWarning: You seem to be using the pipelines sequentially on GPU. In order to maximize efficiency please use a dataset\n",
            "  warnings.warn(\n",
            "Setting `pad_token_id` to `eos_token_id`:128001 for open-end generation.\n"
          ]
        },
        {
          "output_type": "stream",
          "name": "stdout",
          "text": [
            "Question: ما هي الابتكارات العسكرية التي أدخلها محمد علي باشا؟ إليك بعض المستندات  لمساعدتك في الإجابة الصحيحة بحلول خريف عام1981 قامت الحكومة بحملة اعتقالات واسعة شملت المنظمات الإسلامية ومسؤولي الكنيسة القبطية والكتاب والصحفيين ومفكرين يساريين وليبراليين ووصل عدد المعتقلين في السجون المصرية إلى 1536  معتقلاً وذلك علىإثر حدوث بوادر فتن واضطرابات شعبية رافضة للصلح مع إسرائيل ولسياسات الدولة الاقتصادية .   في 6 أكتوبر من عام1981 (بعد31 يوم من إعلان قرارات الاعتقال)، اغتيل في عرض عسكري كان يقام بمناسبة ذكرى حرب أكتوبر، وقام بالاغتيال خالد الإسلامبولي وحسين عباس وعطا طايل وعبد الحميد عبد السلام التابعين لمنظمة الجهاد الإسلامي التي كانت تعارض بشدة اتفاقية السلام مع إسرائيل، حيث اطلقوا الرصاص على الرئيس السادات مما أدى إلى  إصابته برصاصة في رقبته ورصاصة في صدره ورصاصة في قلبه. وجاء اغتيال السادات بعد أشهر قليلة من حادثة مقتل المشير أحمد بدوي وبعض القيادات العسكرية في تحطم طائرة الهليكوبتر بشكل غامض جدًا، مما فتح باب الشكوك حول وجود مؤامرة13[]14]  نائب الرئيس السابق محمد حسني مبارك.    يرى مؤيدو سياسته أنه الرئيس العربي الأكثر جرأة وواقعية في التعامل مع قضايا المنطقة وأنه انتشل مصر من براثن الدولة  ا\n",
            "Answer: ما هي الابتكارات العسكرية التي أدخلها محمد علي باشا؟ إليك بعض المستندات  لمساعدتك في الإجابة الصحيحة بحلول خريف عام1981 قامت الحكومة بحملة اعتقالات واسعة شملت المنظمات الإسلامية ومسؤولي الكنيسة القبطية والكتاب والصحفيين ومفكرين يساريين وليبراليين ووصل عدد المعتقلين في السجون المصرية إلى 1536  معتقلاً وذلك علىإثر حدوث بوادر فتن واضطرابات شعبية رافضة للصلح مع إسرائيل ولسياسات الدولة الاقتصادية .   في 6 أكتوبر من عام1981 (بعد31 يوم من إعلان قرارات الاعتقال)، اغتيل في عرض عسكري كان يقام بمناسبة ذكرى حرب أكتوبر، وقام بالاغتيال خالد الإسلامبولي وحسين عباس وعطا طايل وعبد الحميد عبد السلام التابعين لمنظمة الجهاد الإسلامي التي كانت تعارض بشدة اتفاقية السلام مع إسرائيل، حيث اطلقوا الرصاص على الرئيس السادات مما أدى إلى  إصابته برصاصة في رقبته ورصاصة في صدره ورصاصة في قلبه. وجاء اغتيال السادات بعد أشهر قليلة من حادثة مقتل المشير أحمد بدوي وبعض القيادات العسكرية في تحطم طائرة الهليكوبتر بشكل غامض جدًا، مما فتح باب الشكوك حول وجود مؤامرة13[]14]  نائب الرئيس السابق محمد حسني مبارك.    يرى مؤيدو سياسته أنه الرئيس العربي الأكثر جرأة وواقعية في التعامل مع قضايا المنطقة وأنه انتشل مصر من براثن الدولة  اإسلامية والكنيسة القبطية واليساريين والليبراليين واليساريين والليبراليين والليبراليين والليبراليين والليبريالين والليبرالين والليبرالين والليبرالين والليبرالين والليبرالين والليبرالين والليبرالين والليبرالين والليبرالين والليبرالين والليبرالين والليبرالين والليبرالين والليبرالين والليبرالين والليبرالين والليبرالين والليبرالين والليبرالين والليبرالين والليبرالين والليبرالين والليبرالين والليبرالين والليبرالين والليبرالين والليبرالين والليبرالين والليبرالين والليبرالين والليبرالين والليبرالين والليبرالين والليبرالين والليبرالين والليبرالين والليبرالين والليبرالين والليبرالين والليبرالين والليبرالين والليبرالين والليبرالين والليبرالين والليبرالين والليبرالين والليبرالين والليبرالين والليبرالين والليبرالين والليبرالين والليبرالين والليبرالين والليبرالين والليبرالين والليبرالين والليبرالين والليبرالين والليبرالين والليبرالين والليبرالين والليبرالين والليبرالين والليبرالين والليبرالين والليبرالين والليبرالين والليبرالين والليبرالين والليبرالين والليبرالين والليبرالين والليبرالين والليبرالين والليبرالين والليبرالين والليبرالين والليبرالين والليبرالين والليبرالين والليبرالين والليبرالين والليبرالين والليبرالين والليبرالين والليبرالين والليبرالين والليبرالين والليبرالين والليبرالين والليبرالين والليبرالين والليبرالين والليبرالين والليبرالين والليبرالين والليبرالين والليبرالين والليبرالين والليبرالين والليبرالين والليبرالين والليبرالين والليبرالين والليبرالين والليبرالين والليبرالين والليبرالين والليبرالين والليبرالين والليبرالين والليبرالين والليبرالين والليبرالين والليبرالين والليبرالين والليبرالين والليبرالين والليبرالين والليبرالين والليبرالين والليبرالين والليبرالين والليبرالين والليبرالين والليبرالين والليبرالين والليبرالين والليبرالين والليبرالين والليبرالين والليبرالين والليبرالين والليبرالين والليبرالين والليبرالين والليبرالين والليبرالين والليبرالين والليبرالين والليبرالين والليبرالين والليبرالين والليبرالين والليبرالين والليبرالين والليبرالين والليبرالين والليبرالين والليبرالين والليبرالين والليبرالين والليبرالين والليبرالين والليبرالين والليبرالين والليبرالين والليبرالين والليبرالين والليبرالين والليبرالين والليبرالين والليبرالين والليبرالين والليبرالين والليبرالين والليبرالين والليبرالين والليبرالين والليبرالين والليبرالين والليبرالين والليبرالين والليبرالين والليبرالين والليبرالين والليبرالين والليبرالين والليبرالين والليبرالين والليبرالين والليبرالين والليبرالين والليبرالين والليبرالين والليبرالين والليبرالين والليبرالين والليبرالين والليبرالين والليبرالين والليبرالين والليبرالين والليبرالين والليبرالين والليبرالين والليبرالين والليبرالين والليبرالين والليبرالين والليبرالين والليبرالين والليبرالين والليبرالين والليبرالين والليبرالين والليبرالين والليبرالين والليبرالين والليبرال\n"
          ]
        }
      ],
      "source": [
        "arabic_question =\"ما هي الابتكارات العسكرية التي أدخلها محمد علي باشا؟\"\n",
        "l_lama3(arabic_question)"
      ]
    }
  ],
  "metadata": {
    "accelerator": "GPU",
    "colab": {
      "gpuType": "T4",
      "provenance": []
    },
    "kernelspec": {
      "display_name": "Python 3",
      "name": "python3"
    },
    "language_info": {
      "name": "python"
    },
    "widgets": {
      "application/vnd.jupyter.widget-state+json": {
        "5aa47d95b88e4d2090d50ebf473f9966": {
          "model_module": "@jupyter-widgets/controls",
          "model_name": "HBoxModel",
          "model_module_version": "1.5.0",
          "state": {
            "_dom_classes": [],
            "_model_module": "@jupyter-widgets/controls",
            "_model_module_version": "1.5.0",
            "_model_name": "HBoxModel",
            "_view_count": null,
            "_view_module": "@jupyter-widgets/controls",
            "_view_module_version": "1.5.0",
            "_view_name": "HBoxView",
            "box_style": "",
            "children": [
              "IPY_MODEL_513abf53d0a845b999a93e65cf28255b",
              "IPY_MODEL_b59f74e94414434c9d8c6d19231bde52",
              "IPY_MODEL_4ed1268e798b4de8b428f410166f8658"
            ],
            "layout": "IPY_MODEL_bfe3da0660b74db4a271333640b0451a"
          }
        },
        "513abf53d0a845b999a93e65cf28255b": {
          "model_module": "@jupyter-widgets/controls",
          "model_name": "HTMLModel",
          "model_module_version": "1.5.0",
          "state": {
            "_dom_classes": [],
            "_model_module": "@jupyter-widgets/controls",
            "_model_module_version": "1.5.0",
            "_model_name": "HTMLModel",
            "_view_count": null,
            "_view_module": "@jupyter-widgets/controls",
            "_view_module_version": "1.5.0",
            "_view_name": "HTMLView",
            "description": "",
            "description_tooltip": null,
            "layout": "IPY_MODEL_7a164e5c5bc9436faacd6325064ec077",
            "placeholder": "​",
            "style": "IPY_MODEL_2223a4088cb84a3f9b4dd5b331e6c873",
            "value": "config.json: 100%"
          }
        },
        "b59f74e94414434c9d8c6d19231bde52": {
          "model_module": "@jupyter-widgets/controls",
          "model_name": "FloatProgressModel",
          "model_module_version": "1.5.0",
          "state": {
            "_dom_classes": [],
            "_model_module": "@jupyter-widgets/controls",
            "_model_module_version": "1.5.0",
            "_model_name": "FloatProgressModel",
            "_view_count": null,
            "_view_module": "@jupyter-widgets/controls",
            "_view_module_version": "1.5.0",
            "_view_name": "ProgressView",
            "bar_style": "success",
            "description": "",
            "description_tooltip": null,
            "layout": "IPY_MODEL_73a3f94afc86410ca172ef35f2a5e2a9",
            "max": 654,
            "min": 0,
            "orientation": "horizontal",
            "style": "IPY_MODEL_d9f0078e2cfc4ab6a969c853bc466c02",
            "value": 654
          }
        },
        "4ed1268e798b4de8b428f410166f8658": {
          "model_module": "@jupyter-widgets/controls",
          "model_name": "HTMLModel",
          "model_module_version": "1.5.0",
          "state": {
            "_dom_classes": [],
            "_model_module": "@jupyter-widgets/controls",
            "_model_module_version": "1.5.0",
            "_model_name": "HTMLModel",
            "_view_count": null,
            "_view_module": "@jupyter-widgets/controls",
            "_view_module_version": "1.5.0",
            "_view_name": "HTMLView",
            "description": "",
            "description_tooltip": null,
            "layout": "IPY_MODEL_13f69a6cbce9490baf2322a9caa36293",
            "placeholder": "​",
            "style": "IPY_MODEL_eb6dce1e78154db5b54517765346cb99",
            "value": " 654/654 [00:00&lt;00:00, 44.2kB/s]"
          }
        },
        "bfe3da0660b74db4a271333640b0451a": {
          "model_module": "@jupyter-widgets/base",
          "model_name": "LayoutModel",
          "model_module_version": "1.2.0",
          "state": {
            "_model_module": "@jupyter-widgets/base",
            "_model_module_version": "1.2.0",
            "_model_name": "LayoutModel",
            "_view_count": null,
            "_view_module": "@jupyter-widgets/base",
            "_view_module_version": "1.2.0",
            "_view_name": "LayoutView",
            "align_content": null,
            "align_items": null,
            "align_self": null,
            "border": null,
            "bottom": null,
            "display": null,
            "flex": null,
            "flex_flow": null,
            "grid_area": null,
            "grid_auto_columns": null,
            "grid_auto_flow": null,
            "grid_auto_rows": null,
            "grid_column": null,
            "grid_gap": null,
            "grid_row": null,
            "grid_template_areas": null,
            "grid_template_columns": null,
            "grid_template_rows": null,
            "height": null,
            "justify_content": null,
            "justify_items": null,
            "left": null,
            "margin": null,
            "max_height": null,
            "max_width": null,
            "min_height": null,
            "min_width": null,
            "object_fit": null,
            "object_position": null,
            "order": null,
            "overflow": null,
            "overflow_x": null,
            "overflow_y": null,
            "padding": null,
            "right": null,
            "top": null,
            "visibility": null,
            "width": null
          }
        },
        "7a164e5c5bc9436faacd6325064ec077": {
          "model_module": "@jupyter-widgets/base",
          "model_name": "LayoutModel",
          "model_module_version": "1.2.0",
          "state": {
            "_model_module": "@jupyter-widgets/base",
            "_model_module_version": "1.2.0",
            "_model_name": "LayoutModel",
            "_view_count": null,
            "_view_module": "@jupyter-widgets/base",
            "_view_module_version": "1.2.0",
            "_view_name": "LayoutView",
            "align_content": null,
            "align_items": null,
            "align_self": null,
            "border": null,
            "bottom": null,
            "display": null,
            "flex": null,
            "flex_flow": null,
            "grid_area": null,
            "grid_auto_columns": null,
            "grid_auto_flow": null,
            "grid_auto_rows": null,
            "grid_column": null,
            "grid_gap": null,
            "grid_row": null,
            "grid_template_areas": null,
            "grid_template_columns": null,
            "grid_template_rows": null,
            "height": null,
            "justify_content": null,
            "justify_items": null,
            "left": null,
            "margin": null,
            "max_height": null,
            "max_width": null,
            "min_height": null,
            "min_width": null,
            "object_fit": null,
            "object_position": null,
            "order": null,
            "overflow": null,
            "overflow_x": null,
            "overflow_y": null,
            "padding": null,
            "right": null,
            "top": null,
            "visibility": null,
            "width": null
          }
        },
        "2223a4088cb84a3f9b4dd5b331e6c873": {
          "model_module": "@jupyter-widgets/controls",
          "model_name": "DescriptionStyleModel",
          "model_module_version": "1.5.0",
          "state": {
            "_model_module": "@jupyter-widgets/controls",
            "_model_module_version": "1.5.0",
            "_model_name": "DescriptionStyleModel",
            "_view_count": null,
            "_view_module": "@jupyter-widgets/base",
            "_view_module_version": "1.2.0",
            "_view_name": "StyleView",
            "description_width": ""
          }
        },
        "73a3f94afc86410ca172ef35f2a5e2a9": {
          "model_module": "@jupyter-widgets/base",
          "model_name": "LayoutModel",
          "model_module_version": "1.2.0",
          "state": {
            "_model_module": "@jupyter-widgets/base",
            "_model_module_version": "1.2.0",
            "_model_name": "LayoutModel",
            "_view_count": null,
            "_view_module": "@jupyter-widgets/base",
            "_view_module_version": "1.2.0",
            "_view_name": "LayoutView",
            "align_content": null,
            "align_items": null,
            "align_self": null,
            "border": null,
            "bottom": null,
            "display": null,
            "flex": null,
            "flex_flow": null,
            "grid_area": null,
            "grid_auto_columns": null,
            "grid_auto_flow": null,
            "grid_auto_rows": null,
            "grid_column": null,
            "grid_gap": null,
            "grid_row": null,
            "grid_template_areas": null,
            "grid_template_columns": null,
            "grid_template_rows": null,
            "height": null,
            "justify_content": null,
            "justify_items": null,
            "left": null,
            "margin": null,
            "max_height": null,
            "max_width": null,
            "min_height": null,
            "min_width": null,
            "object_fit": null,
            "object_position": null,
            "order": null,
            "overflow": null,
            "overflow_x": null,
            "overflow_y": null,
            "padding": null,
            "right": null,
            "top": null,
            "visibility": null,
            "width": null
          }
        },
        "d9f0078e2cfc4ab6a969c853bc466c02": {
          "model_module": "@jupyter-widgets/controls",
          "model_name": "ProgressStyleModel",
          "model_module_version": "1.5.0",
          "state": {
            "_model_module": "@jupyter-widgets/controls",
            "_model_module_version": "1.5.0",
            "_model_name": "ProgressStyleModel",
            "_view_count": null,
            "_view_module": "@jupyter-widgets/base",
            "_view_module_version": "1.2.0",
            "_view_name": "StyleView",
            "bar_color": null,
            "description_width": ""
          }
        },
        "13f69a6cbce9490baf2322a9caa36293": {
          "model_module": "@jupyter-widgets/base",
          "model_name": "LayoutModel",
          "model_module_version": "1.2.0",
          "state": {
            "_model_module": "@jupyter-widgets/base",
            "_model_module_version": "1.2.0",
            "_model_name": "LayoutModel",
            "_view_count": null,
            "_view_module": "@jupyter-widgets/base",
            "_view_module_version": "1.2.0",
            "_view_name": "LayoutView",
            "align_content": null,
            "align_items": null,
            "align_self": null,
            "border": null,
            "bottom": null,
            "display": null,
            "flex": null,
            "flex_flow": null,
            "grid_area": null,
            "grid_auto_columns": null,
            "grid_auto_flow": null,
            "grid_auto_rows": null,
            "grid_column": null,
            "grid_gap": null,
            "grid_row": null,
            "grid_template_areas": null,
            "grid_template_columns": null,
            "grid_template_rows": null,
            "height": null,
            "justify_content": null,
            "justify_items": null,
            "left": null,
            "margin": null,
            "max_height": null,
            "max_width": null,
            "min_height": null,
            "min_width": null,
            "object_fit": null,
            "object_position": null,
            "order": null,
            "overflow": null,
            "overflow_x": null,
            "overflow_y": null,
            "padding": null,
            "right": null,
            "top": null,
            "visibility": null,
            "width": null
          }
        },
        "eb6dce1e78154db5b54517765346cb99": {
          "model_module": "@jupyter-widgets/controls",
          "model_name": "DescriptionStyleModel",
          "model_module_version": "1.5.0",
          "state": {
            "_model_module": "@jupyter-widgets/controls",
            "_model_module_version": "1.5.0",
            "_model_name": "DescriptionStyleModel",
            "_view_count": null,
            "_view_module": "@jupyter-widgets/base",
            "_view_module_version": "1.2.0",
            "_view_name": "StyleView",
            "description_width": ""
          }
        },
        "27de3e3c36dd43478f06d34d51e6ad1c": {
          "model_module": "@jupyter-widgets/controls",
          "model_name": "HBoxModel",
          "model_module_version": "1.5.0",
          "state": {
            "_dom_classes": [],
            "_model_module": "@jupyter-widgets/controls",
            "_model_module_version": "1.5.0",
            "_model_name": "HBoxModel",
            "_view_count": null,
            "_view_module": "@jupyter-widgets/controls",
            "_view_module_version": "1.5.0",
            "_view_name": "HBoxView",
            "box_style": "",
            "children": [
              "IPY_MODEL_6af4188c5624406cb995b71278be1bd2",
              "IPY_MODEL_3d29d1392e474a02927a2f5c0b3f24b0",
              "IPY_MODEL_423d485aec244c6bbd62b83bcc4df19a"
            ],
            "layout": "IPY_MODEL_2caf33532592471f809bf7e02c03a4a2"
          }
        },
        "6af4188c5624406cb995b71278be1bd2": {
          "model_module": "@jupyter-widgets/controls",
          "model_name": "HTMLModel",
          "model_module_version": "1.5.0",
          "state": {
            "_dom_classes": [],
            "_model_module": "@jupyter-widgets/controls",
            "_model_module_version": "1.5.0",
            "_model_name": "HTMLModel",
            "_view_count": null,
            "_view_module": "@jupyter-widgets/controls",
            "_view_module_version": "1.5.0",
            "_view_name": "HTMLView",
            "description": "",
            "description_tooltip": null,
            "layout": "IPY_MODEL_47403e383e02462abe99cc76fc10808e",
            "placeholder": "​",
            "style": "IPY_MODEL_9cd39760ef97419282acd1436ad97961",
            "value": "model.safetensors.index.json: 100%"
          }
        },
        "3d29d1392e474a02927a2f5c0b3f24b0": {
          "model_module": "@jupyter-widgets/controls",
          "model_name": "FloatProgressModel",
          "model_module_version": "1.5.0",
          "state": {
            "_dom_classes": [],
            "_model_module": "@jupyter-widgets/controls",
            "_model_module_version": "1.5.0",
            "_model_name": "FloatProgressModel",
            "_view_count": null,
            "_view_module": "@jupyter-widgets/controls",
            "_view_module_version": "1.5.0",
            "_view_name": "ProgressView",
            "bar_style": "success",
            "description": "",
            "description_tooltip": null,
            "layout": "IPY_MODEL_d0bfd5792b1a43888ada70ca37128d02",
            "max": 23950,
            "min": 0,
            "orientation": "horizontal",
            "style": "IPY_MODEL_6e2565c8b6ca4838b706e1e363bf88dc",
            "value": 23950
          }
        },
        "423d485aec244c6bbd62b83bcc4df19a": {
          "model_module": "@jupyter-widgets/controls",
          "model_name": "HTMLModel",
          "model_module_version": "1.5.0",
          "state": {
            "_dom_classes": [],
            "_model_module": "@jupyter-widgets/controls",
            "_model_module_version": "1.5.0",
            "_model_name": "HTMLModel",
            "_view_count": null,
            "_view_module": "@jupyter-widgets/controls",
            "_view_module_version": "1.5.0",
            "_view_name": "HTMLView",
            "description": "",
            "description_tooltip": null,
            "layout": "IPY_MODEL_db182db0c8b34991be059151fd464bb0",
            "placeholder": "​",
            "style": "IPY_MODEL_1c99428c1a104053bdf22611321dfeef",
            "value": " 23.9k/23.9k [00:00&lt;00:00, 1.61MB/s]"
          }
        },
        "2caf33532592471f809bf7e02c03a4a2": {
          "model_module": "@jupyter-widgets/base",
          "model_name": "LayoutModel",
          "model_module_version": "1.2.0",
          "state": {
            "_model_module": "@jupyter-widgets/base",
            "_model_module_version": "1.2.0",
            "_model_name": "LayoutModel",
            "_view_count": null,
            "_view_module": "@jupyter-widgets/base",
            "_view_module_version": "1.2.0",
            "_view_name": "LayoutView",
            "align_content": null,
            "align_items": null,
            "align_self": null,
            "border": null,
            "bottom": null,
            "display": null,
            "flex": null,
            "flex_flow": null,
            "grid_area": null,
            "grid_auto_columns": null,
            "grid_auto_flow": null,
            "grid_auto_rows": null,
            "grid_column": null,
            "grid_gap": null,
            "grid_row": null,
            "grid_template_areas": null,
            "grid_template_columns": null,
            "grid_template_rows": null,
            "height": null,
            "justify_content": null,
            "justify_items": null,
            "left": null,
            "margin": null,
            "max_height": null,
            "max_width": null,
            "min_height": null,
            "min_width": null,
            "object_fit": null,
            "object_position": null,
            "order": null,
            "overflow": null,
            "overflow_x": null,
            "overflow_y": null,
            "padding": null,
            "right": null,
            "top": null,
            "visibility": null,
            "width": null
          }
        },
        "47403e383e02462abe99cc76fc10808e": {
          "model_module": "@jupyter-widgets/base",
          "model_name": "LayoutModel",
          "model_module_version": "1.2.0",
          "state": {
            "_model_module": "@jupyter-widgets/base",
            "_model_module_version": "1.2.0",
            "_model_name": "LayoutModel",
            "_view_count": null,
            "_view_module": "@jupyter-widgets/base",
            "_view_module_version": "1.2.0",
            "_view_name": "LayoutView",
            "align_content": null,
            "align_items": null,
            "align_self": null,
            "border": null,
            "bottom": null,
            "display": null,
            "flex": null,
            "flex_flow": null,
            "grid_area": null,
            "grid_auto_columns": null,
            "grid_auto_flow": null,
            "grid_auto_rows": null,
            "grid_column": null,
            "grid_gap": null,
            "grid_row": null,
            "grid_template_areas": null,
            "grid_template_columns": null,
            "grid_template_rows": null,
            "height": null,
            "justify_content": null,
            "justify_items": null,
            "left": null,
            "margin": null,
            "max_height": null,
            "max_width": null,
            "min_height": null,
            "min_width": null,
            "object_fit": null,
            "object_position": null,
            "order": null,
            "overflow": null,
            "overflow_x": null,
            "overflow_y": null,
            "padding": null,
            "right": null,
            "top": null,
            "visibility": null,
            "width": null
          }
        },
        "9cd39760ef97419282acd1436ad97961": {
          "model_module": "@jupyter-widgets/controls",
          "model_name": "DescriptionStyleModel",
          "model_module_version": "1.5.0",
          "state": {
            "_model_module": "@jupyter-widgets/controls",
            "_model_module_version": "1.5.0",
            "_model_name": "DescriptionStyleModel",
            "_view_count": null,
            "_view_module": "@jupyter-widgets/base",
            "_view_module_version": "1.2.0",
            "_view_name": "StyleView",
            "description_width": ""
          }
        },
        "d0bfd5792b1a43888ada70ca37128d02": {
          "model_module": "@jupyter-widgets/base",
          "model_name": "LayoutModel",
          "model_module_version": "1.2.0",
          "state": {
            "_model_module": "@jupyter-widgets/base",
            "_model_module_version": "1.2.0",
            "_model_name": "LayoutModel",
            "_view_count": null,
            "_view_module": "@jupyter-widgets/base",
            "_view_module_version": "1.2.0",
            "_view_name": "LayoutView",
            "align_content": null,
            "align_items": null,
            "align_self": null,
            "border": null,
            "bottom": null,
            "display": null,
            "flex": null,
            "flex_flow": null,
            "grid_area": null,
            "grid_auto_columns": null,
            "grid_auto_flow": null,
            "grid_auto_rows": null,
            "grid_column": null,
            "grid_gap": null,
            "grid_row": null,
            "grid_template_areas": null,
            "grid_template_columns": null,
            "grid_template_rows": null,
            "height": null,
            "justify_content": null,
            "justify_items": null,
            "left": null,
            "margin": null,
            "max_height": null,
            "max_width": null,
            "min_height": null,
            "min_width": null,
            "object_fit": null,
            "object_position": null,
            "order": null,
            "overflow": null,
            "overflow_x": null,
            "overflow_y": null,
            "padding": null,
            "right": null,
            "top": null,
            "visibility": null,
            "width": null
          }
        },
        "6e2565c8b6ca4838b706e1e363bf88dc": {
          "model_module": "@jupyter-widgets/controls",
          "model_name": "ProgressStyleModel",
          "model_module_version": "1.5.0",
          "state": {
            "_model_module": "@jupyter-widgets/controls",
            "_model_module_version": "1.5.0",
            "_model_name": "ProgressStyleModel",
            "_view_count": null,
            "_view_module": "@jupyter-widgets/base",
            "_view_module_version": "1.2.0",
            "_view_name": "StyleView",
            "bar_color": null,
            "description_width": ""
          }
        },
        "db182db0c8b34991be059151fd464bb0": {
          "model_module": "@jupyter-widgets/base",
          "model_name": "LayoutModel",
          "model_module_version": "1.2.0",
          "state": {
            "_model_module": "@jupyter-widgets/base",
            "_model_module_version": "1.2.0",
            "_model_name": "LayoutModel",
            "_view_count": null,
            "_view_module": "@jupyter-widgets/base",
            "_view_module_version": "1.2.0",
            "_view_name": "LayoutView",
            "align_content": null,
            "align_items": null,
            "align_self": null,
            "border": null,
            "bottom": null,
            "display": null,
            "flex": null,
            "flex_flow": null,
            "grid_area": null,
            "grid_auto_columns": null,
            "grid_auto_flow": null,
            "grid_auto_rows": null,
            "grid_column": null,
            "grid_gap": null,
            "grid_row": null,
            "grid_template_areas": null,
            "grid_template_columns": null,
            "grid_template_rows": null,
            "height": null,
            "justify_content": null,
            "justify_items": null,
            "left": null,
            "margin": null,
            "max_height": null,
            "max_width": null,
            "min_height": null,
            "min_width": null,
            "object_fit": null,
            "object_position": null,
            "order": null,
            "overflow": null,
            "overflow_x": null,
            "overflow_y": null,
            "padding": null,
            "right": null,
            "top": null,
            "visibility": null,
            "width": null
          }
        },
        "1c99428c1a104053bdf22611321dfeef": {
          "model_module": "@jupyter-widgets/controls",
          "model_name": "DescriptionStyleModel",
          "model_module_version": "1.5.0",
          "state": {
            "_model_module": "@jupyter-widgets/controls",
            "_model_module_version": "1.5.0",
            "_model_name": "DescriptionStyleModel",
            "_view_count": null,
            "_view_module": "@jupyter-widgets/base",
            "_view_module_version": "1.2.0",
            "_view_name": "StyleView",
            "description_width": ""
          }
        },
        "a437cd25b21d416abeaa9a926fc31ab9": {
          "model_module": "@jupyter-widgets/controls",
          "model_name": "HBoxModel",
          "model_module_version": "1.5.0",
          "state": {
            "_dom_classes": [],
            "_model_module": "@jupyter-widgets/controls",
            "_model_module_version": "1.5.0",
            "_model_name": "HBoxModel",
            "_view_count": null,
            "_view_module": "@jupyter-widgets/controls",
            "_view_module_version": "1.5.0",
            "_view_name": "HBoxView",
            "box_style": "",
            "children": [
              "IPY_MODEL_23ff0bfbec1f436c9f3a28227bb8ffec",
              "IPY_MODEL_d61a300ed9614e5d8bb5c7de7ec03ae8",
              "IPY_MODEL_e935ec44ed6e41689b8000e2146a831e"
            ],
            "layout": "IPY_MODEL_141811c2eb264501a1a5b2186e593305"
          }
        },
        "23ff0bfbec1f436c9f3a28227bb8ffec": {
          "model_module": "@jupyter-widgets/controls",
          "model_name": "HTMLModel",
          "model_module_version": "1.5.0",
          "state": {
            "_dom_classes": [],
            "_model_module": "@jupyter-widgets/controls",
            "_model_module_version": "1.5.0",
            "_model_name": "HTMLModel",
            "_view_count": null,
            "_view_module": "@jupyter-widgets/controls",
            "_view_module_version": "1.5.0",
            "_view_name": "HTMLView",
            "description": "",
            "description_tooltip": null,
            "layout": "IPY_MODEL_e154a78d9fda4061945f251d4d573a51",
            "placeholder": "​",
            "style": "IPY_MODEL_072f8d549df84a90b5293ab738d1dcce",
            "value": "Downloading shards: 100%"
          }
        },
        "d61a300ed9614e5d8bb5c7de7ec03ae8": {
          "model_module": "@jupyter-widgets/controls",
          "model_name": "FloatProgressModel",
          "model_module_version": "1.5.0",
          "state": {
            "_dom_classes": [],
            "_model_module": "@jupyter-widgets/controls",
            "_model_module_version": "1.5.0",
            "_model_name": "FloatProgressModel",
            "_view_count": null,
            "_view_module": "@jupyter-widgets/controls",
            "_view_module_version": "1.5.0",
            "_view_name": "ProgressView",
            "bar_style": "success",
            "description": "",
            "description_tooltip": null,
            "layout": "IPY_MODEL_d1260ba9857a4b2581119e327ad46278",
            "max": 4,
            "min": 0,
            "orientation": "horizontal",
            "style": "IPY_MODEL_7a7adf7622b04f43a308dac37e53096e",
            "value": 4
          }
        },
        "e935ec44ed6e41689b8000e2146a831e": {
          "model_module": "@jupyter-widgets/controls",
          "model_name": "HTMLModel",
          "model_module_version": "1.5.0",
          "state": {
            "_dom_classes": [],
            "_model_module": "@jupyter-widgets/controls",
            "_model_module_version": "1.5.0",
            "_model_name": "HTMLModel",
            "_view_count": null,
            "_view_module": "@jupyter-widgets/controls",
            "_view_module_version": "1.5.0",
            "_view_name": "HTMLView",
            "description": "",
            "description_tooltip": null,
            "layout": "IPY_MODEL_c4dfc559f8514e5db67c4b8d5baa0be4",
            "placeholder": "​",
            "style": "IPY_MODEL_b0f11c9c8ac14705b91bab83d3312a09",
            "value": " 4/4 [02:18&lt;00:00, 29.44s/it]"
          }
        },
        "141811c2eb264501a1a5b2186e593305": {
          "model_module": "@jupyter-widgets/base",
          "model_name": "LayoutModel",
          "model_module_version": "1.2.0",
          "state": {
            "_model_module": "@jupyter-widgets/base",
            "_model_module_version": "1.2.0",
            "_model_name": "LayoutModel",
            "_view_count": null,
            "_view_module": "@jupyter-widgets/base",
            "_view_module_version": "1.2.0",
            "_view_name": "LayoutView",
            "align_content": null,
            "align_items": null,
            "align_self": null,
            "border": null,
            "bottom": null,
            "display": null,
            "flex": null,
            "flex_flow": null,
            "grid_area": null,
            "grid_auto_columns": null,
            "grid_auto_flow": null,
            "grid_auto_rows": null,
            "grid_column": null,
            "grid_gap": null,
            "grid_row": null,
            "grid_template_areas": null,
            "grid_template_columns": null,
            "grid_template_rows": null,
            "height": null,
            "justify_content": null,
            "justify_items": null,
            "left": null,
            "margin": null,
            "max_height": null,
            "max_width": null,
            "min_height": null,
            "min_width": null,
            "object_fit": null,
            "object_position": null,
            "order": null,
            "overflow": null,
            "overflow_x": null,
            "overflow_y": null,
            "padding": null,
            "right": null,
            "top": null,
            "visibility": null,
            "width": null
          }
        },
        "e154a78d9fda4061945f251d4d573a51": {
          "model_module": "@jupyter-widgets/base",
          "model_name": "LayoutModel",
          "model_module_version": "1.2.0",
          "state": {
            "_model_module": "@jupyter-widgets/base",
            "_model_module_version": "1.2.0",
            "_model_name": "LayoutModel",
            "_view_count": null,
            "_view_module": "@jupyter-widgets/base",
            "_view_module_version": "1.2.0",
            "_view_name": "LayoutView",
            "align_content": null,
            "align_items": null,
            "align_self": null,
            "border": null,
            "bottom": null,
            "display": null,
            "flex": null,
            "flex_flow": null,
            "grid_area": null,
            "grid_auto_columns": null,
            "grid_auto_flow": null,
            "grid_auto_rows": null,
            "grid_column": null,
            "grid_gap": null,
            "grid_row": null,
            "grid_template_areas": null,
            "grid_template_columns": null,
            "grid_template_rows": null,
            "height": null,
            "justify_content": null,
            "justify_items": null,
            "left": null,
            "margin": null,
            "max_height": null,
            "max_width": null,
            "min_height": null,
            "min_width": null,
            "object_fit": null,
            "object_position": null,
            "order": null,
            "overflow": null,
            "overflow_x": null,
            "overflow_y": null,
            "padding": null,
            "right": null,
            "top": null,
            "visibility": null,
            "width": null
          }
        },
        "072f8d549df84a90b5293ab738d1dcce": {
          "model_module": "@jupyter-widgets/controls",
          "model_name": "DescriptionStyleModel",
          "model_module_version": "1.5.0",
          "state": {
            "_model_module": "@jupyter-widgets/controls",
            "_model_module_version": "1.5.0",
            "_model_name": "DescriptionStyleModel",
            "_view_count": null,
            "_view_module": "@jupyter-widgets/base",
            "_view_module_version": "1.2.0",
            "_view_name": "StyleView",
            "description_width": ""
          }
        },
        "d1260ba9857a4b2581119e327ad46278": {
          "model_module": "@jupyter-widgets/base",
          "model_name": "LayoutModel",
          "model_module_version": "1.2.0",
          "state": {
            "_model_module": "@jupyter-widgets/base",
            "_model_module_version": "1.2.0",
            "_model_name": "LayoutModel",
            "_view_count": null,
            "_view_module": "@jupyter-widgets/base",
            "_view_module_version": "1.2.0",
            "_view_name": "LayoutView",
            "align_content": null,
            "align_items": null,
            "align_self": null,
            "border": null,
            "bottom": null,
            "display": null,
            "flex": null,
            "flex_flow": null,
            "grid_area": null,
            "grid_auto_columns": null,
            "grid_auto_flow": null,
            "grid_auto_rows": null,
            "grid_column": null,
            "grid_gap": null,
            "grid_row": null,
            "grid_template_areas": null,
            "grid_template_columns": null,
            "grid_template_rows": null,
            "height": null,
            "justify_content": null,
            "justify_items": null,
            "left": null,
            "margin": null,
            "max_height": null,
            "max_width": null,
            "min_height": null,
            "min_width": null,
            "object_fit": null,
            "object_position": null,
            "order": null,
            "overflow": null,
            "overflow_x": null,
            "overflow_y": null,
            "padding": null,
            "right": null,
            "top": null,
            "visibility": null,
            "width": null
          }
        },
        "7a7adf7622b04f43a308dac37e53096e": {
          "model_module": "@jupyter-widgets/controls",
          "model_name": "ProgressStyleModel",
          "model_module_version": "1.5.0",
          "state": {
            "_model_module": "@jupyter-widgets/controls",
            "_model_module_version": "1.5.0",
            "_model_name": "ProgressStyleModel",
            "_view_count": null,
            "_view_module": "@jupyter-widgets/base",
            "_view_module_version": "1.2.0",
            "_view_name": "StyleView",
            "bar_color": null,
            "description_width": ""
          }
        },
        "c4dfc559f8514e5db67c4b8d5baa0be4": {
          "model_module": "@jupyter-widgets/base",
          "model_name": "LayoutModel",
          "model_module_version": "1.2.0",
          "state": {
            "_model_module": "@jupyter-widgets/base",
            "_model_module_version": "1.2.0",
            "_model_name": "LayoutModel",
            "_view_count": null,
            "_view_module": "@jupyter-widgets/base",
            "_view_module_version": "1.2.0",
            "_view_name": "LayoutView",
            "align_content": null,
            "align_items": null,
            "align_self": null,
            "border": null,
            "bottom": null,
            "display": null,
            "flex": null,
            "flex_flow": null,
            "grid_area": null,
            "grid_auto_columns": null,
            "grid_auto_flow": null,
            "grid_auto_rows": null,
            "grid_column": null,
            "grid_gap": null,
            "grid_row": null,
            "grid_template_areas": null,
            "grid_template_columns": null,
            "grid_template_rows": null,
            "height": null,
            "justify_content": null,
            "justify_items": null,
            "left": null,
            "margin": null,
            "max_height": null,
            "max_width": null,
            "min_height": null,
            "min_width": null,
            "object_fit": null,
            "object_position": null,
            "order": null,
            "overflow": null,
            "overflow_x": null,
            "overflow_y": null,
            "padding": null,
            "right": null,
            "top": null,
            "visibility": null,
            "width": null
          }
        },
        "b0f11c9c8ac14705b91bab83d3312a09": {
          "model_module": "@jupyter-widgets/controls",
          "model_name": "DescriptionStyleModel",
          "model_module_version": "1.5.0",
          "state": {
            "_model_module": "@jupyter-widgets/controls",
            "_model_module_version": "1.5.0",
            "_model_name": "DescriptionStyleModel",
            "_view_count": null,
            "_view_module": "@jupyter-widgets/base",
            "_view_module_version": "1.2.0",
            "_view_name": "StyleView",
            "description_width": ""
          }
        },
        "ed6b75847e3d4c4aa202b05b78aeb58f": {
          "model_module": "@jupyter-widgets/controls",
          "model_name": "HBoxModel",
          "model_module_version": "1.5.0",
          "state": {
            "_dom_classes": [],
            "_model_module": "@jupyter-widgets/controls",
            "_model_module_version": "1.5.0",
            "_model_name": "HBoxModel",
            "_view_count": null,
            "_view_module": "@jupyter-widgets/controls",
            "_view_module_version": "1.5.0",
            "_view_name": "HBoxView",
            "box_style": "",
            "children": [
              "IPY_MODEL_fe48b19d09e5482ca9fb94410388891d",
              "IPY_MODEL_a1e4fa1cb4e547808e925a1c40c4270c",
              "IPY_MODEL_dd31220438b34009b020647598742c7d"
            ],
            "layout": "IPY_MODEL_338b6bdf3ef3498dbbf6604a0b9c7de2"
          }
        },
        "fe48b19d09e5482ca9fb94410388891d": {
          "model_module": "@jupyter-widgets/controls",
          "model_name": "HTMLModel",
          "model_module_version": "1.5.0",
          "state": {
            "_dom_classes": [],
            "_model_module": "@jupyter-widgets/controls",
            "_model_module_version": "1.5.0",
            "_model_name": "HTMLModel",
            "_view_count": null,
            "_view_module": "@jupyter-widgets/controls",
            "_view_module_version": "1.5.0",
            "_view_name": "HTMLView",
            "description": "",
            "description_tooltip": null,
            "layout": "IPY_MODEL_a1b8b47d42e04a938e6337822bf906bd",
            "placeholder": "​",
            "style": "IPY_MODEL_0bec486b575b46ef9ca1cee3546bc7f7",
            "value": "model-00001-of-00004.safetensors: 100%"
          }
        },
        "a1e4fa1cb4e547808e925a1c40c4270c": {
          "model_module": "@jupyter-widgets/controls",
          "model_name": "FloatProgressModel",
          "model_module_version": "1.5.0",
          "state": {
            "_dom_classes": [],
            "_model_module": "@jupyter-widgets/controls",
            "_model_module_version": "1.5.0",
            "_model_name": "FloatProgressModel",
            "_view_count": null,
            "_view_module": "@jupyter-widgets/controls",
            "_view_module_version": "1.5.0",
            "_view_name": "ProgressView",
            "bar_style": "success",
            "description": "",
            "description_tooltip": null,
            "layout": "IPY_MODEL_d05ae9f4b0a84c55bb6c50ac149eec67",
            "max": 4976698672,
            "min": 0,
            "orientation": "horizontal",
            "style": "IPY_MODEL_cbc0a4db288b49ec99102c794acc2a27",
            "value": 4976698672
          }
        },
        "dd31220438b34009b020647598742c7d": {
          "model_module": "@jupyter-widgets/controls",
          "model_name": "HTMLModel",
          "model_module_version": "1.5.0",
          "state": {
            "_dom_classes": [],
            "_model_module": "@jupyter-widgets/controls",
            "_model_module_version": "1.5.0",
            "_model_name": "HTMLModel",
            "_view_count": null,
            "_view_module": "@jupyter-widgets/controls",
            "_view_module_version": "1.5.0",
            "_view_name": "HTMLView",
            "description": "",
            "description_tooltip": null,
            "layout": "IPY_MODEL_d4b9b0eeb3d14b4b8969b1458c205ff8",
            "placeholder": "​",
            "style": "IPY_MODEL_1826babdce8944e9b5a031c9a283351a",
            "value": " 4.98G/4.98G [00:41&lt;00:00, 244MB/s]"
          }
        },
        "338b6bdf3ef3498dbbf6604a0b9c7de2": {
          "model_module": "@jupyter-widgets/base",
          "model_name": "LayoutModel",
          "model_module_version": "1.2.0",
          "state": {
            "_model_module": "@jupyter-widgets/base",
            "_model_module_version": "1.2.0",
            "_model_name": "LayoutModel",
            "_view_count": null,
            "_view_module": "@jupyter-widgets/base",
            "_view_module_version": "1.2.0",
            "_view_name": "LayoutView",
            "align_content": null,
            "align_items": null,
            "align_self": null,
            "border": null,
            "bottom": null,
            "display": null,
            "flex": null,
            "flex_flow": null,
            "grid_area": null,
            "grid_auto_columns": null,
            "grid_auto_flow": null,
            "grid_auto_rows": null,
            "grid_column": null,
            "grid_gap": null,
            "grid_row": null,
            "grid_template_areas": null,
            "grid_template_columns": null,
            "grid_template_rows": null,
            "height": null,
            "justify_content": null,
            "justify_items": null,
            "left": null,
            "margin": null,
            "max_height": null,
            "max_width": null,
            "min_height": null,
            "min_width": null,
            "object_fit": null,
            "object_position": null,
            "order": null,
            "overflow": null,
            "overflow_x": null,
            "overflow_y": null,
            "padding": null,
            "right": null,
            "top": null,
            "visibility": null,
            "width": null
          }
        },
        "a1b8b47d42e04a938e6337822bf906bd": {
          "model_module": "@jupyter-widgets/base",
          "model_name": "LayoutModel",
          "model_module_version": "1.2.0",
          "state": {
            "_model_module": "@jupyter-widgets/base",
            "_model_module_version": "1.2.0",
            "_model_name": "LayoutModel",
            "_view_count": null,
            "_view_module": "@jupyter-widgets/base",
            "_view_module_version": "1.2.0",
            "_view_name": "LayoutView",
            "align_content": null,
            "align_items": null,
            "align_self": null,
            "border": null,
            "bottom": null,
            "display": null,
            "flex": null,
            "flex_flow": null,
            "grid_area": null,
            "grid_auto_columns": null,
            "grid_auto_flow": null,
            "grid_auto_rows": null,
            "grid_column": null,
            "grid_gap": null,
            "grid_row": null,
            "grid_template_areas": null,
            "grid_template_columns": null,
            "grid_template_rows": null,
            "height": null,
            "justify_content": null,
            "justify_items": null,
            "left": null,
            "margin": null,
            "max_height": null,
            "max_width": null,
            "min_height": null,
            "min_width": null,
            "object_fit": null,
            "object_position": null,
            "order": null,
            "overflow": null,
            "overflow_x": null,
            "overflow_y": null,
            "padding": null,
            "right": null,
            "top": null,
            "visibility": null,
            "width": null
          }
        },
        "0bec486b575b46ef9ca1cee3546bc7f7": {
          "model_module": "@jupyter-widgets/controls",
          "model_name": "DescriptionStyleModel",
          "model_module_version": "1.5.0",
          "state": {
            "_model_module": "@jupyter-widgets/controls",
            "_model_module_version": "1.5.0",
            "_model_name": "DescriptionStyleModel",
            "_view_count": null,
            "_view_module": "@jupyter-widgets/base",
            "_view_module_version": "1.2.0",
            "_view_name": "StyleView",
            "description_width": ""
          }
        },
        "d05ae9f4b0a84c55bb6c50ac149eec67": {
          "model_module": "@jupyter-widgets/base",
          "model_name": "LayoutModel",
          "model_module_version": "1.2.0",
          "state": {
            "_model_module": "@jupyter-widgets/base",
            "_model_module_version": "1.2.0",
            "_model_name": "LayoutModel",
            "_view_count": null,
            "_view_module": "@jupyter-widgets/base",
            "_view_module_version": "1.2.0",
            "_view_name": "LayoutView",
            "align_content": null,
            "align_items": null,
            "align_self": null,
            "border": null,
            "bottom": null,
            "display": null,
            "flex": null,
            "flex_flow": null,
            "grid_area": null,
            "grid_auto_columns": null,
            "grid_auto_flow": null,
            "grid_auto_rows": null,
            "grid_column": null,
            "grid_gap": null,
            "grid_row": null,
            "grid_template_areas": null,
            "grid_template_columns": null,
            "grid_template_rows": null,
            "height": null,
            "justify_content": null,
            "justify_items": null,
            "left": null,
            "margin": null,
            "max_height": null,
            "max_width": null,
            "min_height": null,
            "min_width": null,
            "object_fit": null,
            "object_position": null,
            "order": null,
            "overflow": null,
            "overflow_x": null,
            "overflow_y": null,
            "padding": null,
            "right": null,
            "top": null,
            "visibility": null,
            "width": null
          }
        },
        "cbc0a4db288b49ec99102c794acc2a27": {
          "model_module": "@jupyter-widgets/controls",
          "model_name": "ProgressStyleModel",
          "model_module_version": "1.5.0",
          "state": {
            "_model_module": "@jupyter-widgets/controls",
            "_model_module_version": "1.5.0",
            "_model_name": "ProgressStyleModel",
            "_view_count": null,
            "_view_module": "@jupyter-widgets/base",
            "_view_module_version": "1.2.0",
            "_view_name": "StyleView",
            "bar_color": null,
            "description_width": ""
          }
        },
        "d4b9b0eeb3d14b4b8969b1458c205ff8": {
          "model_module": "@jupyter-widgets/base",
          "model_name": "LayoutModel",
          "model_module_version": "1.2.0",
          "state": {
            "_model_module": "@jupyter-widgets/base",
            "_model_module_version": "1.2.0",
            "_model_name": "LayoutModel",
            "_view_count": null,
            "_view_module": "@jupyter-widgets/base",
            "_view_module_version": "1.2.0",
            "_view_name": "LayoutView",
            "align_content": null,
            "align_items": null,
            "align_self": null,
            "border": null,
            "bottom": null,
            "display": null,
            "flex": null,
            "flex_flow": null,
            "grid_area": null,
            "grid_auto_columns": null,
            "grid_auto_flow": null,
            "grid_auto_rows": null,
            "grid_column": null,
            "grid_gap": null,
            "grid_row": null,
            "grid_template_areas": null,
            "grid_template_columns": null,
            "grid_template_rows": null,
            "height": null,
            "justify_content": null,
            "justify_items": null,
            "left": null,
            "margin": null,
            "max_height": null,
            "max_width": null,
            "min_height": null,
            "min_width": null,
            "object_fit": null,
            "object_position": null,
            "order": null,
            "overflow": null,
            "overflow_x": null,
            "overflow_y": null,
            "padding": null,
            "right": null,
            "top": null,
            "visibility": null,
            "width": null
          }
        },
        "1826babdce8944e9b5a031c9a283351a": {
          "model_module": "@jupyter-widgets/controls",
          "model_name": "DescriptionStyleModel",
          "model_module_version": "1.5.0",
          "state": {
            "_model_module": "@jupyter-widgets/controls",
            "_model_module_version": "1.5.0",
            "_model_name": "DescriptionStyleModel",
            "_view_count": null,
            "_view_module": "@jupyter-widgets/base",
            "_view_module_version": "1.2.0",
            "_view_name": "StyleView",
            "description_width": ""
          }
        },
        "904e03376f8e4dfe9f38c8667cac2972": {
          "model_module": "@jupyter-widgets/controls",
          "model_name": "HBoxModel",
          "model_module_version": "1.5.0",
          "state": {
            "_dom_classes": [],
            "_model_module": "@jupyter-widgets/controls",
            "_model_module_version": "1.5.0",
            "_model_name": "HBoxModel",
            "_view_count": null,
            "_view_module": "@jupyter-widgets/controls",
            "_view_module_version": "1.5.0",
            "_view_name": "HBoxView",
            "box_style": "",
            "children": [
              "IPY_MODEL_3741ac380dab46188f6905a575ed4d27",
              "IPY_MODEL_01fd1205e38549d6a63e9ef8bb4d4a19",
              "IPY_MODEL_b214550df3694898b68a08286fe969d5"
            ],
            "layout": "IPY_MODEL_bb36a7bc13ab46839e66ff931cdd3897"
          }
        },
        "3741ac380dab46188f6905a575ed4d27": {
          "model_module": "@jupyter-widgets/controls",
          "model_name": "HTMLModel",
          "model_module_version": "1.5.0",
          "state": {
            "_dom_classes": [],
            "_model_module": "@jupyter-widgets/controls",
            "_model_module_version": "1.5.0",
            "_model_name": "HTMLModel",
            "_view_count": null,
            "_view_module": "@jupyter-widgets/controls",
            "_view_module_version": "1.5.0",
            "_view_name": "HTMLView",
            "description": "",
            "description_tooltip": null,
            "layout": "IPY_MODEL_15651030e5734b9e8d7548fdd864e5a1",
            "placeholder": "​",
            "style": "IPY_MODEL_159cb60fdc0e4bb3a0b297380a1b02b5",
            "value": "model-00002-of-00004.safetensors: 100%"
          }
        },
        "01fd1205e38549d6a63e9ef8bb4d4a19": {
          "model_module": "@jupyter-widgets/controls",
          "model_name": "FloatProgressModel",
          "model_module_version": "1.5.0",
          "state": {
            "_dom_classes": [],
            "_model_module": "@jupyter-widgets/controls",
            "_model_module_version": "1.5.0",
            "_model_name": "FloatProgressModel",
            "_view_count": null,
            "_view_module": "@jupyter-widgets/controls",
            "_view_module_version": "1.5.0",
            "_view_name": "ProgressView",
            "bar_style": "success",
            "description": "",
            "description_tooltip": null,
            "layout": "IPY_MODEL_518e9f0aa7154250a67075f15d2e99b7",
            "max": 4999802720,
            "min": 0,
            "orientation": "horizontal",
            "style": "IPY_MODEL_e996ba6cb09a481a9de9f2a8fc52a0e2",
            "value": 4999802720
          }
        },
        "b214550df3694898b68a08286fe969d5": {
          "model_module": "@jupyter-widgets/controls",
          "model_name": "HTMLModel",
          "model_module_version": "1.5.0",
          "state": {
            "_dom_classes": [],
            "_model_module": "@jupyter-widgets/controls",
            "_model_module_version": "1.5.0",
            "_model_name": "HTMLModel",
            "_view_count": null,
            "_view_module": "@jupyter-widgets/controls",
            "_view_module_version": "1.5.0",
            "_view_name": "HTMLView",
            "description": "",
            "description_tooltip": null,
            "layout": "IPY_MODEL_75429c3433924b03a8595e66d1c3e950",
            "placeholder": "​",
            "style": "IPY_MODEL_25996c0d6ee94d34b5cfe3d2c5d50d22",
            "value": " 5.00G/5.00G [00:44&lt;00:00, 192MB/s]"
          }
        },
        "bb36a7bc13ab46839e66ff931cdd3897": {
          "model_module": "@jupyter-widgets/base",
          "model_name": "LayoutModel",
          "model_module_version": "1.2.0",
          "state": {
            "_model_module": "@jupyter-widgets/base",
            "_model_module_version": "1.2.0",
            "_model_name": "LayoutModel",
            "_view_count": null,
            "_view_module": "@jupyter-widgets/base",
            "_view_module_version": "1.2.0",
            "_view_name": "LayoutView",
            "align_content": null,
            "align_items": null,
            "align_self": null,
            "border": null,
            "bottom": null,
            "display": null,
            "flex": null,
            "flex_flow": null,
            "grid_area": null,
            "grid_auto_columns": null,
            "grid_auto_flow": null,
            "grid_auto_rows": null,
            "grid_column": null,
            "grid_gap": null,
            "grid_row": null,
            "grid_template_areas": null,
            "grid_template_columns": null,
            "grid_template_rows": null,
            "height": null,
            "justify_content": null,
            "justify_items": null,
            "left": null,
            "margin": null,
            "max_height": null,
            "max_width": null,
            "min_height": null,
            "min_width": null,
            "object_fit": null,
            "object_position": null,
            "order": null,
            "overflow": null,
            "overflow_x": null,
            "overflow_y": null,
            "padding": null,
            "right": null,
            "top": null,
            "visibility": null,
            "width": null
          }
        },
        "15651030e5734b9e8d7548fdd864e5a1": {
          "model_module": "@jupyter-widgets/base",
          "model_name": "LayoutModel",
          "model_module_version": "1.2.0",
          "state": {
            "_model_module": "@jupyter-widgets/base",
            "_model_module_version": "1.2.0",
            "_model_name": "LayoutModel",
            "_view_count": null,
            "_view_module": "@jupyter-widgets/base",
            "_view_module_version": "1.2.0",
            "_view_name": "LayoutView",
            "align_content": null,
            "align_items": null,
            "align_self": null,
            "border": null,
            "bottom": null,
            "display": null,
            "flex": null,
            "flex_flow": null,
            "grid_area": null,
            "grid_auto_columns": null,
            "grid_auto_flow": null,
            "grid_auto_rows": null,
            "grid_column": null,
            "grid_gap": null,
            "grid_row": null,
            "grid_template_areas": null,
            "grid_template_columns": null,
            "grid_template_rows": null,
            "height": null,
            "justify_content": null,
            "justify_items": null,
            "left": null,
            "margin": null,
            "max_height": null,
            "max_width": null,
            "min_height": null,
            "min_width": null,
            "object_fit": null,
            "object_position": null,
            "order": null,
            "overflow": null,
            "overflow_x": null,
            "overflow_y": null,
            "padding": null,
            "right": null,
            "top": null,
            "visibility": null,
            "width": null
          }
        },
        "159cb60fdc0e4bb3a0b297380a1b02b5": {
          "model_module": "@jupyter-widgets/controls",
          "model_name": "DescriptionStyleModel",
          "model_module_version": "1.5.0",
          "state": {
            "_model_module": "@jupyter-widgets/controls",
            "_model_module_version": "1.5.0",
            "_model_name": "DescriptionStyleModel",
            "_view_count": null,
            "_view_module": "@jupyter-widgets/base",
            "_view_module_version": "1.2.0",
            "_view_name": "StyleView",
            "description_width": ""
          }
        },
        "518e9f0aa7154250a67075f15d2e99b7": {
          "model_module": "@jupyter-widgets/base",
          "model_name": "LayoutModel",
          "model_module_version": "1.2.0",
          "state": {
            "_model_module": "@jupyter-widgets/base",
            "_model_module_version": "1.2.0",
            "_model_name": "LayoutModel",
            "_view_count": null,
            "_view_module": "@jupyter-widgets/base",
            "_view_module_version": "1.2.0",
            "_view_name": "LayoutView",
            "align_content": null,
            "align_items": null,
            "align_self": null,
            "border": null,
            "bottom": null,
            "display": null,
            "flex": null,
            "flex_flow": null,
            "grid_area": null,
            "grid_auto_columns": null,
            "grid_auto_flow": null,
            "grid_auto_rows": null,
            "grid_column": null,
            "grid_gap": null,
            "grid_row": null,
            "grid_template_areas": null,
            "grid_template_columns": null,
            "grid_template_rows": null,
            "height": null,
            "justify_content": null,
            "justify_items": null,
            "left": null,
            "margin": null,
            "max_height": null,
            "max_width": null,
            "min_height": null,
            "min_width": null,
            "object_fit": null,
            "object_position": null,
            "order": null,
            "overflow": null,
            "overflow_x": null,
            "overflow_y": null,
            "padding": null,
            "right": null,
            "top": null,
            "visibility": null,
            "width": null
          }
        },
        "e996ba6cb09a481a9de9f2a8fc52a0e2": {
          "model_module": "@jupyter-widgets/controls",
          "model_name": "ProgressStyleModel",
          "model_module_version": "1.5.0",
          "state": {
            "_model_module": "@jupyter-widgets/controls",
            "_model_module_version": "1.5.0",
            "_model_name": "ProgressStyleModel",
            "_view_count": null,
            "_view_module": "@jupyter-widgets/base",
            "_view_module_version": "1.2.0",
            "_view_name": "StyleView",
            "bar_color": null,
            "description_width": ""
          }
        },
        "75429c3433924b03a8595e66d1c3e950": {
          "model_module": "@jupyter-widgets/base",
          "model_name": "LayoutModel",
          "model_module_version": "1.2.0",
          "state": {
            "_model_module": "@jupyter-widgets/base",
            "_model_module_version": "1.2.0",
            "_model_name": "LayoutModel",
            "_view_count": null,
            "_view_module": "@jupyter-widgets/base",
            "_view_module_version": "1.2.0",
            "_view_name": "LayoutView",
            "align_content": null,
            "align_items": null,
            "align_self": null,
            "border": null,
            "bottom": null,
            "display": null,
            "flex": null,
            "flex_flow": null,
            "grid_area": null,
            "grid_auto_columns": null,
            "grid_auto_flow": null,
            "grid_auto_rows": null,
            "grid_column": null,
            "grid_gap": null,
            "grid_row": null,
            "grid_template_areas": null,
            "grid_template_columns": null,
            "grid_template_rows": null,
            "height": null,
            "justify_content": null,
            "justify_items": null,
            "left": null,
            "margin": null,
            "max_height": null,
            "max_width": null,
            "min_height": null,
            "min_width": null,
            "object_fit": null,
            "object_position": null,
            "order": null,
            "overflow": null,
            "overflow_x": null,
            "overflow_y": null,
            "padding": null,
            "right": null,
            "top": null,
            "visibility": null,
            "width": null
          }
        },
        "25996c0d6ee94d34b5cfe3d2c5d50d22": {
          "model_module": "@jupyter-widgets/controls",
          "model_name": "DescriptionStyleModel",
          "model_module_version": "1.5.0",
          "state": {
            "_model_module": "@jupyter-widgets/controls",
            "_model_module_version": "1.5.0",
            "_model_name": "DescriptionStyleModel",
            "_view_count": null,
            "_view_module": "@jupyter-widgets/base",
            "_view_module_version": "1.2.0",
            "_view_name": "StyleView",
            "description_width": ""
          }
        },
        "0fac9cef8dd54c988d3632909484bad7": {
          "model_module": "@jupyter-widgets/controls",
          "model_name": "HBoxModel",
          "model_module_version": "1.5.0",
          "state": {
            "_dom_classes": [],
            "_model_module": "@jupyter-widgets/controls",
            "_model_module_version": "1.5.0",
            "_model_name": "HBoxModel",
            "_view_count": null,
            "_view_module": "@jupyter-widgets/controls",
            "_view_module_version": "1.5.0",
            "_view_name": "HBoxView",
            "box_style": "",
            "children": [
              "IPY_MODEL_b4e95a88e70f4bdbbab39d9d165381e2",
              "IPY_MODEL_bc94ea464bd247e796c7c81a50472356",
              "IPY_MODEL_a0a71702096042f684bd2ea08a37adff"
            ],
            "layout": "IPY_MODEL_feb087b3b3b54c79a9647813369a847d"
          }
        },
        "b4e95a88e70f4bdbbab39d9d165381e2": {
          "model_module": "@jupyter-widgets/controls",
          "model_name": "HTMLModel",
          "model_module_version": "1.5.0",
          "state": {
            "_dom_classes": [],
            "_model_module": "@jupyter-widgets/controls",
            "_model_module_version": "1.5.0",
            "_model_name": "HTMLModel",
            "_view_count": null,
            "_view_module": "@jupyter-widgets/controls",
            "_view_module_version": "1.5.0",
            "_view_name": "HTMLView",
            "description": "",
            "description_tooltip": null,
            "layout": "IPY_MODEL_ec15631f051347d0bfff4ac90106741a",
            "placeholder": "​",
            "style": "IPY_MODEL_15efb7b95f064fa7aebfca25849e0bcc",
            "value": "model-00003-of-00004.safetensors: 100%"
          }
        },
        "bc94ea464bd247e796c7c81a50472356": {
          "model_module": "@jupyter-widgets/controls",
          "model_name": "FloatProgressModel",
          "model_module_version": "1.5.0",
          "state": {
            "_dom_classes": [],
            "_model_module": "@jupyter-widgets/controls",
            "_model_module_version": "1.5.0",
            "_model_name": "FloatProgressModel",
            "_view_count": null,
            "_view_module": "@jupyter-widgets/controls",
            "_view_module_version": "1.5.0",
            "_view_name": "ProgressView",
            "bar_style": "success",
            "description": "",
            "description_tooltip": null,
            "layout": "IPY_MODEL_6e1d15b9a805404cac692cb75c8bc76e",
            "max": 4915916176,
            "min": 0,
            "orientation": "horizontal",
            "style": "IPY_MODEL_1eebd5f72f4b4ac5bceb703aed16f5b0",
            "value": 4915916176
          }
        },
        "a0a71702096042f684bd2ea08a37adff": {
          "model_module": "@jupyter-widgets/controls",
          "model_name": "HTMLModel",
          "model_module_version": "1.5.0",
          "state": {
            "_dom_classes": [],
            "_model_module": "@jupyter-widgets/controls",
            "_model_module_version": "1.5.0",
            "_model_name": "HTMLModel",
            "_view_count": null,
            "_view_module": "@jupyter-widgets/controls",
            "_view_module_version": "1.5.0",
            "_view_name": "HTMLView",
            "description": "",
            "description_tooltip": null,
            "layout": "IPY_MODEL_dc5ac9b9930445e59b8d79ea58ce0454",
            "placeholder": "​",
            "style": "IPY_MODEL_cac5e897cf4f4191a663649674f13292",
            "value": " 4.92G/4.92G [00:42&lt;00:00, 106MB/s]"
          }
        },
        "feb087b3b3b54c79a9647813369a847d": {
          "model_module": "@jupyter-widgets/base",
          "model_name": "LayoutModel",
          "model_module_version": "1.2.0",
          "state": {
            "_model_module": "@jupyter-widgets/base",
            "_model_module_version": "1.2.0",
            "_model_name": "LayoutModel",
            "_view_count": null,
            "_view_module": "@jupyter-widgets/base",
            "_view_module_version": "1.2.0",
            "_view_name": "LayoutView",
            "align_content": null,
            "align_items": null,
            "align_self": null,
            "border": null,
            "bottom": null,
            "display": null,
            "flex": null,
            "flex_flow": null,
            "grid_area": null,
            "grid_auto_columns": null,
            "grid_auto_flow": null,
            "grid_auto_rows": null,
            "grid_column": null,
            "grid_gap": null,
            "grid_row": null,
            "grid_template_areas": null,
            "grid_template_columns": null,
            "grid_template_rows": null,
            "height": null,
            "justify_content": null,
            "justify_items": null,
            "left": null,
            "margin": null,
            "max_height": null,
            "max_width": null,
            "min_height": null,
            "min_width": null,
            "object_fit": null,
            "object_position": null,
            "order": null,
            "overflow": null,
            "overflow_x": null,
            "overflow_y": null,
            "padding": null,
            "right": null,
            "top": null,
            "visibility": null,
            "width": null
          }
        },
        "ec15631f051347d0bfff4ac90106741a": {
          "model_module": "@jupyter-widgets/base",
          "model_name": "LayoutModel",
          "model_module_version": "1.2.0",
          "state": {
            "_model_module": "@jupyter-widgets/base",
            "_model_module_version": "1.2.0",
            "_model_name": "LayoutModel",
            "_view_count": null,
            "_view_module": "@jupyter-widgets/base",
            "_view_module_version": "1.2.0",
            "_view_name": "LayoutView",
            "align_content": null,
            "align_items": null,
            "align_self": null,
            "border": null,
            "bottom": null,
            "display": null,
            "flex": null,
            "flex_flow": null,
            "grid_area": null,
            "grid_auto_columns": null,
            "grid_auto_flow": null,
            "grid_auto_rows": null,
            "grid_column": null,
            "grid_gap": null,
            "grid_row": null,
            "grid_template_areas": null,
            "grid_template_columns": null,
            "grid_template_rows": null,
            "height": null,
            "justify_content": null,
            "justify_items": null,
            "left": null,
            "margin": null,
            "max_height": null,
            "max_width": null,
            "min_height": null,
            "min_width": null,
            "object_fit": null,
            "object_position": null,
            "order": null,
            "overflow": null,
            "overflow_x": null,
            "overflow_y": null,
            "padding": null,
            "right": null,
            "top": null,
            "visibility": null,
            "width": null
          }
        },
        "15efb7b95f064fa7aebfca25849e0bcc": {
          "model_module": "@jupyter-widgets/controls",
          "model_name": "DescriptionStyleModel",
          "model_module_version": "1.5.0",
          "state": {
            "_model_module": "@jupyter-widgets/controls",
            "_model_module_version": "1.5.0",
            "_model_name": "DescriptionStyleModel",
            "_view_count": null,
            "_view_module": "@jupyter-widgets/base",
            "_view_module_version": "1.2.0",
            "_view_name": "StyleView",
            "description_width": ""
          }
        },
        "6e1d15b9a805404cac692cb75c8bc76e": {
          "model_module": "@jupyter-widgets/base",
          "model_name": "LayoutModel",
          "model_module_version": "1.2.0",
          "state": {
            "_model_module": "@jupyter-widgets/base",
            "_model_module_version": "1.2.0",
            "_model_name": "LayoutModel",
            "_view_count": null,
            "_view_module": "@jupyter-widgets/base",
            "_view_module_version": "1.2.0",
            "_view_name": "LayoutView",
            "align_content": null,
            "align_items": null,
            "align_self": null,
            "border": null,
            "bottom": null,
            "display": null,
            "flex": null,
            "flex_flow": null,
            "grid_area": null,
            "grid_auto_columns": null,
            "grid_auto_flow": null,
            "grid_auto_rows": null,
            "grid_column": null,
            "grid_gap": null,
            "grid_row": null,
            "grid_template_areas": null,
            "grid_template_columns": null,
            "grid_template_rows": null,
            "height": null,
            "justify_content": null,
            "justify_items": null,
            "left": null,
            "margin": null,
            "max_height": null,
            "max_width": null,
            "min_height": null,
            "min_width": null,
            "object_fit": null,
            "object_position": null,
            "order": null,
            "overflow": null,
            "overflow_x": null,
            "overflow_y": null,
            "padding": null,
            "right": null,
            "top": null,
            "visibility": null,
            "width": null
          }
        },
        "1eebd5f72f4b4ac5bceb703aed16f5b0": {
          "model_module": "@jupyter-widgets/controls",
          "model_name": "ProgressStyleModel",
          "model_module_version": "1.5.0",
          "state": {
            "_model_module": "@jupyter-widgets/controls",
            "_model_module_version": "1.5.0",
            "_model_name": "ProgressStyleModel",
            "_view_count": null,
            "_view_module": "@jupyter-widgets/base",
            "_view_module_version": "1.2.0",
            "_view_name": "StyleView",
            "bar_color": null,
            "description_width": ""
          }
        },
        "dc5ac9b9930445e59b8d79ea58ce0454": {
          "model_module": "@jupyter-widgets/base",
          "model_name": "LayoutModel",
          "model_module_version": "1.2.0",
          "state": {
            "_model_module": "@jupyter-widgets/base",
            "_model_module_version": "1.2.0",
            "_model_name": "LayoutModel",
            "_view_count": null,
            "_view_module": "@jupyter-widgets/base",
            "_view_module_version": "1.2.0",
            "_view_name": "LayoutView",
            "align_content": null,
            "align_items": null,
            "align_self": null,
            "border": null,
            "bottom": null,
            "display": null,
            "flex": null,
            "flex_flow": null,
            "grid_area": null,
            "grid_auto_columns": null,
            "grid_auto_flow": null,
            "grid_auto_rows": null,
            "grid_column": null,
            "grid_gap": null,
            "grid_row": null,
            "grid_template_areas": null,
            "grid_template_columns": null,
            "grid_template_rows": null,
            "height": null,
            "justify_content": null,
            "justify_items": null,
            "left": null,
            "margin": null,
            "max_height": null,
            "max_width": null,
            "min_height": null,
            "min_width": null,
            "object_fit": null,
            "object_position": null,
            "order": null,
            "overflow": null,
            "overflow_x": null,
            "overflow_y": null,
            "padding": null,
            "right": null,
            "top": null,
            "visibility": null,
            "width": null
          }
        },
        "cac5e897cf4f4191a663649674f13292": {
          "model_module": "@jupyter-widgets/controls",
          "model_name": "DescriptionStyleModel",
          "model_module_version": "1.5.0",
          "state": {
            "_model_module": "@jupyter-widgets/controls",
            "_model_module_version": "1.5.0",
            "_model_name": "DescriptionStyleModel",
            "_view_count": null,
            "_view_module": "@jupyter-widgets/base",
            "_view_module_version": "1.2.0",
            "_view_name": "StyleView",
            "description_width": ""
          }
        },
        "52da126705024fefa938807907def296": {
          "model_module": "@jupyter-widgets/controls",
          "model_name": "HBoxModel",
          "model_module_version": "1.5.0",
          "state": {
            "_dom_classes": [],
            "_model_module": "@jupyter-widgets/controls",
            "_model_module_version": "1.5.0",
            "_model_name": "HBoxModel",
            "_view_count": null,
            "_view_module": "@jupyter-widgets/controls",
            "_view_module_version": "1.5.0",
            "_view_name": "HBoxView",
            "box_style": "",
            "children": [
              "IPY_MODEL_35d1f44e6ec548959c74dd5fe08d9853",
              "IPY_MODEL_cc22cc70b16d48b2bc97d0a946962d9a",
              "IPY_MODEL_8c80a7048c1242f3be020ea08ee2460f"
            ],
            "layout": "IPY_MODEL_9077be66cb764ff9974d48f7d519a18d"
          }
        },
        "35d1f44e6ec548959c74dd5fe08d9853": {
          "model_module": "@jupyter-widgets/controls",
          "model_name": "HTMLModel",
          "model_module_version": "1.5.0",
          "state": {
            "_dom_classes": [],
            "_model_module": "@jupyter-widgets/controls",
            "_model_module_version": "1.5.0",
            "_model_name": "HTMLModel",
            "_view_count": null,
            "_view_module": "@jupyter-widgets/controls",
            "_view_module_version": "1.5.0",
            "_view_name": "HTMLView",
            "description": "",
            "description_tooltip": null,
            "layout": "IPY_MODEL_66f3331ba37645c2869986fc6e216192",
            "placeholder": "​",
            "style": "IPY_MODEL_306ec63fec064d81ae3440af3fb4bcb1",
            "value": "model-00004-of-00004.safetensors: 100%"
          }
        },
        "cc22cc70b16d48b2bc97d0a946962d9a": {
          "model_module": "@jupyter-widgets/controls",
          "model_name": "FloatProgressModel",
          "model_module_version": "1.5.0",
          "state": {
            "_dom_classes": [],
            "_model_module": "@jupyter-widgets/controls",
            "_model_module_version": "1.5.0",
            "_model_name": "FloatProgressModel",
            "_view_count": null,
            "_view_module": "@jupyter-widgets/controls",
            "_view_module_version": "1.5.0",
            "_view_name": "ProgressView",
            "bar_style": "success",
            "description": "",
            "description_tooltip": null,
            "layout": "IPY_MODEL_8bb6f55cd9b64bcfab6d85d8767abc96",
            "max": 1168138808,
            "min": 0,
            "orientation": "horizontal",
            "style": "IPY_MODEL_28c7679df53748199f0ea88285dfc671",
            "value": 1168138808
          }
        },
        "8c80a7048c1242f3be020ea08ee2460f": {
          "model_module": "@jupyter-widgets/controls",
          "model_name": "HTMLModel",
          "model_module_version": "1.5.0",
          "state": {
            "_dom_classes": [],
            "_model_module": "@jupyter-widgets/controls",
            "_model_module_version": "1.5.0",
            "_model_name": "HTMLModel",
            "_view_count": null,
            "_view_module": "@jupyter-widgets/controls",
            "_view_module_version": "1.5.0",
            "_view_name": "HTMLView",
            "description": "",
            "description_tooltip": null,
            "layout": "IPY_MODEL_10d13e316b364c8498c880bf656010d0",
            "placeholder": "​",
            "style": "IPY_MODEL_1d64d374e13945dcbf7994a152f40c27",
            "value": " 1.17G/1.17G [00:08&lt;00:00, 247MB/s]"
          }
        },
        "9077be66cb764ff9974d48f7d519a18d": {
          "model_module": "@jupyter-widgets/base",
          "model_name": "LayoutModel",
          "model_module_version": "1.2.0",
          "state": {
            "_model_module": "@jupyter-widgets/base",
            "_model_module_version": "1.2.0",
            "_model_name": "LayoutModel",
            "_view_count": null,
            "_view_module": "@jupyter-widgets/base",
            "_view_module_version": "1.2.0",
            "_view_name": "LayoutView",
            "align_content": null,
            "align_items": null,
            "align_self": null,
            "border": null,
            "bottom": null,
            "display": null,
            "flex": null,
            "flex_flow": null,
            "grid_area": null,
            "grid_auto_columns": null,
            "grid_auto_flow": null,
            "grid_auto_rows": null,
            "grid_column": null,
            "grid_gap": null,
            "grid_row": null,
            "grid_template_areas": null,
            "grid_template_columns": null,
            "grid_template_rows": null,
            "height": null,
            "justify_content": null,
            "justify_items": null,
            "left": null,
            "margin": null,
            "max_height": null,
            "max_width": null,
            "min_height": null,
            "min_width": null,
            "object_fit": null,
            "object_position": null,
            "order": null,
            "overflow": null,
            "overflow_x": null,
            "overflow_y": null,
            "padding": null,
            "right": null,
            "top": null,
            "visibility": null,
            "width": null
          }
        },
        "66f3331ba37645c2869986fc6e216192": {
          "model_module": "@jupyter-widgets/base",
          "model_name": "LayoutModel",
          "model_module_version": "1.2.0",
          "state": {
            "_model_module": "@jupyter-widgets/base",
            "_model_module_version": "1.2.0",
            "_model_name": "LayoutModel",
            "_view_count": null,
            "_view_module": "@jupyter-widgets/base",
            "_view_module_version": "1.2.0",
            "_view_name": "LayoutView",
            "align_content": null,
            "align_items": null,
            "align_self": null,
            "border": null,
            "bottom": null,
            "display": null,
            "flex": null,
            "flex_flow": null,
            "grid_area": null,
            "grid_auto_columns": null,
            "grid_auto_flow": null,
            "grid_auto_rows": null,
            "grid_column": null,
            "grid_gap": null,
            "grid_row": null,
            "grid_template_areas": null,
            "grid_template_columns": null,
            "grid_template_rows": null,
            "height": null,
            "justify_content": null,
            "justify_items": null,
            "left": null,
            "margin": null,
            "max_height": null,
            "max_width": null,
            "min_height": null,
            "min_width": null,
            "object_fit": null,
            "object_position": null,
            "order": null,
            "overflow": null,
            "overflow_x": null,
            "overflow_y": null,
            "padding": null,
            "right": null,
            "top": null,
            "visibility": null,
            "width": null
          }
        },
        "306ec63fec064d81ae3440af3fb4bcb1": {
          "model_module": "@jupyter-widgets/controls",
          "model_name": "DescriptionStyleModel",
          "model_module_version": "1.5.0",
          "state": {
            "_model_module": "@jupyter-widgets/controls",
            "_model_module_version": "1.5.0",
            "_model_name": "DescriptionStyleModel",
            "_view_count": null,
            "_view_module": "@jupyter-widgets/base",
            "_view_module_version": "1.2.0",
            "_view_name": "StyleView",
            "description_width": ""
          }
        },
        "8bb6f55cd9b64bcfab6d85d8767abc96": {
          "model_module": "@jupyter-widgets/base",
          "model_name": "LayoutModel",
          "model_module_version": "1.2.0",
          "state": {
            "_model_module": "@jupyter-widgets/base",
            "_model_module_version": "1.2.0",
            "_model_name": "LayoutModel",
            "_view_count": null,
            "_view_module": "@jupyter-widgets/base",
            "_view_module_version": "1.2.0",
            "_view_name": "LayoutView",
            "align_content": null,
            "align_items": null,
            "align_self": null,
            "border": null,
            "bottom": null,
            "display": null,
            "flex": null,
            "flex_flow": null,
            "grid_area": null,
            "grid_auto_columns": null,
            "grid_auto_flow": null,
            "grid_auto_rows": null,
            "grid_column": null,
            "grid_gap": null,
            "grid_row": null,
            "grid_template_areas": null,
            "grid_template_columns": null,
            "grid_template_rows": null,
            "height": null,
            "justify_content": null,
            "justify_items": null,
            "left": null,
            "margin": null,
            "max_height": null,
            "max_width": null,
            "min_height": null,
            "min_width": null,
            "object_fit": null,
            "object_position": null,
            "order": null,
            "overflow": null,
            "overflow_x": null,
            "overflow_y": null,
            "padding": null,
            "right": null,
            "top": null,
            "visibility": null,
            "width": null
          }
        },
        "28c7679df53748199f0ea88285dfc671": {
          "model_module": "@jupyter-widgets/controls",
          "model_name": "ProgressStyleModel",
          "model_module_version": "1.5.0",
          "state": {
            "_model_module": "@jupyter-widgets/controls",
            "_model_module_version": "1.5.0",
            "_model_name": "ProgressStyleModel",
            "_view_count": null,
            "_view_module": "@jupyter-widgets/base",
            "_view_module_version": "1.2.0",
            "_view_name": "StyleView",
            "bar_color": null,
            "description_width": ""
          }
        },
        "10d13e316b364c8498c880bf656010d0": {
          "model_module": "@jupyter-widgets/base",
          "model_name": "LayoutModel",
          "model_module_version": "1.2.0",
          "state": {
            "_model_module": "@jupyter-widgets/base",
            "_model_module_version": "1.2.0",
            "_model_name": "LayoutModel",
            "_view_count": null,
            "_view_module": "@jupyter-widgets/base",
            "_view_module_version": "1.2.0",
            "_view_name": "LayoutView",
            "align_content": null,
            "align_items": null,
            "align_self": null,
            "border": null,
            "bottom": null,
            "display": null,
            "flex": null,
            "flex_flow": null,
            "grid_area": null,
            "grid_auto_columns": null,
            "grid_auto_flow": null,
            "grid_auto_rows": null,
            "grid_column": null,
            "grid_gap": null,
            "grid_row": null,
            "grid_template_areas": null,
            "grid_template_columns": null,
            "grid_template_rows": null,
            "height": null,
            "justify_content": null,
            "justify_items": null,
            "left": null,
            "margin": null,
            "max_height": null,
            "max_width": null,
            "min_height": null,
            "min_width": null,
            "object_fit": null,
            "object_position": null,
            "order": null,
            "overflow": null,
            "overflow_x": null,
            "overflow_y": null,
            "padding": null,
            "right": null,
            "top": null,
            "visibility": null,
            "width": null
          }
        },
        "1d64d374e13945dcbf7994a152f40c27": {
          "model_module": "@jupyter-widgets/controls",
          "model_name": "DescriptionStyleModel",
          "model_module_version": "1.5.0",
          "state": {
            "_model_module": "@jupyter-widgets/controls",
            "_model_module_version": "1.5.0",
            "_model_name": "DescriptionStyleModel",
            "_view_count": null,
            "_view_module": "@jupyter-widgets/base",
            "_view_module_version": "1.2.0",
            "_view_name": "StyleView",
            "description_width": ""
          }
        },
        "ff6f9c50624c4cca8e569cc2f67b03d4": {
          "model_module": "@jupyter-widgets/controls",
          "model_name": "HBoxModel",
          "model_module_version": "1.5.0",
          "state": {
            "_dom_classes": [],
            "_model_module": "@jupyter-widgets/controls",
            "_model_module_version": "1.5.0",
            "_model_name": "HBoxModel",
            "_view_count": null,
            "_view_module": "@jupyter-widgets/controls",
            "_view_module_version": "1.5.0",
            "_view_name": "HBoxView",
            "box_style": "",
            "children": [
              "IPY_MODEL_60881e47d5934525a7bc26d109cd114c",
              "IPY_MODEL_788b04f50db84da381b07f772c71b7f6",
              "IPY_MODEL_fd1c4978b9dd4ca49d1f107fdc9acad1"
            ],
            "layout": "IPY_MODEL_53fb31d250f041899a35a6354137e1f0"
          }
        },
        "60881e47d5934525a7bc26d109cd114c": {
          "model_module": "@jupyter-widgets/controls",
          "model_name": "HTMLModel",
          "model_module_version": "1.5.0",
          "state": {
            "_dom_classes": [],
            "_model_module": "@jupyter-widgets/controls",
            "_model_module_version": "1.5.0",
            "_model_name": "HTMLModel",
            "_view_count": null,
            "_view_module": "@jupyter-widgets/controls",
            "_view_module_version": "1.5.0",
            "_view_name": "HTMLView",
            "description": "",
            "description_tooltip": null,
            "layout": "IPY_MODEL_caf71518239545ebaefb845d8ffb321c",
            "placeholder": "​",
            "style": "IPY_MODEL_53f8b27e9a2b49da9f1353cb84d3882a",
            "value": "Loading checkpoint shards: 100%"
          }
        },
        "788b04f50db84da381b07f772c71b7f6": {
          "model_module": "@jupyter-widgets/controls",
          "model_name": "FloatProgressModel",
          "model_module_version": "1.5.0",
          "state": {
            "_dom_classes": [],
            "_model_module": "@jupyter-widgets/controls",
            "_model_module_version": "1.5.0",
            "_model_name": "FloatProgressModel",
            "_view_count": null,
            "_view_module": "@jupyter-widgets/controls",
            "_view_module_version": "1.5.0",
            "_view_name": "ProgressView",
            "bar_style": "success",
            "description": "",
            "description_tooltip": null,
            "layout": "IPY_MODEL_21826a66e9544f29816c2ecc4d5f9e3a",
            "max": 4,
            "min": 0,
            "orientation": "horizontal",
            "style": "IPY_MODEL_945ad4d99322428da816ea20fee2d3ea",
            "value": 4
          }
        },
        "fd1c4978b9dd4ca49d1f107fdc9acad1": {
          "model_module": "@jupyter-widgets/controls",
          "model_name": "HTMLModel",
          "model_module_version": "1.5.0",
          "state": {
            "_dom_classes": [],
            "_model_module": "@jupyter-widgets/controls",
            "_model_module_version": "1.5.0",
            "_model_name": "HTMLModel",
            "_view_count": null,
            "_view_module": "@jupyter-widgets/controls",
            "_view_module_version": "1.5.0",
            "_view_name": "HTMLView",
            "description": "",
            "description_tooltip": null,
            "layout": "IPY_MODEL_5592bf45271a48378a2a3e6f26bc73e5",
            "placeholder": "​",
            "style": "IPY_MODEL_44335b63dfea4968b84fa5802cefb8be",
            "value": " 4/4 [01:16&lt;00:00, 16.52s/it]"
          }
        },
        "53fb31d250f041899a35a6354137e1f0": {
          "model_module": "@jupyter-widgets/base",
          "model_name": "LayoutModel",
          "model_module_version": "1.2.0",
          "state": {
            "_model_module": "@jupyter-widgets/base",
            "_model_module_version": "1.2.0",
            "_model_name": "LayoutModel",
            "_view_count": null,
            "_view_module": "@jupyter-widgets/base",
            "_view_module_version": "1.2.0",
            "_view_name": "LayoutView",
            "align_content": null,
            "align_items": null,
            "align_self": null,
            "border": null,
            "bottom": null,
            "display": null,
            "flex": null,
            "flex_flow": null,
            "grid_area": null,
            "grid_auto_columns": null,
            "grid_auto_flow": null,
            "grid_auto_rows": null,
            "grid_column": null,
            "grid_gap": null,
            "grid_row": null,
            "grid_template_areas": null,
            "grid_template_columns": null,
            "grid_template_rows": null,
            "height": null,
            "justify_content": null,
            "justify_items": null,
            "left": null,
            "margin": null,
            "max_height": null,
            "max_width": null,
            "min_height": null,
            "min_width": null,
            "object_fit": null,
            "object_position": null,
            "order": null,
            "overflow": null,
            "overflow_x": null,
            "overflow_y": null,
            "padding": null,
            "right": null,
            "top": null,
            "visibility": null,
            "width": null
          }
        },
        "caf71518239545ebaefb845d8ffb321c": {
          "model_module": "@jupyter-widgets/base",
          "model_name": "LayoutModel",
          "model_module_version": "1.2.0",
          "state": {
            "_model_module": "@jupyter-widgets/base",
            "_model_module_version": "1.2.0",
            "_model_name": "LayoutModel",
            "_view_count": null,
            "_view_module": "@jupyter-widgets/base",
            "_view_module_version": "1.2.0",
            "_view_name": "LayoutView",
            "align_content": null,
            "align_items": null,
            "align_self": null,
            "border": null,
            "bottom": null,
            "display": null,
            "flex": null,
            "flex_flow": null,
            "grid_area": null,
            "grid_auto_columns": null,
            "grid_auto_flow": null,
            "grid_auto_rows": null,
            "grid_column": null,
            "grid_gap": null,
            "grid_row": null,
            "grid_template_areas": null,
            "grid_template_columns": null,
            "grid_template_rows": null,
            "height": null,
            "justify_content": null,
            "justify_items": null,
            "left": null,
            "margin": null,
            "max_height": null,
            "max_width": null,
            "min_height": null,
            "min_width": null,
            "object_fit": null,
            "object_position": null,
            "order": null,
            "overflow": null,
            "overflow_x": null,
            "overflow_y": null,
            "padding": null,
            "right": null,
            "top": null,
            "visibility": null,
            "width": null
          }
        },
        "53f8b27e9a2b49da9f1353cb84d3882a": {
          "model_module": "@jupyter-widgets/controls",
          "model_name": "DescriptionStyleModel",
          "model_module_version": "1.5.0",
          "state": {
            "_model_module": "@jupyter-widgets/controls",
            "_model_module_version": "1.5.0",
            "_model_name": "DescriptionStyleModel",
            "_view_count": null,
            "_view_module": "@jupyter-widgets/base",
            "_view_module_version": "1.2.0",
            "_view_name": "StyleView",
            "description_width": ""
          }
        },
        "21826a66e9544f29816c2ecc4d5f9e3a": {
          "model_module": "@jupyter-widgets/base",
          "model_name": "LayoutModel",
          "model_module_version": "1.2.0",
          "state": {
            "_model_module": "@jupyter-widgets/base",
            "_model_module_version": "1.2.0",
            "_model_name": "LayoutModel",
            "_view_count": null,
            "_view_module": "@jupyter-widgets/base",
            "_view_module_version": "1.2.0",
            "_view_name": "LayoutView",
            "align_content": null,
            "align_items": null,
            "align_self": null,
            "border": null,
            "bottom": null,
            "display": null,
            "flex": null,
            "flex_flow": null,
            "grid_area": null,
            "grid_auto_columns": null,
            "grid_auto_flow": null,
            "grid_auto_rows": null,
            "grid_column": null,
            "grid_gap": null,
            "grid_row": null,
            "grid_template_areas": null,
            "grid_template_columns": null,
            "grid_template_rows": null,
            "height": null,
            "justify_content": null,
            "justify_items": null,
            "left": null,
            "margin": null,
            "max_height": null,
            "max_width": null,
            "min_height": null,
            "min_width": null,
            "object_fit": null,
            "object_position": null,
            "order": null,
            "overflow": null,
            "overflow_x": null,
            "overflow_y": null,
            "padding": null,
            "right": null,
            "top": null,
            "visibility": null,
            "width": null
          }
        },
        "945ad4d99322428da816ea20fee2d3ea": {
          "model_module": "@jupyter-widgets/controls",
          "model_name": "ProgressStyleModel",
          "model_module_version": "1.5.0",
          "state": {
            "_model_module": "@jupyter-widgets/controls",
            "_model_module_version": "1.5.0",
            "_model_name": "ProgressStyleModel",
            "_view_count": null,
            "_view_module": "@jupyter-widgets/base",
            "_view_module_version": "1.2.0",
            "_view_name": "StyleView",
            "bar_color": null,
            "description_width": ""
          }
        },
        "5592bf45271a48378a2a3e6f26bc73e5": {
          "model_module": "@jupyter-widgets/base",
          "model_name": "LayoutModel",
          "model_module_version": "1.2.0",
          "state": {
            "_model_module": "@jupyter-widgets/base",
            "_model_module_version": "1.2.0",
            "_model_name": "LayoutModel",
            "_view_count": null,
            "_view_module": "@jupyter-widgets/base",
            "_view_module_version": "1.2.0",
            "_view_name": "LayoutView",
            "align_content": null,
            "align_items": null,
            "align_self": null,
            "border": null,
            "bottom": null,
            "display": null,
            "flex": null,
            "flex_flow": null,
            "grid_area": null,
            "grid_auto_columns": null,
            "grid_auto_flow": null,
            "grid_auto_rows": null,
            "grid_column": null,
            "grid_gap": null,
            "grid_row": null,
            "grid_template_areas": null,
            "grid_template_columns": null,
            "grid_template_rows": null,
            "height": null,
            "justify_content": null,
            "justify_items": null,
            "left": null,
            "margin": null,
            "max_height": null,
            "max_width": null,
            "min_height": null,
            "min_width": null,
            "object_fit": null,
            "object_position": null,
            "order": null,
            "overflow": null,
            "overflow_x": null,
            "overflow_y": null,
            "padding": null,
            "right": null,
            "top": null,
            "visibility": null,
            "width": null
          }
        },
        "44335b63dfea4968b84fa5802cefb8be": {
          "model_module": "@jupyter-widgets/controls",
          "model_name": "DescriptionStyleModel",
          "model_module_version": "1.5.0",
          "state": {
            "_model_module": "@jupyter-widgets/controls",
            "_model_module_version": "1.5.0",
            "_model_name": "DescriptionStyleModel",
            "_view_count": null,
            "_view_module": "@jupyter-widgets/base",
            "_view_module_version": "1.2.0",
            "_view_name": "StyleView",
            "description_width": ""
          }
        },
        "66519f8523084cbf92ffcce6c7819388": {
          "model_module": "@jupyter-widgets/controls",
          "model_name": "HBoxModel",
          "model_module_version": "1.5.0",
          "state": {
            "_dom_classes": [],
            "_model_module": "@jupyter-widgets/controls",
            "_model_module_version": "1.5.0",
            "_model_name": "HBoxModel",
            "_view_count": null,
            "_view_module": "@jupyter-widgets/controls",
            "_view_module_version": "1.5.0",
            "_view_name": "HBoxView",
            "box_style": "",
            "children": [
              "IPY_MODEL_fb31995f6eba4e669d8bac8171ca38b6",
              "IPY_MODEL_fd280e0b051c47ae95932f5736347f4c",
              "IPY_MODEL_8fa9fe65d84346d58606148ab70a1297"
            ],
            "layout": "IPY_MODEL_b8e70a160779479caf71a9efc9b721ba"
          }
        },
        "fb31995f6eba4e669d8bac8171ca38b6": {
          "model_module": "@jupyter-widgets/controls",
          "model_name": "HTMLModel",
          "model_module_version": "1.5.0",
          "state": {
            "_dom_classes": [],
            "_model_module": "@jupyter-widgets/controls",
            "_model_module_version": "1.5.0",
            "_model_name": "HTMLModel",
            "_view_count": null,
            "_view_module": "@jupyter-widgets/controls",
            "_view_module_version": "1.5.0",
            "_view_name": "HTMLView",
            "description": "",
            "description_tooltip": null,
            "layout": "IPY_MODEL_b31417d378494e029485197c8bbd68cd",
            "placeholder": "​",
            "style": "IPY_MODEL_746ef8bb27404a878a796e2cc68181d1",
            "value": "generation_config.json: 100%"
          }
        },
        "fd280e0b051c47ae95932f5736347f4c": {
          "model_module": "@jupyter-widgets/controls",
          "model_name": "FloatProgressModel",
          "model_module_version": "1.5.0",
          "state": {
            "_dom_classes": [],
            "_model_module": "@jupyter-widgets/controls",
            "_model_module_version": "1.5.0",
            "_model_name": "FloatProgressModel",
            "_view_count": null,
            "_view_module": "@jupyter-widgets/controls",
            "_view_module_version": "1.5.0",
            "_view_name": "ProgressView",
            "bar_style": "success",
            "description": "",
            "description_tooltip": null,
            "layout": "IPY_MODEL_225e67ecbfa646df9650a3d14cdd5295",
            "max": 187,
            "min": 0,
            "orientation": "horizontal",
            "style": "IPY_MODEL_b142d68a7989430984328219def7aa16",
            "value": 187
          }
        },
        "8fa9fe65d84346d58606148ab70a1297": {
          "model_module": "@jupyter-widgets/controls",
          "model_name": "HTMLModel",
          "model_module_version": "1.5.0",
          "state": {
            "_dom_classes": [],
            "_model_module": "@jupyter-widgets/controls",
            "_model_module_version": "1.5.0",
            "_model_name": "HTMLModel",
            "_view_count": null,
            "_view_module": "@jupyter-widgets/controls",
            "_view_module_version": "1.5.0",
            "_view_name": "HTMLView",
            "description": "",
            "description_tooltip": null,
            "layout": "IPY_MODEL_566dd8294748456a902abb953daa5ced",
            "placeholder": "​",
            "style": "IPY_MODEL_4a0d0b98d83b4b54977f19b6a53f420d",
            "value": " 187/187 [00:00&lt;00:00, 11.2kB/s]"
          }
        },
        "b8e70a160779479caf71a9efc9b721ba": {
          "model_module": "@jupyter-widgets/base",
          "model_name": "LayoutModel",
          "model_module_version": "1.2.0",
          "state": {
            "_model_module": "@jupyter-widgets/base",
            "_model_module_version": "1.2.0",
            "_model_name": "LayoutModel",
            "_view_count": null,
            "_view_module": "@jupyter-widgets/base",
            "_view_module_version": "1.2.0",
            "_view_name": "LayoutView",
            "align_content": null,
            "align_items": null,
            "align_self": null,
            "border": null,
            "bottom": null,
            "display": null,
            "flex": null,
            "flex_flow": null,
            "grid_area": null,
            "grid_auto_columns": null,
            "grid_auto_flow": null,
            "grid_auto_rows": null,
            "grid_column": null,
            "grid_gap": null,
            "grid_row": null,
            "grid_template_areas": null,
            "grid_template_columns": null,
            "grid_template_rows": null,
            "height": null,
            "justify_content": null,
            "justify_items": null,
            "left": null,
            "margin": null,
            "max_height": null,
            "max_width": null,
            "min_height": null,
            "min_width": null,
            "object_fit": null,
            "object_position": null,
            "order": null,
            "overflow": null,
            "overflow_x": null,
            "overflow_y": null,
            "padding": null,
            "right": null,
            "top": null,
            "visibility": null,
            "width": null
          }
        },
        "b31417d378494e029485197c8bbd68cd": {
          "model_module": "@jupyter-widgets/base",
          "model_name": "LayoutModel",
          "model_module_version": "1.2.0",
          "state": {
            "_model_module": "@jupyter-widgets/base",
            "_model_module_version": "1.2.0",
            "_model_name": "LayoutModel",
            "_view_count": null,
            "_view_module": "@jupyter-widgets/base",
            "_view_module_version": "1.2.0",
            "_view_name": "LayoutView",
            "align_content": null,
            "align_items": null,
            "align_self": null,
            "border": null,
            "bottom": null,
            "display": null,
            "flex": null,
            "flex_flow": null,
            "grid_area": null,
            "grid_auto_columns": null,
            "grid_auto_flow": null,
            "grid_auto_rows": null,
            "grid_column": null,
            "grid_gap": null,
            "grid_row": null,
            "grid_template_areas": null,
            "grid_template_columns": null,
            "grid_template_rows": null,
            "height": null,
            "justify_content": null,
            "justify_items": null,
            "left": null,
            "margin": null,
            "max_height": null,
            "max_width": null,
            "min_height": null,
            "min_width": null,
            "object_fit": null,
            "object_position": null,
            "order": null,
            "overflow": null,
            "overflow_x": null,
            "overflow_y": null,
            "padding": null,
            "right": null,
            "top": null,
            "visibility": null,
            "width": null
          }
        },
        "746ef8bb27404a878a796e2cc68181d1": {
          "model_module": "@jupyter-widgets/controls",
          "model_name": "DescriptionStyleModel",
          "model_module_version": "1.5.0",
          "state": {
            "_model_module": "@jupyter-widgets/controls",
            "_model_module_version": "1.5.0",
            "_model_name": "DescriptionStyleModel",
            "_view_count": null,
            "_view_module": "@jupyter-widgets/base",
            "_view_module_version": "1.2.0",
            "_view_name": "StyleView",
            "description_width": ""
          }
        },
        "225e67ecbfa646df9650a3d14cdd5295": {
          "model_module": "@jupyter-widgets/base",
          "model_name": "LayoutModel",
          "model_module_version": "1.2.0",
          "state": {
            "_model_module": "@jupyter-widgets/base",
            "_model_module_version": "1.2.0",
            "_model_name": "LayoutModel",
            "_view_count": null,
            "_view_module": "@jupyter-widgets/base",
            "_view_module_version": "1.2.0",
            "_view_name": "LayoutView",
            "align_content": null,
            "align_items": null,
            "align_self": null,
            "border": null,
            "bottom": null,
            "display": null,
            "flex": null,
            "flex_flow": null,
            "grid_area": null,
            "grid_auto_columns": null,
            "grid_auto_flow": null,
            "grid_auto_rows": null,
            "grid_column": null,
            "grid_gap": null,
            "grid_row": null,
            "grid_template_areas": null,
            "grid_template_columns": null,
            "grid_template_rows": null,
            "height": null,
            "justify_content": null,
            "justify_items": null,
            "left": null,
            "margin": null,
            "max_height": null,
            "max_width": null,
            "min_height": null,
            "min_width": null,
            "object_fit": null,
            "object_position": null,
            "order": null,
            "overflow": null,
            "overflow_x": null,
            "overflow_y": null,
            "padding": null,
            "right": null,
            "top": null,
            "visibility": null,
            "width": null
          }
        },
        "b142d68a7989430984328219def7aa16": {
          "model_module": "@jupyter-widgets/controls",
          "model_name": "ProgressStyleModel",
          "model_module_version": "1.5.0",
          "state": {
            "_model_module": "@jupyter-widgets/controls",
            "_model_module_version": "1.5.0",
            "_model_name": "ProgressStyleModel",
            "_view_count": null,
            "_view_module": "@jupyter-widgets/base",
            "_view_module_version": "1.2.0",
            "_view_name": "StyleView",
            "bar_color": null,
            "description_width": ""
          }
        },
        "566dd8294748456a902abb953daa5ced": {
          "model_module": "@jupyter-widgets/base",
          "model_name": "LayoutModel",
          "model_module_version": "1.2.0",
          "state": {
            "_model_module": "@jupyter-widgets/base",
            "_model_module_version": "1.2.0",
            "_model_name": "LayoutModel",
            "_view_count": null,
            "_view_module": "@jupyter-widgets/base",
            "_view_module_version": "1.2.0",
            "_view_name": "LayoutView",
            "align_content": null,
            "align_items": null,
            "align_self": null,
            "border": null,
            "bottom": null,
            "display": null,
            "flex": null,
            "flex_flow": null,
            "grid_area": null,
            "grid_auto_columns": null,
            "grid_auto_flow": null,
            "grid_auto_rows": null,
            "grid_column": null,
            "grid_gap": null,
            "grid_row": null,
            "grid_template_areas": null,
            "grid_template_columns": null,
            "grid_template_rows": null,
            "height": null,
            "justify_content": null,
            "justify_items": null,
            "left": null,
            "margin": null,
            "max_height": null,
            "max_width": null,
            "min_height": null,
            "min_width": null,
            "object_fit": null,
            "object_position": null,
            "order": null,
            "overflow": null,
            "overflow_x": null,
            "overflow_y": null,
            "padding": null,
            "right": null,
            "top": null,
            "visibility": null,
            "width": null
          }
        },
        "4a0d0b98d83b4b54977f19b6a53f420d": {
          "model_module": "@jupyter-widgets/controls",
          "model_name": "DescriptionStyleModel",
          "model_module_version": "1.5.0",
          "state": {
            "_model_module": "@jupyter-widgets/controls",
            "_model_module_version": "1.5.0",
            "_model_name": "DescriptionStyleModel",
            "_view_count": null,
            "_view_module": "@jupyter-widgets/base",
            "_view_module_version": "1.2.0",
            "_view_name": "StyleView",
            "description_width": ""
          }
        },
        "2dfd23221ef144cb886d274f3d1adecd": {
          "model_module": "@jupyter-widgets/controls",
          "model_name": "HBoxModel",
          "model_module_version": "1.5.0",
          "state": {
            "_dom_classes": [],
            "_model_module": "@jupyter-widgets/controls",
            "_model_module_version": "1.5.0",
            "_model_name": "HBoxModel",
            "_view_count": null,
            "_view_module": "@jupyter-widgets/controls",
            "_view_module_version": "1.5.0",
            "_view_name": "HBoxView",
            "box_style": "",
            "children": [
              "IPY_MODEL_1863152919d9407cbd6a4805c76991e0",
              "IPY_MODEL_63812f771952431aaa88c19a20953160",
              "IPY_MODEL_031288335b324b0f91c28d671135b74d"
            ],
            "layout": "IPY_MODEL_bdb1158d6b1048e18f89da82614367f0"
          }
        },
        "1863152919d9407cbd6a4805c76991e0": {
          "model_module": "@jupyter-widgets/controls",
          "model_name": "HTMLModel",
          "model_module_version": "1.5.0",
          "state": {
            "_dom_classes": [],
            "_model_module": "@jupyter-widgets/controls",
            "_model_module_version": "1.5.0",
            "_model_name": "HTMLModel",
            "_view_count": null,
            "_view_module": "@jupyter-widgets/controls",
            "_view_module_version": "1.5.0",
            "_view_name": "HTMLView",
            "description": "",
            "description_tooltip": null,
            "layout": "IPY_MODEL_6a4b0aea08fb4f9385f08d4951043f71",
            "placeholder": "​",
            "style": "IPY_MODEL_2547fca4db3446c2b27d4ad3c9b94186",
            "value": "tokenizer_config.json: 100%"
          }
        },
        "63812f771952431aaa88c19a20953160": {
          "model_module": "@jupyter-widgets/controls",
          "model_name": "FloatProgressModel",
          "model_module_version": "1.5.0",
          "state": {
            "_dom_classes": [],
            "_model_module": "@jupyter-widgets/controls",
            "_model_module_version": "1.5.0",
            "_model_name": "FloatProgressModel",
            "_view_count": null,
            "_view_module": "@jupyter-widgets/controls",
            "_view_module_version": "1.5.0",
            "_view_name": "ProgressView",
            "bar_style": "success",
            "description": "",
            "description_tooltip": null,
            "layout": "IPY_MODEL_9b6718f5a62f4e959a2a6c172ad7695c",
            "max": 50982,
            "min": 0,
            "orientation": "horizontal",
            "style": "IPY_MODEL_781d81a3158a42c3a4850989d670bd44",
            "value": 50982
          }
        },
        "031288335b324b0f91c28d671135b74d": {
          "model_module": "@jupyter-widgets/controls",
          "model_name": "HTMLModel",
          "model_module_version": "1.5.0",
          "state": {
            "_dom_classes": [],
            "_model_module": "@jupyter-widgets/controls",
            "_model_module_version": "1.5.0",
            "_model_name": "HTMLModel",
            "_view_count": null,
            "_view_module": "@jupyter-widgets/controls",
            "_view_module_version": "1.5.0",
            "_view_name": "HTMLView",
            "description": "",
            "description_tooltip": null,
            "layout": "IPY_MODEL_78d71fc21af64ed3875b6d1d1bc201da",
            "placeholder": "​",
            "style": "IPY_MODEL_6340034661e040799c1ac565e698af7a",
            "value": " 51.0k/51.0k [00:00&lt;00:00, 3.21MB/s]"
          }
        },
        "bdb1158d6b1048e18f89da82614367f0": {
          "model_module": "@jupyter-widgets/base",
          "model_name": "LayoutModel",
          "model_module_version": "1.2.0",
          "state": {
            "_model_module": "@jupyter-widgets/base",
            "_model_module_version": "1.2.0",
            "_model_name": "LayoutModel",
            "_view_count": null,
            "_view_module": "@jupyter-widgets/base",
            "_view_module_version": "1.2.0",
            "_view_name": "LayoutView",
            "align_content": null,
            "align_items": null,
            "align_self": null,
            "border": null,
            "bottom": null,
            "display": null,
            "flex": null,
            "flex_flow": null,
            "grid_area": null,
            "grid_auto_columns": null,
            "grid_auto_flow": null,
            "grid_auto_rows": null,
            "grid_column": null,
            "grid_gap": null,
            "grid_row": null,
            "grid_template_areas": null,
            "grid_template_columns": null,
            "grid_template_rows": null,
            "height": null,
            "justify_content": null,
            "justify_items": null,
            "left": null,
            "margin": null,
            "max_height": null,
            "max_width": null,
            "min_height": null,
            "min_width": null,
            "object_fit": null,
            "object_position": null,
            "order": null,
            "overflow": null,
            "overflow_x": null,
            "overflow_y": null,
            "padding": null,
            "right": null,
            "top": null,
            "visibility": null,
            "width": null
          }
        },
        "6a4b0aea08fb4f9385f08d4951043f71": {
          "model_module": "@jupyter-widgets/base",
          "model_name": "LayoutModel",
          "model_module_version": "1.2.0",
          "state": {
            "_model_module": "@jupyter-widgets/base",
            "_model_module_version": "1.2.0",
            "_model_name": "LayoutModel",
            "_view_count": null,
            "_view_module": "@jupyter-widgets/base",
            "_view_module_version": "1.2.0",
            "_view_name": "LayoutView",
            "align_content": null,
            "align_items": null,
            "align_self": null,
            "border": null,
            "bottom": null,
            "display": null,
            "flex": null,
            "flex_flow": null,
            "grid_area": null,
            "grid_auto_columns": null,
            "grid_auto_flow": null,
            "grid_auto_rows": null,
            "grid_column": null,
            "grid_gap": null,
            "grid_row": null,
            "grid_template_areas": null,
            "grid_template_columns": null,
            "grid_template_rows": null,
            "height": null,
            "justify_content": null,
            "justify_items": null,
            "left": null,
            "margin": null,
            "max_height": null,
            "max_width": null,
            "min_height": null,
            "min_width": null,
            "object_fit": null,
            "object_position": null,
            "order": null,
            "overflow": null,
            "overflow_x": null,
            "overflow_y": null,
            "padding": null,
            "right": null,
            "top": null,
            "visibility": null,
            "width": null
          }
        },
        "2547fca4db3446c2b27d4ad3c9b94186": {
          "model_module": "@jupyter-widgets/controls",
          "model_name": "DescriptionStyleModel",
          "model_module_version": "1.5.0",
          "state": {
            "_model_module": "@jupyter-widgets/controls",
            "_model_module_version": "1.5.0",
            "_model_name": "DescriptionStyleModel",
            "_view_count": null,
            "_view_module": "@jupyter-widgets/base",
            "_view_module_version": "1.2.0",
            "_view_name": "StyleView",
            "description_width": ""
          }
        },
        "9b6718f5a62f4e959a2a6c172ad7695c": {
          "model_module": "@jupyter-widgets/base",
          "model_name": "LayoutModel",
          "model_module_version": "1.2.0",
          "state": {
            "_model_module": "@jupyter-widgets/base",
            "_model_module_version": "1.2.0",
            "_model_name": "LayoutModel",
            "_view_count": null,
            "_view_module": "@jupyter-widgets/base",
            "_view_module_version": "1.2.0",
            "_view_name": "LayoutView",
            "align_content": null,
            "align_items": null,
            "align_self": null,
            "border": null,
            "bottom": null,
            "display": null,
            "flex": null,
            "flex_flow": null,
            "grid_area": null,
            "grid_auto_columns": null,
            "grid_auto_flow": null,
            "grid_auto_rows": null,
            "grid_column": null,
            "grid_gap": null,
            "grid_row": null,
            "grid_template_areas": null,
            "grid_template_columns": null,
            "grid_template_rows": null,
            "height": null,
            "justify_content": null,
            "justify_items": null,
            "left": null,
            "margin": null,
            "max_height": null,
            "max_width": null,
            "min_height": null,
            "min_width": null,
            "object_fit": null,
            "object_position": null,
            "order": null,
            "overflow": null,
            "overflow_x": null,
            "overflow_y": null,
            "padding": null,
            "right": null,
            "top": null,
            "visibility": null,
            "width": null
          }
        },
        "781d81a3158a42c3a4850989d670bd44": {
          "model_module": "@jupyter-widgets/controls",
          "model_name": "ProgressStyleModel",
          "model_module_version": "1.5.0",
          "state": {
            "_model_module": "@jupyter-widgets/controls",
            "_model_module_version": "1.5.0",
            "_model_name": "ProgressStyleModel",
            "_view_count": null,
            "_view_module": "@jupyter-widgets/base",
            "_view_module_version": "1.2.0",
            "_view_name": "StyleView",
            "bar_color": null,
            "description_width": ""
          }
        },
        "78d71fc21af64ed3875b6d1d1bc201da": {
          "model_module": "@jupyter-widgets/base",
          "model_name": "LayoutModel",
          "model_module_version": "1.2.0",
          "state": {
            "_model_module": "@jupyter-widgets/base",
            "_model_module_version": "1.2.0",
            "_model_name": "LayoutModel",
            "_view_count": null,
            "_view_module": "@jupyter-widgets/base",
            "_view_module_version": "1.2.0",
            "_view_name": "LayoutView",
            "align_content": null,
            "align_items": null,
            "align_self": null,
            "border": null,
            "bottom": null,
            "display": null,
            "flex": null,
            "flex_flow": null,
            "grid_area": null,
            "grid_auto_columns": null,
            "grid_auto_flow": null,
            "grid_auto_rows": null,
            "grid_column": null,
            "grid_gap": null,
            "grid_row": null,
            "grid_template_areas": null,
            "grid_template_columns": null,
            "grid_template_rows": null,
            "height": null,
            "justify_content": null,
            "justify_items": null,
            "left": null,
            "margin": null,
            "max_height": null,
            "max_width": null,
            "min_height": null,
            "min_width": null,
            "object_fit": null,
            "object_position": null,
            "order": null,
            "overflow": null,
            "overflow_x": null,
            "overflow_y": null,
            "padding": null,
            "right": null,
            "top": null,
            "visibility": null,
            "width": null
          }
        },
        "6340034661e040799c1ac565e698af7a": {
          "model_module": "@jupyter-widgets/controls",
          "model_name": "DescriptionStyleModel",
          "model_module_version": "1.5.0",
          "state": {
            "_model_module": "@jupyter-widgets/controls",
            "_model_module_version": "1.5.0",
            "_model_name": "DescriptionStyleModel",
            "_view_count": null,
            "_view_module": "@jupyter-widgets/base",
            "_view_module_version": "1.2.0",
            "_view_name": "StyleView",
            "description_width": ""
          }
        },
        "1047b61882ba438db6895179fcea06c1": {
          "model_module": "@jupyter-widgets/controls",
          "model_name": "HBoxModel",
          "model_module_version": "1.5.0",
          "state": {
            "_dom_classes": [],
            "_model_module": "@jupyter-widgets/controls",
            "_model_module_version": "1.5.0",
            "_model_name": "HBoxModel",
            "_view_count": null,
            "_view_module": "@jupyter-widgets/controls",
            "_view_module_version": "1.5.0",
            "_view_name": "HBoxView",
            "box_style": "",
            "children": [
              "IPY_MODEL_171e816d1d3d4b56891397bfc5856b4e",
              "IPY_MODEL_2ebf3127703642c59b4093907b3b5b01",
              "IPY_MODEL_663e860d15524f19b73596c7c595e515"
            ],
            "layout": "IPY_MODEL_d53bfc877a094012843ba83e4168c4a1"
          }
        },
        "171e816d1d3d4b56891397bfc5856b4e": {
          "model_module": "@jupyter-widgets/controls",
          "model_name": "HTMLModel",
          "model_module_version": "1.5.0",
          "state": {
            "_dom_classes": [],
            "_model_module": "@jupyter-widgets/controls",
            "_model_module_version": "1.5.0",
            "_model_name": "HTMLModel",
            "_view_count": null,
            "_view_module": "@jupyter-widgets/controls",
            "_view_module_version": "1.5.0",
            "_view_name": "HTMLView",
            "description": "",
            "description_tooltip": null,
            "layout": "IPY_MODEL_65357282a77145528869828acac78312",
            "placeholder": "​",
            "style": "IPY_MODEL_deed5b808f59400680fb947ee5ec0cc3",
            "value": "tokenizer.json: 100%"
          }
        },
        "2ebf3127703642c59b4093907b3b5b01": {
          "model_module": "@jupyter-widgets/controls",
          "model_name": "FloatProgressModel",
          "model_module_version": "1.5.0",
          "state": {
            "_dom_classes": [],
            "_model_module": "@jupyter-widgets/controls",
            "_model_module_version": "1.5.0",
            "_model_name": "FloatProgressModel",
            "_view_count": null,
            "_view_module": "@jupyter-widgets/controls",
            "_view_module_version": "1.5.0",
            "_view_name": "ProgressView",
            "bar_style": "success",
            "description": "",
            "description_tooltip": null,
            "layout": "IPY_MODEL_28b2f7766dca4b349e3f14aaed04b34e",
            "max": 9085698,
            "min": 0,
            "orientation": "horizontal",
            "style": "IPY_MODEL_5fc99fb8b16b4077859614a5300e0942",
            "value": 9085698
          }
        },
        "663e860d15524f19b73596c7c595e515": {
          "model_module": "@jupyter-widgets/controls",
          "model_name": "HTMLModel",
          "model_module_version": "1.5.0",
          "state": {
            "_dom_classes": [],
            "_model_module": "@jupyter-widgets/controls",
            "_model_module_version": "1.5.0",
            "_model_name": "HTMLModel",
            "_view_count": null,
            "_view_module": "@jupyter-widgets/controls",
            "_view_module_version": "1.5.0",
            "_view_name": "HTMLView",
            "description": "",
            "description_tooltip": null,
            "layout": "IPY_MODEL_e40e2e26d4b84d86b11b8fee5f4e4d71",
            "placeholder": "​",
            "style": "IPY_MODEL_bdb0d7d3d91a483785ebf9baee21dcc7",
            "value": " 9.09M/9.09M [00:00&lt;00:00, 34.3MB/s]"
          }
        },
        "d53bfc877a094012843ba83e4168c4a1": {
          "model_module": "@jupyter-widgets/base",
          "model_name": "LayoutModel",
          "model_module_version": "1.2.0",
          "state": {
            "_model_module": "@jupyter-widgets/base",
            "_model_module_version": "1.2.0",
            "_model_name": "LayoutModel",
            "_view_count": null,
            "_view_module": "@jupyter-widgets/base",
            "_view_module_version": "1.2.0",
            "_view_name": "LayoutView",
            "align_content": null,
            "align_items": null,
            "align_self": null,
            "border": null,
            "bottom": null,
            "display": null,
            "flex": null,
            "flex_flow": null,
            "grid_area": null,
            "grid_auto_columns": null,
            "grid_auto_flow": null,
            "grid_auto_rows": null,
            "grid_column": null,
            "grid_gap": null,
            "grid_row": null,
            "grid_template_areas": null,
            "grid_template_columns": null,
            "grid_template_rows": null,
            "height": null,
            "justify_content": null,
            "justify_items": null,
            "left": null,
            "margin": null,
            "max_height": null,
            "max_width": null,
            "min_height": null,
            "min_width": null,
            "object_fit": null,
            "object_position": null,
            "order": null,
            "overflow": null,
            "overflow_x": null,
            "overflow_y": null,
            "padding": null,
            "right": null,
            "top": null,
            "visibility": null,
            "width": null
          }
        },
        "65357282a77145528869828acac78312": {
          "model_module": "@jupyter-widgets/base",
          "model_name": "LayoutModel",
          "model_module_version": "1.2.0",
          "state": {
            "_model_module": "@jupyter-widgets/base",
            "_model_module_version": "1.2.0",
            "_model_name": "LayoutModel",
            "_view_count": null,
            "_view_module": "@jupyter-widgets/base",
            "_view_module_version": "1.2.0",
            "_view_name": "LayoutView",
            "align_content": null,
            "align_items": null,
            "align_self": null,
            "border": null,
            "bottom": null,
            "display": null,
            "flex": null,
            "flex_flow": null,
            "grid_area": null,
            "grid_auto_columns": null,
            "grid_auto_flow": null,
            "grid_auto_rows": null,
            "grid_column": null,
            "grid_gap": null,
            "grid_row": null,
            "grid_template_areas": null,
            "grid_template_columns": null,
            "grid_template_rows": null,
            "height": null,
            "justify_content": null,
            "justify_items": null,
            "left": null,
            "margin": null,
            "max_height": null,
            "max_width": null,
            "min_height": null,
            "min_width": null,
            "object_fit": null,
            "object_position": null,
            "order": null,
            "overflow": null,
            "overflow_x": null,
            "overflow_y": null,
            "padding": null,
            "right": null,
            "top": null,
            "visibility": null,
            "width": null
          }
        },
        "deed5b808f59400680fb947ee5ec0cc3": {
          "model_module": "@jupyter-widgets/controls",
          "model_name": "DescriptionStyleModel",
          "model_module_version": "1.5.0",
          "state": {
            "_model_module": "@jupyter-widgets/controls",
            "_model_module_version": "1.5.0",
            "_model_name": "DescriptionStyleModel",
            "_view_count": null,
            "_view_module": "@jupyter-widgets/base",
            "_view_module_version": "1.2.0",
            "_view_name": "StyleView",
            "description_width": ""
          }
        },
        "28b2f7766dca4b349e3f14aaed04b34e": {
          "model_module": "@jupyter-widgets/base",
          "model_name": "LayoutModel",
          "model_module_version": "1.2.0",
          "state": {
            "_model_module": "@jupyter-widgets/base",
            "_model_module_version": "1.2.0",
            "_model_name": "LayoutModel",
            "_view_count": null,
            "_view_module": "@jupyter-widgets/base",
            "_view_module_version": "1.2.0",
            "_view_name": "LayoutView",
            "align_content": null,
            "align_items": null,
            "align_self": null,
            "border": null,
            "bottom": null,
            "display": null,
            "flex": null,
            "flex_flow": null,
            "grid_area": null,
            "grid_auto_columns": null,
            "grid_auto_flow": null,
            "grid_auto_rows": null,
            "grid_column": null,
            "grid_gap": null,
            "grid_row": null,
            "grid_template_areas": null,
            "grid_template_columns": null,
            "grid_template_rows": null,
            "height": null,
            "justify_content": null,
            "justify_items": null,
            "left": null,
            "margin": null,
            "max_height": null,
            "max_width": null,
            "min_height": null,
            "min_width": null,
            "object_fit": null,
            "object_position": null,
            "order": null,
            "overflow": null,
            "overflow_x": null,
            "overflow_y": null,
            "padding": null,
            "right": null,
            "top": null,
            "visibility": null,
            "width": null
          }
        },
        "5fc99fb8b16b4077859614a5300e0942": {
          "model_module": "@jupyter-widgets/controls",
          "model_name": "ProgressStyleModel",
          "model_module_version": "1.5.0",
          "state": {
            "_model_module": "@jupyter-widgets/controls",
            "_model_module_version": "1.5.0",
            "_model_name": "ProgressStyleModel",
            "_view_count": null,
            "_view_module": "@jupyter-widgets/base",
            "_view_module_version": "1.2.0",
            "_view_name": "StyleView",
            "bar_color": null,
            "description_width": ""
          }
        },
        "e40e2e26d4b84d86b11b8fee5f4e4d71": {
          "model_module": "@jupyter-widgets/base",
          "model_name": "LayoutModel",
          "model_module_version": "1.2.0",
          "state": {
            "_model_module": "@jupyter-widgets/base",
            "_model_module_version": "1.2.0",
            "_model_name": "LayoutModel",
            "_view_count": null,
            "_view_module": "@jupyter-widgets/base",
            "_view_module_version": "1.2.0",
            "_view_name": "LayoutView",
            "align_content": null,
            "align_items": null,
            "align_self": null,
            "border": null,
            "bottom": null,
            "display": null,
            "flex": null,
            "flex_flow": null,
            "grid_area": null,
            "grid_auto_columns": null,
            "grid_auto_flow": null,
            "grid_auto_rows": null,
            "grid_column": null,
            "grid_gap": null,
            "grid_row": null,
            "grid_template_areas": null,
            "grid_template_columns": null,
            "grid_template_rows": null,
            "height": null,
            "justify_content": null,
            "justify_items": null,
            "left": null,
            "margin": null,
            "max_height": null,
            "max_width": null,
            "min_height": null,
            "min_width": null,
            "object_fit": null,
            "object_position": null,
            "order": null,
            "overflow": null,
            "overflow_x": null,
            "overflow_y": null,
            "padding": null,
            "right": null,
            "top": null,
            "visibility": null,
            "width": null
          }
        },
        "bdb0d7d3d91a483785ebf9baee21dcc7": {
          "model_module": "@jupyter-widgets/controls",
          "model_name": "DescriptionStyleModel",
          "model_module_version": "1.5.0",
          "state": {
            "_model_module": "@jupyter-widgets/controls",
            "_model_module_version": "1.5.0",
            "_model_name": "DescriptionStyleModel",
            "_view_count": null,
            "_view_module": "@jupyter-widgets/base",
            "_view_module_version": "1.2.0",
            "_view_name": "StyleView",
            "description_width": ""
          }
        },
        "c69a9f76884d43a8b1b949f8156e0edc": {
          "model_module": "@jupyter-widgets/controls",
          "model_name": "HBoxModel",
          "model_module_version": "1.5.0",
          "state": {
            "_dom_classes": [],
            "_model_module": "@jupyter-widgets/controls",
            "_model_module_version": "1.5.0",
            "_model_name": "HBoxModel",
            "_view_count": null,
            "_view_module": "@jupyter-widgets/controls",
            "_view_module_version": "1.5.0",
            "_view_name": "HBoxView",
            "box_style": "",
            "children": [
              "IPY_MODEL_bb3f70b13e5a4388a70589fe3c41b950",
              "IPY_MODEL_2a7f1150ec784b1188e17f544a42922a",
              "IPY_MODEL_d8d1698e41c545e3a62f74548458032b"
            ],
            "layout": "IPY_MODEL_9de42fb1832344c3bb911778c8ebc517"
          }
        },
        "bb3f70b13e5a4388a70589fe3c41b950": {
          "model_module": "@jupyter-widgets/controls",
          "model_name": "HTMLModel",
          "model_module_version": "1.5.0",
          "state": {
            "_dom_classes": [],
            "_model_module": "@jupyter-widgets/controls",
            "_model_module_version": "1.5.0",
            "_model_name": "HTMLModel",
            "_view_count": null,
            "_view_module": "@jupyter-widgets/controls",
            "_view_module_version": "1.5.0",
            "_view_name": "HTMLView",
            "description": "",
            "description_tooltip": null,
            "layout": "IPY_MODEL_0db59e454cc24448b1ea8ec8f6a93902",
            "placeholder": "​",
            "style": "IPY_MODEL_0d735e243b5b4e08bfbc60cca4a3cc82",
            "value": "special_tokens_map.json: 100%"
          }
        },
        "2a7f1150ec784b1188e17f544a42922a": {
          "model_module": "@jupyter-widgets/controls",
          "model_name": "FloatProgressModel",
          "model_module_version": "1.5.0",
          "state": {
            "_dom_classes": [],
            "_model_module": "@jupyter-widgets/controls",
            "_model_module_version": "1.5.0",
            "_model_name": "FloatProgressModel",
            "_view_count": null,
            "_view_module": "@jupyter-widgets/controls",
            "_view_module_version": "1.5.0",
            "_view_name": "ProgressView",
            "bar_style": "success",
            "description": "",
            "description_tooltip": null,
            "layout": "IPY_MODEL_dccb5b597eeb45bcb14e3a7d1d276237",
            "max": 73,
            "min": 0,
            "orientation": "horizontal",
            "style": "IPY_MODEL_7518751f8a2b4d83b6a28d6ed1dec842",
            "value": 73
          }
        },
        "d8d1698e41c545e3a62f74548458032b": {
          "model_module": "@jupyter-widgets/controls",
          "model_name": "HTMLModel",
          "model_module_version": "1.5.0",
          "state": {
            "_dom_classes": [],
            "_model_module": "@jupyter-widgets/controls",
            "_model_module_version": "1.5.0",
            "_model_name": "HTMLModel",
            "_view_count": null,
            "_view_module": "@jupyter-widgets/controls",
            "_view_module_version": "1.5.0",
            "_view_name": "HTMLView",
            "description": "",
            "description_tooltip": null,
            "layout": "IPY_MODEL_e391176c1c004c4a9f82d4accdc2e404",
            "placeholder": "​",
            "style": "IPY_MODEL_a79355af6bed4eea97cbc099fcfa2044",
            "value": " 73.0/73.0 [00:00&lt;00:00, 5.59kB/s]"
          }
        },
        "9de42fb1832344c3bb911778c8ebc517": {
          "model_module": "@jupyter-widgets/base",
          "model_name": "LayoutModel",
          "model_module_version": "1.2.0",
          "state": {
            "_model_module": "@jupyter-widgets/base",
            "_model_module_version": "1.2.0",
            "_model_name": "LayoutModel",
            "_view_count": null,
            "_view_module": "@jupyter-widgets/base",
            "_view_module_version": "1.2.0",
            "_view_name": "LayoutView",
            "align_content": null,
            "align_items": null,
            "align_self": null,
            "border": null,
            "bottom": null,
            "display": null,
            "flex": null,
            "flex_flow": null,
            "grid_area": null,
            "grid_auto_columns": null,
            "grid_auto_flow": null,
            "grid_auto_rows": null,
            "grid_column": null,
            "grid_gap": null,
            "grid_row": null,
            "grid_template_areas": null,
            "grid_template_columns": null,
            "grid_template_rows": null,
            "height": null,
            "justify_content": null,
            "justify_items": null,
            "left": null,
            "margin": null,
            "max_height": null,
            "max_width": null,
            "min_height": null,
            "min_width": null,
            "object_fit": null,
            "object_position": null,
            "order": null,
            "overflow": null,
            "overflow_x": null,
            "overflow_y": null,
            "padding": null,
            "right": null,
            "top": null,
            "visibility": null,
            "width": null
          }
        },
        "0db59e454cc24448b1ea8ec8f6a93902": {
          "model_module": "@jupyter-widgets/base",
          "model_name": "LayoutModel",
          "model_module_version": "1.2.0",
          "state": {
            "_model_module": "@jupyter-widgets/base",
            "_model_module_version": "1.2.0",
            "_model_name": "LayoutModel",
            "_view_count": null,
            "_view_module": "@jupyter-widgets/base",
            "_view_module_version": "1.2.0",
            "_view_name": "LayoutView",
            "align_content": null,
            "align_items": null,
            "align_self": null,
            "border": null,
            "bottom": null,
            "display": null,
            "flex": null,
            "flex_flow": null,
            "grid_area": null,
            "grid_auto_columns": null,
            "grid_auto_flow": null,
            "grid_auto_rows": null,
            "grid_column": null,
            "grid_gap": null,
            "grid_row": null,
            "grid_template_areas": null,
            "grid_template_columns": null,
            "grid_template_rows": null,
            "height": null,
            "justify_content": null,
            "justify_items": null,
            "left": null,
            "margin": null,
            "max_height": null,
            "max_width": null,
            "min_height": null,
            "min_width": null,
            "object_fit": null,
            "object_position": null,
            "order": null,
            "overflow": null,
            "overflow_x": null,
            "overflow_y": null,
            "padding": null,
            "right": null,
            "top": null,
            "visibility": null,
            "width": null
          }
        },
        "0d735e243b5b4e08bfbc60cca4a3cc82": {
          "model_module": "@jupyter-widgets/controls",
          "model_name": "DescriptionStyleModel",
          "model_module_version": "1.5.0",
          "state": {
            "_model_module": "@jupyter-widgets/controls",
            "_model_module_version": "1.5.0",
            "_model_name": "DescriptionStyleModel",
            "_view_count": null,
            "_view_module": "@jupyter-widgets/base",
            "_view_module_version": "1.2.0",
            "_view_name": "StyleView",
            "description_width": ""
          }
        },
        "dccb5b597eeb45bcb14e3a7d1d276237": {
          "model_module": "@jupyter-widgets/base",
          "model_name": "LayoutModel",
          "model_module_version": "1.2.0",
          "state": {
            "_model_module": "@jupyter-widgets/base",
            "_model_module_version": "1.2.0",
            "_model_name": "LayoutModel",
            "_view_count": null,
            "_view_module": "@jupyter-widgets/base",
            "_view_module_version": "1.2.0",
            "_view_name": "LayoutView",
            "align_content": null,
            "align_items": null,
            "align_self": null,
            "border": null,
            "bottom": null,
            "display": null,
            "flex": null,
            "flex_flow": null,
            "grid_area": null,
            "grid_auto_columns": null,
            "grid_auto_flow": null,
            "grid_auto_rows": null,
            "grid_column": null,
            "grid_gap": null,
            "grid_row": null,
            "grid_template_areas": null,
            "grid_template_columns": null,
            "grid_template_rows": null,
            "height": null,
            "justify_content": null,
            "justify_items": null,
            "left": null,
            "margin": null,
            "max_height": null,
            "max_width": null,
            "min_height": null,
            "min_width": null,
            "object_fit": null,
            "object_position": null,
            "order": null,
            "overflow": null,
            "overflow_x": null,
            "overflow_y": null,
            "padding": null,
            "right": null,
            "top": null,
            "visibility": null,
            "width": null
          }
        },
        "7518751f8a2b4d83b6a28d6ed1dec842": {
          "model_module": "@jupyter-widgets/controls",
          "model_name": "ProgressStyleModel",
          "model_module_version": "1.5.0",
          "state": {
            "_model_module": "@jupyter-widgets/controls",
            "_model_module_version": "1.5.0",
            "_model_name": "ProgressStyleModel",
            "_view_count": null,
            "_view_module": "@jupyter-widgets/base",
            "_view_module_version": "1.2.0",
            "_view_name": "StyleView",
            "bar_color": null,
            "description_width": ""
          }
        },
        "e391176c1c004c4a9f82d4accdc2e404": {
          "model_module": "@jupyter-widgets/base",
          "model_name": "LayoutModel",
          "model_module_version": "1.2.0",
          "state": {
            "_model_module": "@jupyter-widgets/base",
            "_model_module_version": "1.2.0",
            "_model_name": "LayoutModel",
            "_view_count": null,
            "_view_module": "@jupyter-widgets/base",
            "_view_module_version": "1.2.0",
            "_view_name": "LayoutView",
            "align_content": null,
            "align_items": null,
            "align_self": null,
            "border": null,
            "bottom": null,
            "display": null,
            "flex": null,
            "flex_flow": null,
            "grid_area": null,
            "grid_auto_columns": null,
            "grid_auto_flow": null,
            "grid_auto_rows": null,
            "grid_column": null,
            "grid_gap": null,
            "grid_row": null,
            "grid_template_areas": null,
            "grid_template_columns": null,
            "grid_template_rows": null,
            "height": null,
            "justify_content": null,
            "justify_items": null,
            "left": null,
            "margin": null,
            "max_height": null,
            "max_width": null,
            "min_height": null,
            "min_width": null,
            "object_fit": null,
            "object_position": null,
            "order": null,
            "overflow": null,
            "overflow_x": null,
            "overflow_y": null,
            "padding": null,
            "right": null,
            "top": null,
            "visibility": null,
            "width": null
          }
        },
        "a79355af6bed4eea97cbc099fcfa2044": {
          "model_module": "@jupyter-widgets/controls",
          "model_name": "DescriptionStyleModel",
          "model_module_version": "1.5.0",
          "state": {
            "_model_module": "@jupyter-widgets/controls",
            "_model_module_version": "1.5.0",
            "_model_name": "DescriptionStyleModel",
            "_view_count": null,
            "_view_module": "@jupyter-widgets/base",
            "_view_module_version": "1.2.0",
            "_view_name": "StyleView",
            "description_width": ""
          }
        }
      }
    }
  },
  "nbformat": 4,
  "nbformat_minor": 0
}